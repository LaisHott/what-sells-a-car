{
  "cells": [
    {
      "cell_type": "markdown",
      "metadata": {
        "id": "cEjE7gfHhxHD"
      },
      "source": [
        "# O que vende um carro?\n",
        "\n",
        "Você é analista na Lista de Eixo de Manivela. Centenas de propagandas gratuitas de veículos são publicadas no seu site todos os dias. Você precisa estudar os dados coletados nos últimos anos e determinar quais fatores influenciaram o preço de um veículo."
      ]
    },
    {
      "cell_type": "markdown",
      "metadata": {
        "id": "WWY5oK5ShxHE"
      },
      "source": [
        "- Tendo em vista o objetivo do projeto em avaliar os fatores que influenciam o preço planejo realizar as seguintes ações:\n",
        "    - Utilizar os dados coletados nos últimos anos das propagandas de veículos publicadas no site.\n",
        "    - Antes de começar a análise vamos pré-processar os dados, removendo valores ausentes, duplicados e tratando possíveis outliers. Além de converter os tipos de dados adequados.\n",
        "    - Com os dados limpos vamos realizar uma análise exploratória dos dados, examinando as distribuições, correlações e visualizando os dados por meio de gráficos e estatísticas resumidas.\n",
        "    - Com base na análise dos dados, vamos identificar os fatores que têm maior influência no preço de um veículo."
      ]
    },
    {
      "cell_type": "markdown",
      "metadata": {
        "id": "WuqXCySdhxHE"
      },
      "source": [
        "## Iniciação"
      ]
    },
    {
      "cell_type": "code",
      "execution_count": null,
      "metadata": {
        "id": "H2XmtXdDhxHF"
      },
      "outputs": [],
      "source": [
        "# Carregando todas as bibliotecas\n",
        "import pandas as pd\n",
        "import matplotlib.pyplot as plt\n",
        "import numpy as np\n",
        "from datetime import date"
      ]
    },
    {
      "cell_type": "markdown",
      "metadata": {
        "id": "Rv9M9pkLhxHG"
      },
      "source": [
        "### Carregando dados"
      ]
    },
    {
      "cell_type": "code",
      "execution_count": null,
      "metadata": {
        "id": "YelK1ttfhxHG",
        "outputId": "88d361cd-fd2a-4d16-85ee-85c296b19bb2"
      },
      "outputs": [
        {
          "data": {
            "text/html": [
              "<div>\n",
              "<style scoped>\n",
              "    .dataframe tbody tr th:only-of-type {\n",
              "        vertical-align: middle;\n",
              "    }\n",
              "\n",
              "    .dataframe tbody tr th {\n",
              "        vertical-align: top;\n",
              "    }\n",
              "\n",
              "    .dataframe thead th {\n",
              "        text-align: right;\n",
              "    }\n",
              "</style>\n",
              "<table border=\"1\" class=\"dataframe\">\n",
              "  <thead>\n",
              "    <tr style=\"text-align: right;\">\n",
              "      <th></th>\n",
              "      <th>price</th>\n",
              "      <th>model_year</th>\n",
              "      <th>model</th>\n",
              "      <th>condition</th>\n",
              "      <th>cylinders</th>\n",
              "      <th>fuel</th>\n",
              "      <th>odometer</th>\n",
              "      <th>transmission</th>\n",
              "      <th>type</th>\n",
              "      <th>paint_color</th>\n",
              "      <th>is_4wd</th>\n",
              "      <th>date_posted</th>\n",
              "      <th>days_listed</th>\n",
              "    </tr>\n",
              "  </thead>\n",
              "  <tbody>\n",
              "    <tr>\n",
              "      <th>0</th>\n",
              "      <td>9400</td>\n",
              "      <td>2011.0</td>\n",
              "      <td>bmw x5</td>\n",
              "      <td>good</td>\n",
              "      <td>6.0</td>\n",
              "      <td>gas</td>\n",
              "      <td>145000.0</td>\n",
              "      <td>automatic</td>\n",
              "      <td>SUV</td>\n",
              "      <td>NaN</td>\n",
              "      <td>1.0</td>\n",
              "      <td>2018-06-23</td>\n",
              "      <td>19</td>\n",
              "    </tr>\n",
              "    <tr>\n",
              "      <th>1</th>\n",
              "      <td>25500</td>\n",
              "      <td>NaN</td>\n",
              "      <td>ford f-150</td>\n",
              "      <td>good</td>\n",
              "      <td>6.0</td>\n",
              "      <td>gas</td>\n",
              "      <td>88705.0</td>\n",
              "      <td>automatic</td>\n",
              "      <td>pickup</td>\n",
              "      <td>white</td>\n",
              "      <td>1.0</td>\n",
              "      <td>2018-10-19</td>\n",
              "      <td>50</td>\n",
              "    </tr>\n",
              "    <tr>\n",
              "      <th>2</th>\n",
              "      <td>5500</td>\n",
              "      <td>2013.0</td>\n",
              "      <td>hyundai sonata</td>\n",
              "      <td>like new</td>\n",
              "      <td>4.0</td>\n",
              "      <td>gas</td>\n",
              "      <td>110000.0</td>\n",
              "      <td>automatic</td>\n",
              "      <td>sedan</td>\n",
              "      <td>red</td>\n",
              "      <td>NaN</td>\n",
              "      <td>2019-02-07</td>\n",
              "      <td>79</td>\n",
              "    </tr>\n",
              "    <tr>\n",
              "      <th>3</th>\n",
              "      <td>1500</td>\n",
              "      <td>2003.0</td>\n",
              "      <td>ford f-150</td>\n",
              "      <td>fair</td>\n",
              "      <td>8.0</td>\n",
              "      <td>gas</td>\n",
              "      <td>NaN</td>\n",
              "      <td>automatic</td>\n",
              "      <td>pickup</td>\n",
              "      <td>NaN</td>\n",
              "      <td>NaN</td>\n",
              "      <td>2019-03-22</td>\n",
              "      <td>9</td>\n",
              "    </tr>\n",
              "    <tr>\n",
              "      <th>4</th>\n",
              "      <td>14900</td>\n",
              "      <td>2017.0</td>\n",
              "      <td>chrysler 200</td>\n",
              "      <td>excellent</td>\n",
              "      <td>4.0</td>\n",
              "      <td>gas</td>\n",
              "      <td>80903.0</td>\n",
              "      <td>automatic</td>\n",
              "      <td>sedan</td>\n",
              "      <td>black</td>\n",
              "      <td>NaN</td>\n",
              "      <td>2019-04-02</td>\n",
              "      <td>28</td>\n",
              "    </tr>\n",
              "    <tr>\n",
              "      <th>...</th>\n",
              "      <td>...</td>\n",
              "      <td>...</td>\n",
              "      <td>...</td>\n",
              "      <td>...</td>\n",
              "      <td>...</td>\n",
              "      <td>...</td>\n",
              "      <td>...</td>\n",
              "      <td>...</td>\n",
              "      <td>...</td>\n",
              "      <td>...</td>\n",
              "      <td>...</td>\n",
              "      <td>...</td>\n",
              "      <td>...</td>\n",
              "    </tr>\n",
              "    <tr>\n",
              "      <th>51520</th>\n",
              "      <td>9249</td>\n",
              "      <td>2013.0</td>\n",
              "      <td>nissan maxima</td>\n",
              "      <td>like new</td>\n",
              "      <td>6.0</td>\n",
              "      <td>gas</td>\n",
              "      <td>88136.0</td>\n",
              "      <td>automatic</td>\n",
              "      <td>sedan</td>\n",
              "      <td>black</td>\n",
              "      <td>NaN</td>\n",
              "      <td>2018-10-03</td>\n",
              "      <td>37</td>\n",
              "    </tr>\n",
              "    <tr>\n",
              "      <th>51521</th>\n",
              "      <td>2700</td>\n",
              "      <td>2002.0</td>\n",
              "      <td>honda civic</td>\n",
              "      <td>salvage</td>\n",
              "      <td>4.0</td>\n",
              "      <td>gas</td>\n",
              "      <td>181500.0</td>\n",
              "      <td>automatic</td>\n",
              "      <td>sedan</td>\n",
              "      <td>white</td>\n",
              "      <td>NaN</td>\n",
              "      <td>2018-11-14</td>\n",
              "      <td>22</td>\n",
              "    </tr>\n",
              "    <tr>\n",
              "      <th>51522</th>\n",
              "      <td>3950</td>\n",
              "      <td>2009.0</td>\n",
              "      <td>hyundai sonata</td>\n",
              "      <td>excellent</td>\n",
              "      <td>4.0</td>\n",
              "      <td>gas</td>\n",
              "      <td>128000.0</td>\n",
              "      <td>automatic</td>\n",
              "      <td>sedan</td>\n",
              "      <td>blue</td>\n",
              "      <td>NaN</td>\n",
              "      <td>2018-11-15</td>\n",
              "      <td>32</td>\n",
              "    </tr>\n",
              "    <tr>\n",
              "      <th>51523</th>\n",
              "      <td>7455</td>\n",
              "      <td>2013.0</td>\n",
              "      <td>toyota corolla</td>\n",
              "      <td>good</td>\n",
              "      <td>4.0</td>\n",
              "      <td>gas</td>\n",
              "      <td>139573.0</td>\n",
              "      <td>automatic</td>\n",
              "      <td>sedan</td>\n",
              "      <td>black</td>\n",
              "      <td>NaN</td>\n",
              "      <td>2018-07-02</td>\n",
              "      <td>71</td>\n",
              "    </tr>\n",
              "    <tr>\n",
              "      <th>51524</th>\n",
              "      <td>6300</td>\n",
              "      <td>2014.0</td>\n",
              "      <td>nissan altima</td>\n",
              "      <td>good</td>\n",
              "      <td>4.0</td>\n",
              "      <td>gas</td>\n",
              "      <td>NaN</td>\n",
              "      <td>automatic</td>\n",
              "      <td>sedan</td>\n",
              "      <td>NaN</td>\n",
              "      <td>NaN</td>\n",
              "      <td>2018-06-05</td>\n",
              "      <td>10</td>\n",
              "    </tr>\n",
              "  </tbody>\n",
              "</table>\n",
              "<p>51525 rows × 13 columns</p>\n",
              "</div>"
            ],
            "text/plain": [
              "       price  model_year           model  condition  cylinders fuel  odometer  \\\n",
              "0       9400      2011.0          bmw x5       good        6.0  gas  145000.0   \n",
              "1      25500         NaN      ford f-150       good        6.0  gas   88705.0   \n",
              "2       5500      2013.0  hyundai sonata   like new        4.0  gas  110000.0   \n",
              "3       1500      2003.0      ford f-150       fair        8.0  gas       NaN   \n",
              "4      14900      2017.0    chrysler 200  excellent        4.0  gas   80903.0   \n",
              "...      ...         ...             ...        ...        ...  ...       ...   \n",
              "51520   9249      2013.0   nissan maxima   like new        6.0  gas   88136.0   \n",
              "51521   2700      2002.0     honda civic    salvage        4.0  gas  181500.0   \n",
              "51522   3950      2009.0  hyundai sonata  excellent        4.0  gas  128000.0   \n",
              "51523   7455      2013.0  toyota corolla       good        4.0  gas  139573.0   \n",
              "51524   6300      2014.0   nissan altima       good        4.0  gas       NaN   \n",
              "\n",
              "      transmission    type paint_color  is_4wd date_posted  days_listed  \n",
              "0        automatic     SUV         NaN     1.0  2018-06-23           19  \n",
              "1        automatic  pickup       white     1.0  2018-10-19           50  \n",
              "2        automatic   sedan         red     NaN  2019-02-07           79  \n",
              "3        automatic  pickup         NaN     NaN  2019-03-22            9  \n",
              "4        automatic   sedan       black     NaN  2019-04-02           28  \n",
              "...            ...     ...         ...     ...         ...          ...  \n",
              "51520    automatic   sedan       black     NaN  2018-10-03           37  \n",
              "51521    automatic   sedan       white     NaN  2018-11-14           22  \n",
              "51522    automatic   sedan        blue     NaN  2018-11-15           32  \n",
              "51523    automatic   sedan       black     NaN  2018-07-02           71  \n",
              "51524    automatic   sedan         NaN     NaN  2018-06-05           10  \n",
              "\n",
              "[51525 rows x 13 columns]"
            ]
          },
          "execution_count": 333,
          "metadata": {},
          "output_type": "execute_result"
        }
      ],
      "source": [
        "# Carregue o arquivo com os dados em um DataFrame\n",
        "data = pd.read_csv('/datasets/vehicles_us.csv')\n",
        "data\n"
      ]
    },
    {
      "cell_type": "code",
      "execution_count": null,
      "metadata": {
        "id": "GmhQFcK9hxHI",
        "outputId": "93cf217a-6fef-4269-8d97-b5454e916a98"
      },
      "outputs": [
        {
          "data": {
            "text/plain": [
              "(51525, 13)"
            ]
          },
          "execution_count": 334,
          "metadata": {},
          "output_type": "execute_result"
        }
      ],
      "source": [
        "#Verificando o tamanho do dataframe\n",
        "data.shape"
      ]
    },
    {
      "cell_type": "markdown",
      "metadata": {
        "id": "TkziooYXhxHI"
      },
      "source": [
        "### Explorando os dados iniciais"
      ]
    },
    {
      "cell_type": "markdown",
      "metadata": {
        "id": "stLoDlyAhxHJ"
      },
      "source": [
        "O conjunto de dados contém os seguintes campos:\n",
        "- `price`\n",
        "- `model_year`\n",
        "- `model`\n",
        "- `condition`\n",
        "- `cylinders`\n",
        "- `fuel` — gasolina, diesel etc.\n",
        "- `odometer` — a quilometragem do veículo quando a propaganda foi publicada\n",
        "- `transmission`\n",
        "- `paint_color`\n",
        "- `is_4wd` — Se o veículo é 4 por 4 (tipo Booleano)\n",
        "- `date_posted` — a data que a propaganda foi publicada\n",
        "- `days_listed` — dias desde a publicação até a retirada\n"
      ]
    },
    {
      "cell_type": "code",
      "execution_count": null,
      "metadata": {
        "id": "XuIbr3jghxHJ",
        "outputId": "77f9a9b9-f2f2-4d45-b71b-3e2d073ae9c5"
      },
      "outputs": [
        {
          "name": "stdout",
          "output_type": "stream",
          "text": [
            "<class 'pandas.core.frame.DataFrame'>\n",
            "RangeIndex: 51525 entries, 0 to 51524\n",
            "Data columns (total 13 columns):\n",
            " #   Column        Non-Null Count  Dtype  \n",
            "---  ------        --------------  -----  \n",
            " 0   price         51525 non-null  int64  \n",
            " 1   model_year    47906 non-null  float64\n",
            " 2   model         51525 non-null  object \n",
            " 3   condition     51525 non-null  object \n",
            " 4   cylinders     46265 non-null  float64\n",
            " 5   fuel          51525 non-null  object \n",
            " 6   odometer      43633 non-null  float64\n",
            " 7   transmission  51525 non-null  object \n",
            " 8   type          51525 non-null  object \n",
            " 9   paint_color   42258 non-null  object \n",
            " 10  is_4wd        25572 non-null  float64\n",
            " 11  date_posted   51525 non-null  object \n",
            " 12  days_listed   51525 non-null  int64  \n",
            "dtypes: float64(4), int64(2), object(7)\n",
            "memory usage: 5.1+ MB\n"
          ]
        }
      ],
      "source": [
        "# imprima as informações gerais/resumidas sobre o DataFrame\n",
        "data.info()\n"
      ]
    },
    {
      "cell_type": "code",
      "execution_count": null,
      "metadata": {
        "id": "y2scUyXwhxHK",
        "outputId": "ed634288-720d-4804-db07-4d4c85f7dd98"
      },
      "outputs": [
        {
          "data": {
            "text/html": [
              "<div>\n",
              "<style scoped>\n",
              "    .dataframe tbody tr th:only-of-type {\n",
              "        vertical-align: middle;\n",
              "    }\n",
              "\n",
              "    .dataframe tbody tr th {\n",
              "        vertical-align: top;\n",
              "    }\n",
              "\n",
              "    .dataframe thead th {\n",
              "        text-align: right;\n",
              "    }\n",
              "</style>\n",
              "<table border=\"1\" class=\"dataframe\">\n",
              "  <thead>\n",
              "    <tr style=\"text-align: right;\">\n",
              "      <th></th>\n",
              "      <th>price</th>\n",
              "      <th>model_year</th>\n",
              "      <th>model</th>\n",
              "      <th>condition</th>\n",
              "      <th>cylinders</th>\n",
              "      <th>fuel</th>\n",
              "      <th>odometer</th>\n",
              "      <th>transmission</th>\n",
              "      <th>type</th>\n",
              "      <th>paint_color</th>\n",
              "      <th>is_4wd</th>\n",
              "      <th>date_posted</th>\n",
              "      <th>days_listed</th>\n",
              "    </tr>\n",
              "  </thead>\n",
              "  <tbody>\n",
              "    <tr>\n",
              "      <th>0</th>\n",
              "      <td>9400</td>\n",
              "      <td>2011.0</td>\n",
              "      <td>bmw x5</td>\n",
              "      <td>good</td>\n",
              "      <td>6.0</td>\n",
              "      <td>gas</td>\n",
              "      <td>145000.0</td>\n",
              "      <td>automatic</td>\n",
              "      <td>SUV</td>\n",
              "      <td>NaN</td>\n",
              "      <td>1.0</td>\n",
              "      <td>2018-06-23</td>\n",
              "      <td>19</td>\n",
              "    </tr>\n",
              "    <tr>\n",
              "      <th>1</th>\n",
              "      <td>25500</td>\n",
              "      <td>NaN</td>\n",
              "      <td>ford f-150</td>\n",
              "      <td>good</td>\n",
              "      <td>6.0</td>\n",
              "      <td>gas</td>\n",
              "      <td>88705.0</td>\n",
              "      <td>automatic</td>\n",
              "      <td>pickup</td>\n",
              "      <td>white</td>\n",
              "      <td>1.0</td>\n",
              "      <td>2018-10-19</td>\n",
              "      <td>50</td>\n",
              "    </tr>\n",
              "    <tr>\n",
              "      <th>2</th>\n",
              "      <td>5500</td>\n",
              "      <td>2013.0</td>\n",
              "      <td>hyundai sonata</td>\n",
              "      <td>like new</td>\n",
              "      <td>4.0</td>\n",
              "      <td>gas</td>\n",
              "      <td>110000.0</td>\n",
              "      <td>automatic</td>\n",
              "      <td>sedan</td>\n",
              "      <td>red</td>\n",
              "      <td>NaN</td>\n",
              "      <td>2019-02-07</td>\n",
              "      <td>79</td>\n",
              "    </tr>\n",
              "    <tr>\n",
              "      <th>3</th>\n",
              "      <td>1500</td>\n",
              "      <td>2003.0</td>\n",
              "      <td>ford f-150</td>\n",
              "      <td>fair</td>\n",
              "      <td>8.0</td>\n",
              "      <td>gas</td>\n",
              "      <td>NaN</td>\n",
              "      <td>automatic</td>\n",
              "      <td>pickup</td>\n",
              "      <td>NaN</td>\n",
              "      <td>NaN</td>\n",
              "      <td>2019-03-22</td>\n",
              "      <td>9</td>\n",
              "    </tr>\n",
              "    <tr>\n",
              "      <th>4</th>\n",
              "      <td>14900</td>\n",
              "      <td>2017.0</td>\n",
              "      <td>chrysler 200</td>\n",
              "      <td>excellent</td>\n",
              "      <td>4.0</td>\n",
              "      <td>gas</td>\n",
              "      <td>80903.0</td>\n",
              "      <td>automatic</td>\n",
              "      <td>sedan</td>\n",
              "      <td>black</td>\n",
              "      <td>NaN</td>\n",
              "      <td>2019-04-02</td>\n",
              "      <td>28</td>\n",
              "    </tr>\n",
              "    <tr>\n",
              "      <th>5</th>\n",
              "      <td>14990</td>\n",
              "      <td>2014.0</td>\n",
              "      <td>chrysler 300</td>\n",
              "      <td>excellent</td>\n",
              "      <td>6.0</td>\n",
              "      <td>gas</td>\n",
              "      <td>57954.0</td>\n",
              "      <td>automatic</td>\n",
              "      <td>sedan</td>\n",
              "      <td>black</td>\n",
              "      <td>1.0</td>\n",
              "      <td>2018-06-20</td>\n",
              "      <td>15</td>\n",
              "    </tr>\n",
              "    <tr>\n",
              "      <th>6</th>\n",
              "      <td>12990</td>\n",
              "      <td>2015.0</td>\n",
              "      <td>toyota camry</td>\n",
              "      <td>excellent</td>\n",
              "      <td>4.0</td>\n",
              "      <td>gas</td>\n",
              "      <td>79212.0</td>\n",
              "      <td>automatic</td>\n",
              "      <td>sedan</td>\n",
              "      <td>white</td>\n",
              "      <td>NaN</td>\n",
              "      <td>2018-12-27</td>\n",
              "      <td>73</td>\n",
              "    </tr>\n",
              "    <tr>\n",
              "      <th>7</th>\n",
              "      <td>15990</td>\n",
              "      <td>2013.0</td>\n",
              "      <td>honda pilot</td>\n",
              "      <td>excellent</td>\n",
              "      <td>6.0</td>\n",
              "      <td>gas</td>\n",
              "      <td>109473.0</td>\n",
              "      <td>automatic</td>\n",
              "      <td>SUV</td>\n",
              "      <td>black</td>\n",
              "      <td>1.0</td>\n",
              "      <td>2019-01-07</td>\n",
              "      <td>68</td>\n",
              "    </tr>\n",
              "    <tr>\n",
              "      <th>8</th>\n",
              "      <td>11500</td>\n",
              "      <td>2012.0</td>\n",
              "      <td>kia sorento</td>\n",
              "      <td>excellent</td>\n",
              "      <td>4.0</td>\n",
              "      <td>gas</td>\n",
              "      <td>104174.0</td>\n",
              "      <td>automatic</td>\n",
              "      <td>SUV</td>\n",
              "      <td>NaN</td>\n",
              "      <td>1.0</td>\n",
              "      <td>2018-07-16</td>\n",
              "      <td>19</td>\n",
              "    </tr>\n",
              "    <tr>\n",
              "      <th>9</th>\n",
              "      <td>9200</td>\n",
              "      <td>2008.0</td>\n",
              "      <td>honda pilot</td>\n",
              "      <td>excellent</td>\n",
              "      <td>NaN</td>\n",
              "      <td>gas</td>\n",
              "      <td>147191.0</td>\n",
              "      <td>automatic</td>\n",
              "      <td>SUV</td>\n",
              "      <td>blue</td>\n",
              "      <td>1.0</td>\n",
              "      <td>2019-02-15</td>\n",
              "      <td>17</td>\n",
              "    </tr>\n",
              "    <tr>\n",
              "      <th>10</th>\n",
              "      <td>19500</td>\n",
              "      <td>2011.0</td>\n",
              "      <td>chevrolet silverado 1500</td>\n",
              "      <td>excellent</td>\n",
              "      <td>8.0</td>\n",
              "      <td>gas</td>\n",
              "      <td>128413.0</td>\n",
              "      <td>automatic</td>\n",
              "      <td>pickup</td>\n",
              "      <td>black</td>\n",
              "      <td>1.0</td>\n",
              "      <td>2018-09-17</td>\n",
              "      <td>38</td>\n",
              "    </tr>\n",
              "    <tr>\n",
              "      <th>11</th>\n",
              "      <td>8990</td>\n",
              "      <td>2012.0</td>\n",
              "      <td>honda accord</td>\n",
              "      <td>excellent</td>\n",
              "      <td>4.0</td>\n",
              "      <td>gas</td>\n",
              "      <td>111142.0</td>\n",
              "      <td>automatic</td>\n",
              "      <td>sedan</td>\n",
              "      <td>grey</td>\n",
              "      <td>NaN</td>\n",
              "      <td>2019-03-28</td>\n",
              "      <td>29</td>\n",
              "    </tr>\n",
              "    <tr>\n",
              "      <th>12</th>\n",
              "      <td>18990</td>\n",
              "      <td>2012.0</td>\n",
              "      <td>ram 1500</td>\n",
              "      <td>excellent</td>\n",
              "      <td>8.0</td>\n",
              "      <td>gas</td>\n",
              "      <td>140742.0</td>\n",
              "      <td>automatic</td>\n",
              "      <td>pickup</td>\n",
              "      <td>NaN</td>\n",
              "      <td>1.0</td>\n",
              "      <td>2019-04-02</td>\n",
              "      <td>37</td>\n",
              "    </tr>\n",
              "    <tr>\n",
              "      <th>13</th>\n",
              "      <td>16500</td>\n",
              "      <td>2018.0</td>\n",
              "      <td>hyundai sonata</td>\n",
              "      <td>excellent</td>\n",
              "      <td>4.0</td>\n",
              "      <td>gas</td>\n",
              "      <td>22104.0</td>\n",
              "      <td>automatic</td>\n",
              "      <td>sedan</td>\n",
              "      <td>silver</td>\n",
              "      <td>NaN</td>\n",
              "      <td>2019-01-14</td>\n",
              "      <td>29</td>\n",
              "    </tr>\n",
              "    <tr>\n",
              "      <th>14</th>\n",
              "      <td>12990</td>\n",
              "      <td>2009.0</td>\n",
              "      <td>gmc yukon</td>\n",
              "      <td>excellent</td>\n",
              "      <td>8.0</td>\n",
              "      <td>gas</td>\n",
              "      <td>132285.0</td>\n",
              "      <td>automatic</td>\n",
              "      <td>SUV</td>\n",
              "      <td>black</td>\n",
              "      <td>1.0</td>\n",
              "      <td>2019-01-31</td>\n",
              "      <td>24</td>\n",
              "    </tr>\n",
              "  </tbody>\n",
              "</table>\n",
              "</div>"
            ],
            "text/plain": [
              "    price  model_year                     model  condition  cylinders fuel  \\\n",
              "0    9400      2011.0                    bmw x5       good        6.0  gas   \n",
              "1   25500         NaN                ford f-150       good        6.0  gas   \n",
              "2    5500      2013.0            hyundai sonata   like new        4.0  gas   \n",
              "3    1500      2003.0                ford f-150       fair        8.0  gas   \n",
              "4   14900      2017.0              chrysler 200  excellent        4.0  gas   \n",
              "5   14990      2014.0              chrysler 300  excellent        6.0  gas   \n",
              "6   12990      2015.0              toyota camry  excellent        4.0  gas   \n",
              "7   15990      2013.0               honda pilot  excellent        6.0  gas   \n",
              "8   11500      2012.0               kia sorento  excellent        4.0  gas   \n",
              "9    9200      2008.0               honda pilot  excellent        NaN  gas   \n",
              "10  19500      2011.0  chevrolet silverado 1500  excellent        8.0  gas   \n",
              "11   8990      2012.0              honda accord  excellent        4.0  gas   \n",
              "12  18990      2012.0                  ram 1500  excellent        8.0  gas   \n",
              "13  16500      2018.0            hyundai sonata  excellent        4.0  gas   \n",
              "14  12990      2009.0                 gmc yukon  excellent        8.0  gas   \n",
              "\n",
              "    odometer transmission    type paint_color  is_4wd date_posted  days_listed  \n",
              "0   145000.0    automatic     SUV         NaN     1.0  2018-06-23           19  \n",
              "1    88705.0    automatic  pickup       white     1.0  2018-10-19           50  \n",
              "2   110000.0    automatic   sedan         red     NaN  2019-02-07           79  \n",
              "3        NaN    automatic  pickup         NaN     NaN  2019-03-22            9  \n",
              "4    80903.0    automatic   sedan       black     NaN  2019-04-02           28  \n",
              "5    57954.0    automatic   sedan       black     1.0  2018-06-20           15  \n",
              "6    79212.0    automatic   sedan       white     NaN  2018-12-27           73  \n",
              "7   109473.0    automatic     SUV       black     1.0  2019-01-07           68  \n",
              "8   104174.0    automatic     SUV         NaN     1.0  2018-07-16           19  \n",
              "9   147191.0    automatic     SUV        blue     1.0  2019-02-15           17  \n",
              "10  128413.0    automatic  pickup       black     1.0  2018-09-17           38  \n",
              "11  111142.0    automatic   sedan        grey     NaN  2019-03-28           29  \n",
              "12  140742.0    automatic  pickup         NaN     1.0  2019-04-02           37  \n",
              "13   22104.0    automatic   sedan      silver     NaN  2019-01-14           29  \n",
              "14  132285.0    automatic     SUV       black     1.0  2019-01-31           24  "
            ]
          },
          "execution_count": 336,
          "metadata": {},
          "output_type": "execute_result"
        }
      ],
      "source": [
        "# imprima uma amostragem dos dados\n",
        "data.head(15)"
      ]
    },
    {
      "cell_type": "code",
      "execution_count": null,
      "metadata": {
        "id": "hB_YviYthxHL",
        "outputId": "617f3447-95d6-4d92-ca13-b0e41964c894"
      },
      "outputs": [
        {
          "name": "stdout",
          "output_type": "stream",
          "text": [
            "['acura tl', 'bmw x5', 'buick enclave', 'cadillac escalade', 'chevrolet camaro', 'chevrolet camaro lt coupe 2d', 'chevrolet colorado', 'chevrolet corvette', 'chevrolet cruze', 'chevrolet equinox', 'chevrolet impala', 'chevrolet malibu', 'chevrolet silverado', 'chevrolet silverado 1500', 'chevrolet silverado 1500 crew', 'chevrolet silverado 2500hd', 'chevrolet silverado 3500hd', 'chevrolet suburban', 'chevrolet tahoe', 'chevrolet trailblazer', 'chevrolet traverse', 'chrysler 200', 'chrysler 300', 'chrysler town & country', 'dodge charger', 'dodge dakota', 'dodge grand caravan', 'ford econoline', 'ford edge', 'ford escape', 'ford expedition', 'ford explorer', 'ford f-150', 'ford f-250', 'ford f-250 sd', 'ford f-250 super duty', 'ford f-350 sd', 'ford f150', 'ford f150 supercrew cab xlt', 'ford f250', 'ford f250 super duty', 'ford f350', 'ford f350 super duty', 'ford focus', 'ford focus se', 'ford fusion', 'ford fusion se', 'ford mustang', 'ford mustang gt coupe 2d', 'ford ranger', 'ford taurus', 'gmc acadia', 'gmc sierra', 'gmc sierra 1500', 'gmc sierra 2500hd', 'gmc yukon', 'honda accord', 'honda civic', 'honda civic lx', 'honda cr-v', 'honda odyssey', 'honda pilot', 'hyundai elantra', 'hyundai santa fe', 'hyundai sonata', 'jeep cherokee', 'jeep grand cherokee', 'jeep grand cherokee laredo', 'jeep liberty', 'jeep wrangler', 'jeep wrangler unlimited', 'kia sorento', 'kia soul', 'mercedes-benz benze sprinter 2500', 'nissan altima', 'nissan frontier', 'nissan frontier crew cab sv', 'nissan maxima', 'nissan murano', 'nissan rogue', 'nissan sentra', 'nissan versa', 'ram 1500', 'ram 2500', 'ram 3500', 'subaru forester', 'subaru impreza', 'subaru outback', 'toyota 4runner', 'toyota camry', 'toyota camry le', 'toyota corolla', 'toyota highlander', 'toyota prius', 'toyota rav4', 'toyota sienna', 'toyota tacoma', 'toyota tundra', 'volkswagen jetta', 'volkswagen passat']\n"
          ]
        }
      ],
      "source": [
        "#Verificando se existem duplicatas implícetas\n",
        "print(sorted(data['model'].unique()))"
      ]
    },
    {
      "cell_type": "code",
      "execution_count": null,
      "metadata": {
        "id": "pox9NENPhxHL",
        "outputId": "06cafe02-16c2-41df-8d04-b045bc309cb6"
      },
      "outputs": [
        {
          "data": {
            "text/plain": [
              "0"
            ]
          },
          "execution_count": 338,
          "metadata": {},
          "output_type": "execute_result"
        }
      ],
      "source": [
        "#Verificando se existem duplicatas implícetas\n",
        "data.duplicated().sum()"
      ]
    },
    {
      "cell_type": "markdown",
      "metadata": {
        "id": "zeafQOy5hxHM"
      },
      "source": [
        "- Ao analisar a informação geral e a amostragem dos dados, identificamos alguns problemas que podem requerer investigação e alterações adicionais:\n",
        "    1. **Valores ausentes**: É possível observar que existem variáveis com valores ausentes, como `model_year`, `cylinder`, `odometer`, `paint_color` e `is_4wd`. Esses valores ausentes podem impactar a análise e interpretação dos dados. Precisamos avaliar a razão dos valores ausentes e decidir como lidar com eles. Pode ser necessário realizar imputação de valores ou considerar a exclusão dessas observações, dependendo da importância das variáveis ausentes para a análise.\n",
        "    2. **Tipo de dado incorreto na coluna 'model_year'**: A coluna `model_year` está sendo tratada como um tipo de dado flutuante, o que não faz sentido, já que se refere ao ano do veículo. Precisamos corrigir o tipo de dado para o formato correto, como inteiro ou data.\n",
        "    3. **Tipo de dado incorreto na coluna 'date_posted'**: A coluna `date_posted` está sendo tratada como um objeto (tipo de dado 'object'), embora represente uma coluna de data. É necessário corrigir o tipo de dado para o formato de data adequado, como 'datetime', para facilitar a manipulação e análise dos dados relacionados a datas."
      ]
    },
    {
      "cell_type": "markdown",
      "metadata": {
        "id": "l_1Qg8oRhxHM"
      },
      "source": [
        "###### Tipos de dados inapropriados\n",
        "- As colunas citadas estão com tipos de dados inapropriados. Em particular, a coluna `model_year` está com tipo de dado float, quando deveria ser um tipo de dado inteiro, já que representa o ano do veículo. Além disso, a coluna `date_posted` está sendo tratada como um tipo de dado 'object', mas deveria ser um tipo de dado de data, como 'datetime'. Esses tipos de dados inapropriados podem dificultar a manipulação e análise adequada das colunas em questão. É importante corrigir esses tipos de dados para garantir a consistência e a correta interpretação dos dados."
      ]
    },
    {
      "cell_type": "markdown",
      "metadata": {
        "id": "KMYzqvsihxHM"
      },
      "source": [
        "###### Valores ausentes\n",
        "- Existem valores ausentes em algumas colunas, sendo elas: `model_year`, `cylinders`, `paint_color`, `odometer` e `is_4wd`. As colunas `paint_color` e `is_4wd` apresentam o maior número de valores ausentes neste dataframe."
      ]
    },
    {
      "cell_type": "markdown",
      "metadata": {
        "id": "Pvr7lDbxhxHM"
      },
      "source": [
        "### Conclusões e próximos passos"
      ]
    },
    {
      "cell_type": "markdown",
      "metadata": {
        "id": "vVRm3-PJhxHN"
      },
      "source": [
        "- Sobre os dados iniciais podemos concluir que existem algumas inconsistências e problemas nos dados. A presença de valores ausentes em algumas colunas requer uma análise mais detalhada e um tratamento adequado. Além disso, a discrepância nos tipos de dados em relação ao propósito das colunas também é uma questão que precisa ser abordada.\n",
        "\n",
        "\n",
        "- Com base nessas observações, os próximos passos podem incluir:\n",
        "    - **Tratamento dos valores ausentes**: É importante investigar a razão dos valores ausentes e decidir a melhor abordagem para lidar com eles. Isso pode envolver a imputação de valores (por exemplo, substituindo-os pela média, mediana ou moda) ou a remoção das instâncias que possuem valores ausentes, dependendo da natureza dos dados e do objetivo da análise.\n",
        "    - **Conversão dos tipos de dados**: As colunas que contêm valores numéricos, mas estão com tipo float, podem ser convertidas para o tipo de dados inteiro, se apropriado. Isso ajudará a garantir que as operações e análises subsequentes sejam realizadas corretamente.\n",
        "    - **Análise mais aprofundada**: Além dessas questões iniciais, é importante realizar uma análise mais aprofundada dos dados para entender as distribuições, identificar possíveis outliers, relacionamentos entre as variáveis e outros padrões relevantes. Isso pode envolver a geração de estatísticas descritivas, gráficos e a aplicação de técnicas estatísticas mais avançadas, dependendo dos objetivos da análise."
      ]
    },
    {
      "cell_type": "markdown",
      "metadata": {
        "id": "oGab9K1GhxHN"
      },
      "source": [
        "## Cuide dos valores ausentes (se houver algum)"
      ]
    },
    {
      "cell_type": "markdown",
      "metadata": {
        "id": "HLxJc7oXhxHN"
      },
      "source": [
        "- Vamos estudar os valores ausentes para cada coluna em mais detalhes e depois decidir o que fazer com eles, baseado em hipóteses significativas."
      ]
    },
    {
      "cell_type": "code",
      "execution_count": null,
      "metadata": {
        "id": "ddI8FMMuhxHO",
        "outputId": "080c20b7-f4cd-4b95-d1d7-64bfe57a11d8",
        "scrolled": true
      },
      "outputs": [
        {
          "data": {
            "text/plain": [
              "price               0\n",
              "model_year       3619\n",
              "model               0\n",
              "condition           0\n",
              "cylinders        5260\n",
              "fuel                0\n",
              "odometer         7892\n",
              "transmission        0\n",
              "type                0\n",
              "paint_color      9267\n",
              "is_4wd          25953\n",
              "date_posted         0\n",
              "days_listed         0\n",
              "dtype: int64"
            ]
          },
          "execution_count": 339,
          "metadata": {},
          "output_type": "execute_result"
        }
      ],
      "source": [
        "#Verificando os valores ausentes\n",
        "data.isna().sum()"
      ]
    },
    {
      "cell_type": "code",
      "execution_count": null,
      "metadata": {
        "id": "8vyjMua1hxHO",
        "outputId": "a1f2e0a8-f5c2-4323-94aa-2e488d01fa1d"
      },
      "outputs": [
        {
          "data": {
            "text/html": [
              "<div>\n",
              "<style scoped>\n",
              "    .dataframe tbody tr th:only-of-type {\n",
              "        vertical-align: middle;\n",
              "    }\n",
              "\n",
              "    .dataframe tbody tr th {\n",
              "        vertical-align: top;\n",
              "    }\n",
              "\n",
              "    .dataframe thead th {\n",
              "        text-align: right;\n",
              "    }\n",
              "</style>\n",
              "<table border=\"1\" class=\"dataframe\">\n",
              "  <thead>\n",
              "    <tr style=\"text-align: right;\">\n",
              "      <th></th>\n",
              "      <th>price</th>\n",
              "      <th>model_year</th>\n",
              "      <th>model</th>\n",
              "      <th>condition</th>\n",
              "      <th>cylinders</th>\n",
              "      <th>fuel</th>\n",
              "      <th>odometer</th>\n",
              "      <th>transmission</th>\n",
              "      <th>type</th>\n",
              "      <th>paint_color</th>\n",
              "      <th>is_4wd</th>\n",
              "      <th>date_posted</th>\n",
              "      <th>days_listed</th>\n",
              "    </tr>\n",
              "  </thead>\n",
              "  <tbody>\n",
              "    <tr>\n",
              "      <th>1</th>\n",
              "      <td>25500</td>\n",
              "      <td>NaN</td>\n",
              "      <td>ford f-150</td>\n",
              "      <td>good</td>\n",
              "      <td>6.0</td>\n",
              "      <td>gas</td>\n",
              "      <td>88705.0</td>\n",
              "      <td>automatic</td>\n",
              "      <td>pickup</td>\n",
              "      <td>white</td>\n",
              "      <td>1.0</td>\n",
              "      <td>2018-10-19</td>\n",
              "      <td>50</td>\n",
              "    </tr>\n",
              "    <tr>\n",
              "      <th>20</th>\n",
              "      <td>6990</td>\n",
              "      <td>NaN</td>\n",
              "      <td>chevrolet tahoe</td>\n",
              "      <td>excellent</td>\n",
              "      <td>8.0</td>\n",
              "      <td>gas</td>\n",
              "      <td>147485.0</td>\n",
              "      <td>automatic</td>\n",
              "      <td>SUV</td>\n",
              "      <td>silver</td>\n",
              "      <td>1.0</td>\n",
              "      <td>2018-08-05</td>\n",
              "      <td>28</td>\n",
              "    </tr>\n",
              "    <tr>\n",
              "      <th>65</th>\n",
              "      <td>12800</td>\n",
              "      <td>NaN</td>\n",
              "      <td>ford f-150</td>\n",
              "      <td>excellent</td>\n",
              "      <td>6.0</td>\n",
              "      <td>gas</td>\n",
              "      <td>108500.0</td>\n",
              "      <td>automatic</td>\n",
              "      <td>pickup</td>\n",
              "      <td>white</td>\n",
              "      <td>NaN</td>\n",
              "      <td>2018-09-23</td>\n",
              "      <td>15</td>\n",
              "    </tr>\n",
              "    <tr>\n",
              "      <th>69</th>\n",
              "      <td>7800</td>\n",
              "      <td>NaN</td>\n",
              "      <td>ford f-150</td>\n",
              "      <td>like new</td>\n",
              "      <td>8.0</td>\n",
              "      <td>gas</td>\n",
              "      <td>97510.0</td>\n",
              "      <td>automatic</td>\n",
              "      <td>truck</td>\n",
              "      <td>white</td>\n",
              "      <td>1.0</td>\n",
              "      <td>2019-02-20</td>\n",
              "      <td>39</td>\n",
              "    </tr>\n",
              "    <tr>\n",
              "      <th>72</th>\n",
              "      <td>3650</td>\n",
              "      <td>NaN</td>\n",
              "      <td>subaru impreza</td>\n",
              "      <td>excellent</td>\n",
              "      <td>NaN</td>\n",
              "      <td>gas</td>\n",
              "      <td>74000.0</td>\n",
              "      <td>automatic</td>\n",
              "      <td>sedan</td>\n",
              "      <td>blue</td>\n",
              "      <td>1.0</td>\n",
              "      <td>2018-08-07</td>\n",
              "      <td>60</td>\n",
              "    </tr>\n",
              "    <tr>\n",
              "      <th>...</th>\n",
              "      <td>...</td>\n",
              "      <td>...</td>\n",
              "      <td>...</td>\n",
              "      <td>...</td>\n",
              "      <td>...</td>\n",
              "      <td>...</td>\n",
              "      <td>...</td>\n",
              "      <td>...</td>\n",
              "      <td>...</td>\n",
              "      <td>...</td>\n",
              "      <td>...</td>\n",
              "      <td>...</td>\n",
              "      <td>...</td>\n",
              "    </tr>\n",
              "    <tr>\n",
              "      <th>51464</th>\n",
              "      <td>8890</td>\n",
              "      <td>NaN</td>\n",
              "      <td>ford f250 super duty</td>\n",
              "      <td>good</td>\n",
              "      <td>8.0</td>\n",
              "      <td>gas</td>\n",
              "      <td>135778.0</td>\n",
              "      <td>automatic</td>\n",
              "      <td>truck</td>\n",
              "      <td>red</td>\n",
              "      <td>1.0</td>\n",
              "      <td>2018-11-28</td>\n",
              "      <td>24</td>\n",
              "    </tr>\n",
              "    <tr>\n",
              "      <th>51465</th>\n",
              "      <td>34595</td>\n",
              "      <td>NaN</td>\n",
              "      <td>gmc yukon</td>\n",
              "      <td>excellent</td>\n",
              "      <td>8.0</td>\n",
              "      <td>gas</td>\n",
              "      <td>86456.0</td>\n",
              "      <td>automatic</td>\n",
              "      <td>SUV</td>\n",
              "      <td>silver</td>\n",
              "      <td>1.0</td>\n",
              "      <td>2019-04-18</td>\n",
              "      <td>13</td>\n",
              "    </tr>\n",
              "    <tr>\n",
              "      <th>51487</th>\n",
              "      <td>1495</td>\n",
              "      <td>NaN</td>\n",
              "      <td>ford f-150</td>\n",
              "      <td>fair</td>\n",
              "      <td>6.0</td>\n",
              "      <td>gas</td>\n",
              "      <td>15804.0</td>\n",
              "      <td>manual</td>\n",
              "      <td>truck</td>\n",
              "      <td>white</td>\n",
              "      <td>1.0</td>\n",
              "      <td>2018-09-18</td>\n",
              "      <td>56</td>\n",
              "    </tr>\n",
              "    <tr>\n",
              "      <th>51488</th>\n",
              "      <td>21900</td>\n",
              "      <td>NaN</td>\n",
              "      <td>chevrolet silverado 3500hd</td>\n",
              "      <td>excellent</td>\n",
              "      <td>8.0</td>\n",
              "      <td>diesel</td>\n",
              "      <td>203000.0</td>\n",
              "      <td>automatic</td>\n",
              "      <td>truck</td>\n",
              "      <td>white</td>\n",
              "      <td>1.0</td>\n",
              "      <td>2018-12-27</td>\n",
              "      <td>37</td>\n",
              "    </tr>\n",
              "    <tr>\n",
              "      <th>51508</th>\n",
              "      <td>4950</td>\n",
              "      <td>NaN</td>\n",
              "      <td>chrysler town &amp; country</td>\n",
              "      <td>excellent</td>\n",
              "      <td>6.0</td>\n",
              "      <td>gas</td>\n",
              "      <td>150000.0</td>\n",
              "      <td>automatic</td>\n",
              "      <td>mini-van</td>\n",
              "      <td>silver</td>\n",
              "      <td>NaN</td>\n",
              "      <td>2018-06-30</td>\n",
              "      <td>48</td>\n",
              "    </tr>\n",
              "  </tbody>\n",
              "</table>\n",
              "<p>3619 rows × 13 columns</p>\n",
              "</div>"
            ],
            "text/plain": [
              "       price  model_year                       model  condition  cylinders  \\\n",
              "1      25500         NaN                  ford f-150       good        6.0   \n",
              "20      6990         NaN             chevrolet tahoe  excellent        8.0   \n",
              "65     12800         NaN                  ford f-150  excellent        6.0   \n",
              "69      7800         NaN                  ford f-150   like new        8.0   \n",
              "72      3650         NaN              subaru impreza  excellent        NaN   \n",
              "...      ...         ...                         ...        ...        ...   \n",
              "51464   8890         NaN        ford f250 super duty       good        8.0   \n",
              "51465  34595         NaN                   gmc yukon  excellent        8.0   \n",
              "51487   1495         NaN                  ford f-150       fair        6.0   \n",
              "51488  21900         NaN  chevrolet silverado 3500hd  excellent        8.0   \n",
              "51508   4950         NaN     chrysler town & country  excellent        6.0   \n",
              "\n",
              "         fuel  odometer transmission      type paint_color  is_4wd  \\\n",
              "1         gas   88705.0    automatic    pickup       white     1.0   \n",
              "20        gas  147485.0    automatic       SUV      silver     1.0   \n",
              "65        gas  108500.0    automatic    pickup       white     NaN   \n",
              "69        gas   97510.0    automatic     truck       white     1.0   \n",
              "72        gas   74000.0    automatic     sedan        blue     1.0   \n",
              "...       ...       ...          ...       ...         ...     ...   \n",
              "51464     gas  135778.0    automatic     truck         red     1.0   \n",
              "51465     gas   86456.0    automatic       SUV      silver     1.0   \n",
              "51487     gas   15804.0       manual     truck       white     1.0   \n",
              "51488  diesel  203000.0    automatic     truck       white     1.0   \n",
              "51508     gas  150000.0    automatic  mini-van      silver     NaN   \n",
              "\n",
              "      date_posted  days_listed  \n",
              "1      2018-10-19           50  \n",
              "20     2018-08-05           28  \n",
              "65     2018-09-23           15  \n",
              "69     2019-02-20           39  \n",
              "72     2018-08-07           60  \n",
              "...           ...          ...  \n",
              "51464  2018-11-28           24  \n",
              "51465  2019-04-18           13  \n",
              "51487  2018-09-18           56  \n",
              "51488  2018-12-27           37  \n",
              "51508  2018-06-30           48  \n",
              "\n",
              "[3619 rows x 13 columns]"
            ]
          },
          "execution_count": 340,
          "metadata": {},
          "output_type": "execute_result"
        }
      ],
      "source": [
        "#Analisando valores ausentes de cada coluna\n",
        "data.loc[data['model_year'].isnull()]"
      ]
    },
    {
      "cell_type": "markdown",
      "metadata": {
        "id": "UQlN20vMhxHP"
      },
      "source": [
        "- Vamos filtrar o Dataframe para encontrar registros que possuem valores ausentes correspondente nas colunas que apresentam dados faltantes."
      ]
    },
    {
      "cell_type": "code",
      "execution_count": null,
      "metadata": {
        "id": "6XtUFaTQhxHP",
        "outputId": "b2911ee5-797e-4592-8711-c89b7fcbcdbc"
      },
      "outputs": [
        {
          "data": {
            "text/html": [
              "<div>\n",
              "<style scoped>\n",
              "    .dataframe tbody tr th:only-of-type {\n",
              "        vertical-align: middle;\n",
              "    }\n",
              "\n",
              "    .dataframe tbody tr th {\n",
              "        vertical-align: top;\n",
              "    }\n",
              "\n",
              "    .dataframe thead th {\n",
              "        text-align: right;\n",
              "    }\n",
              "</style>\n",
              "<table border=\"1\" class=\"dataframe\">\n",
              "  <thead>\n",
              "    <tr style=\"text-align: right;\">\n",
              "      <th></th>\n",
              "      <th>price</th>\n",
              "      <th>model_year</th>\n",
              "      <th>model</th>\n",
              "      <th>condition</th>\n",
              "      <th>cylinders</th>\n",
              "      <th>fuel</th>\n",
              "      <th>odometer</th>\n",
              "      <th>transmission</th>\n",
              "      <th>type</th>\n",
              "      <th>paint_color</th>\n",
              "      <th>is_4wd</th>\n",
              "      <th>date_posted</th>\n",
              "      <th>days_listed</th>\n",
              "    </tr>\n",
              "  </thead>\n",
              "  <tbody>\n",
              "    <tr>\n",
              "      <th>19877</th>\n",
              "      <td>34900</td>\n",
              "      <td>NaN</td>\n",
              "      <td>mercedes-benz benze sprinter 2500</td>\n",
              "      <td>excellent</td>\n",
              "      <td>NaN</td>\n",
              "      <td>diesel</td>\n",
              "      <td>NaN</td>\n",
              "      <td>automatic</td>\n",
              "      <td>van</td>\n",
              "      <td>NaN</td>\n",
              "      <td>NaN</td>\n",
              "      <td>2018-10-16</td>\n",
              "      <td>44</td>\n",
              "    </tr>\n",
              "    <tr>\n",
              "      <th>20969</th>\n",
              "      <td>3000</td>\n",
              "      <td>NaN</td>\n",
              "      <td>ford focus</td>\n",
              "      <td>like new</td>\n",
              "      <td>NaN</td>\n",
              "      <td>diesel</td>\n",
              "      <td>NaN</td>\n",
              "      <td>automatic</td>\n",
              "      <td>sedan</td>\n",
              "      <td>NaN</td>\n",
              "      <td>NaN</td>\n",
              "      <td>2018-10-24</td>\n",
              "      <td>15</td>\n",
              "    </tr>\n",
              "    <tr>\n",
              "      <th>23376</th>\n",
              "      <td>3500</td>\n",
              "      <td>NaN</td>\n",
              "      <td>toyota 4runner</td>\n",
              "      <td>excellent</td>\n",
              "      <td>NaN</td>\n",
              "      <td>gas</td>\n",
              "      <td>NaN</td>\n",
              "      <td>automatic</td>\n",
              "      <td>SUV</td>\n",
              "      <td>NaN</td>\n",
              "      <td>NaN</td>\n",
              "      <td>2019-03-28</td>\n",
              "      <td>57</td>\n",
              "    </tr>\n",
              "    <tr>\n",
              "      <th>43039</th>\n",
              "      <td>4200</td>\n",
              "      <td>NaN</td>\n",
              "      <td>ford fusion</td>\n",
              "      <td>excellent</td>\n",
              "      <td>NaN</td>\n",
              "      <td>gas</td>\n",
              "      <td>NaN</td>\n",
              "      <td>automatic</td>\n",
              "      <td>sedan</td>\n",
              "      <td>NaN</td>\n",
              "      <td>NaN</td>\n",
              "      <td>2019-01-10</td>\n",
              "      <td>11</td>\n",
              "    </tr>\n",
              "  </tbody>\n",
              "</table>\n",
              "</div>"
            ],
            "text/plain": [
              "       price  model_year                              model  condition  \\\n",
              "19877  34900         NaN  mercedes-benz benze sprinter 2500  excellent   \n",
              "20969   3000         NaN                         ford focus   like new   \n",
              "23376   3500         NaN                     toyota 4runner  excellent   \n",
              "43039   4200         NaN                        ford fusion  excellent   \n",
              "\n",
              "       cylinders    fuel  odometer transmission   type paint_color  is_4wd  \\\n",
              "19877        NaN  diesel       NaN    automatic    van         NaN     NaN   \n",
              "20969        NaN  diesel       NaN    automatic  sedan         NaN     NaN   \n",
              "23376        NaN     gas       NaN    automatic    SUV         NaN     NaN   \n",
              "43039        NaN     gas       NaN    automatic  sedan         NaN     NaN   \n",
              "\n",
              "      date_posted  days_listed  \n",
              "19877  2018-10-16           44  \n",
              "20969  2018-10-24           15  \n",
              "23376  2019-03-28           57  \n",
              "43039  2019-01-10           11  "
            ]
          },
          "execution_count": 341,
          "metadata": {},
          "output_type": "execute_result"
        }
      ],
      "source": [
        "#Linhas onde os valores ausentes correspondem as colunas com dados ausentes\n",
        "missing_values = data.loc[data['model_year'].isna() & data['cylinders'].isna() & data['odometer'].isna()\n",
        "         & data['paint_color'].isna() & data['is_4wd'].isna()]\n",
        "missing_values\n"
      ]
    },
    {
      "cell_type": "code",
      "execution_count": null,
      "metadata": {
        "id": "htY9BNr4hxHP",
        "outputId": "6a3002e7-d2f7-4ce4-8d44-7a8d0896698e",
        "scrolled": true
      },
      "outputs": [
        {
          "data": {
            "text/plain": [
              "4897"
            ]
          },
          "execution_count": 342,
          "metadata": {},
          "output_type": "execute_result"
        }
      ],
      "source": [
        "#Filtrando valores ausentes\n",
        "filtro = data['model_year'].isna()\n",
        "data[~filtro]['cylinders'].isna().sum()"
      ]
    },
    {
      "cell_type": "code",
      "execution_count": null,
      "metadata": {
        "id": "XUZI3n5ShxHQ",
        "outputId": "5d653079-b3b2-4ace-8f07-2317a6370035"
      },
      "outputs": [
        {
          "data": {
            "text/plain": [
              "3256"
            ]
          },
          "execution_count": 343,
          "metadata": {},
          "output_type": "execute_result"
        }
      ],
      "source": [
        "filtro1 = data['cylinders'].isna()\n",
        "data[~filtro1]['model_year'].isna().sum()"
      ]
    },
    {
      "cell_type": "code",
      "execution_count": null,
      "metadata": {
        "id": "rIDihmPihxHQ",
        "outputId": "eec7b70c-626c-4837-d8b8-0b406d3a7055"
      },
      "outputs": [
        {
          "data": {
            "text/plain": [
              "price            0.000000\n",
              "model_year       7.023775\n",
              "model            0.000000\n",
              "condition        0.000000\n",
              "cylinders       10.208637\n",
              "fuel             0.000000\n",
              "odometer        15.316836\n",
              "transmission     0.000000\n",
              "type             0.000000\n",
              "paint_color     17.985444\n",
              "is_4wd          50.369723\n",
              "date_posted      0.000000\n",
              "days_listed      0.000000\n",
              "dtype: float64"
            ]
          },
          "execution_count": 344,
          "metadata": {},
          "output_type": "execute_result"
        }
      ],
      "source": [
        "#Verificando a % de dados ausentes nas colunas\n",
        "data.isna().sum()/data.shape[0]*100"
      ]
    },
    {
      "cell_type": "markdown",
      "metadata": {
        "id": "R0mDG651hxHR"
      },
      "source": [
        "- Os valores indicam a proporção de valores ausentes em cada coluna em relação ao total de dados. Por exemplo, a coluna `model_year` tem aproximadamente 7,02% de dados ausentes, a coluna `cylinders` tem cerca de 10,21% de dados ausentes, e assim por diante. Isso permite uma visão geral da quantidade de dados ausentes em cada coluna o que pode ajudar a identificar as colunas com maior proporção de valores ausentes para tomar decisões de como vamos processar esses dados."
      ]
    },
    {
      "cell_type": "markdown",
      "metadata": {
        "id": "v1s4e61bhxHR"
      },
      "source": [
        "###### Coluna `is_4wd`\n",
        "\n",
        "- A coluna `is_4wd` representa se o veículo é 4x4 e ela é do tipo booleano (apenas possui valores 1 ou NaN), podemos substituir todos os valores NaN por 0. Se um campo booleano contém apenas valores True, é razoável presumir que valores ausentes são False. Como a coluna é do tipo booleano, os valores 0 representam \"False\" e indicariam que o veículo não é 4x4."
      ]
    },
    {
      "cell_type": "code",
      "execution_count": null,
      "metadata": {
        "id": "yZzAW5KthxHR",
        "outputId": "f4181a15-904f-4cac-cb10-88632ed33390"
      },
      "outputs": [
        {
          "data": {
            "text/plain": [
              "array([ 1., nan])"
            ]
          },
          "execution_count": 345,
          "metadata": {},
          "output_type": "execute_result"
        }
      ],
      "source": [
        "# Verificando os valores únicos\n",
        "data['is_4wd'].unique()"
      ]
    },
    {
      "cell_type": "code",
      "execution_count": null,
      "metadata": {
        "id": "qniuWtehhxHS"
      },
      "outputs": [],
      "source": [
        "#Tratando os valores ausentes em 'is_4wd'\n",
        "data['is_4wd'] = data['is_4wd'].fillna(0)"
      ]
    },
    {
      "cell_type": "code",
      "execution_count": null,
      "metadata": {
        "id": "fovxjjCVhxHS",
        "outputId": "73a550fe-6978-4535-eeb4-9e836df1e7cc"
      },
      "outputs": [
        {
          "data": {
            "text/plain": [
              "0"
            ]
          },
          "execution_count": 347,
          "metadata": {},
          "output_type": "execute_result"
        }
      ],
      "source": [
        "#Verificando se os valores foram corrigidos\n",
        "data['is_4wd'].isna().sum()"
      ]
    },
    {
      "cell_type": "code",
      "execution_count": null,
      "metadata": {
        "id": "j8hPptwmhxHS",
        "outputId": "b8796d44-d594-4e5e-c3c0-2039ec5a54dd",
        "scrolled": true
      },
      "outputs": [
        {
          "data": {
            "text/plain": [
              "price              0\n",
              "model_year      3619\n",
              "model              0\n",
              "condition          0\n",
              "cylinders       5260\n",
              "fuel               0\n",
              "odometer        7892\n",
              "transmission       0\n",
              "type               0\n",
              "paint_color     9267\n",
              "is_4wd             0\n",
              "date_posted        0\n",
              "days_listed        0\n",
              "dtype: int64"
            ]
          },
          "execution_count": 348,
          "metadata": {},
          "output_type": "execute_result"
        }
      ],
      "source": [
        "#Verificando como ficaram as colunas com dados ausentes do dataframe\n",
        "data.isna().sum()"
      ]
    },
    {
      "cell_type": "markdown",
      "metadata": {
        "id": "bfLSjZ4ThxHS"
      },
      "source": [
        "##### Analisando a distribuição dos dados no dataframe"
      ]
    },
    {
      "cell_type": "code",
      "execution_count": null,
      "metadata": {
        "id": "YJxiT3AvhxHZ",
        "outputId": "4d61e3b8-d073-4f19-ed35-3ba97727c340"
      },
      "outputs": [
        {
          "data": {
            "text/html": [
              "<div>\n",
              "<style scoped>\n",
              "    .dataframe tbody tr th:only-of-type {\n",
              "        vertical-align: middle;\n",
              "    }\n",
              "\n",
              "    .dataframe tbody tr th {\n",
              "        vertical-align: top;\n",
              "    }\n",
              "\n",
              "    .dataframe thead th {\n",
              "        text-align: right;\n",
              "    }\n",
              "</style>\n",
              "<table border=\"1\" class=\"dataframe\">\n",
              "  <thead>\n",
              "    <tr style=\"text-align: right;\">\n",
              "      <th></th>\n",
              "      <th>price</th>\n",
              "      <th>model_year</th>\n",
              "      <th>cylinders</th>\n",
              "      <th>odometer</th>\n",
              "      <th>is_4wd</th>\n",
              "      <th>days_listed</th>\n",
              "    </tr>\n",
              "  </thead>\n",
              "  <tbody>\n",
              "    <tr>\n",
              "      <th>count</th>\n",
              "      <td>51525.000000</td>\n",
              "      <td>47906.000000</td>\n",
              "      <td>46265.000000</td>\n",
              "      <td>43633.000000</td>\n",
              "      <td>51525.000000</td>\n",
              "      <td>51525.00000</td>\n",
              "    </tr>\n",
              "    <tr>\n",
              "      <th>mean</th>\n",
              "      <td>12132.464920</td>\n",
              "      <td>2009.750470</td>\n",
              "      <td>6.125235</td>\n",
              "      <td>115553.461738</td>\n",
              "      <td>0.496303</td>\n",
              "      <td>39.55476</td>\n",
              "    </tr>\n",
              "    <tr>\n",
              "      <th>std</th>\n",
              "      <td>10040.803015</td>\n",
              "      <td>6.282065</td>\n",
              "      <td>1.660360</td>\n",
              "      <td>65094.611341</td>\n",
              "      <td>0.499991</td>\n",
              "      <td>28.20427</td>\n",
              "    </tr>\n",
              "    <tr>\n",
              "      <th>min</th>\n",
              "      <td>1.000000</td>\n",
              "      <td>1908.000000</td>\n",
              "      <td>3.000000</td>\n",
              "      <td>0.000000</td>\n",
              "      <td>0.000000</td>\n",
              "      <td>0.00000</td>\n",
              "    </tr>\n",
              "    <tr>\n",
              "      <th>25%</th>\n",
              "      <td>5000.000000</td>\n",
              "      <td>2006.000000</td>\n",
              "      <td>4.000000</td>\n",
              "      <td>70000.000000</td>\n",
              "      <td>0.000000</td>\n",
              "      <td>19.00000</td>\n",
              "    </tr>\n",
              "    <tr>\n",
              "      <th>50%</th>\n",
              "      <td>9000.000000</td>\n",
              "      <td>2011.000000</td>\n",
              "      <td>6.000000</td>\n",
              "      <td>113000.000000</td>\n",
              "      <td>0.000000</td>\n",
              "      <td>33.00000</td>\n",
              "    </tr>\n",
              "    <tr>\n",
              "      <th>75%</th>\n",
              "      <td>16839.000000</td>\n",
              "      <td>2014.000000</td>\n",
              "      <td>8.000000</td>\n",
              "      <td>155000.000000</td>\n",
              "      <td>1.000000</td>\n",
              "      <td>53.00000</td>\n",
              "    </tr>\n",
              "    <tr>\n",
              "      <th>max</th>\n",
              "      <td>375000.000000</td>\n",
              "      <td>2019.000000</td>\n",
              "      <td>12.000000</td>\n",
              "      <td>990000.000000</td>\n",
              "      <td>1.000000</td>\n",
              "      <td>271.00000</td>\n",
              "    </tr>\n",
              "  </tbody>\n",
              "</table>\n",
              "</div>"
            ],
            "text/plain": [
              "               price    model_year     cylinders       odometer        is_4wd  \\\n",
              "count   51525.000000  47906.000000  46265.000000   43633.000000  51525.000000   \n",
              "mean    12132.464920   2009.750470      6.125235  115553.461738      0.496303   \n",
              "std     10040.803015      6.282065      1.660360   65094.611341      0.499991   \n",
              "min         1.000000   1908.000000      3.000000       0.000000      0.000000   \n",
              "25%      5000.000000   2006.000000      4.000000   70000.000000      0.000000   \n",
              "50%      9000.000000   2011.000000      6.000000  113000.000000      0.000000   \n",
              "75%     16839.000000   2014.000000      8.000000  155000.000000      1.000000   \n",
              "max    375000.000000   2019.000000     12.000000  990000.000000      1.000000   \n",
              "\n",
              "       days_listed  \n",
              "count  51525.00000  \n",
              "mean      39.55476  \n",
              "std       28.20427  \n",
              "min        0.00000  \n",
              "25%       19.00000  \n",
              "50%       33.00000  \n",
              "75%       53.00000  \n",
              "max      271.00000  "
            ]
          },
          "execution_count": 349,
          "metadata": {},
          "output_type": "execute_result"
        }
      ],
      "source": [
        "data.describe()"
      ]
    },
    {
      "cell_type": "markdown",
      "metadata": {
        "id": "ZFy2PEsMhxHZ"
      },
      "source": [
        "- Essas informações resumem a distribuição das colunas no conjunto de dados, fornecendo uma visão geral das características dessas variáveis."
      ]
    },
    {
      "cell_type": "code",
      "execution_count": null,
      "metadata": {
        "id": "YF2kAOlfhxHa",
        "outputId": "6c7b03cc-dfa0-4de1-8be8-0bc410856b72"
      },
      "outputs": [
        {
          "data": {
            "image/png": "[encoded data removed]",
            "text/plain": [
              "<Figure size 432x288 with 1 Axes>"
            ]
          },
          "metadata": {
            "needs_background": "light"
          },
          "output_type": "display_data"
        }
      ],
      "source": [
        "#Verificando a distribuição dos dados com boxplot\n",
        "data.boxplot(column=['price'])\n",
        "plt.show()"
      ]
    },
    {
      "cell_type": "code",
      "execution_count": null,
      "metadata": {
        "id": "WG25mbIthxHa",
        "outputId": "9084d12b-92a1-4f41-d186-4b7e7fee0c03"
      },
      "outputs": [
        {
          "data": {
            "image/png": "[encoded data removed]",
            "text/plain": [
              "<Figure size 432x288 with 1 Axes>"
            ]
          },
          "metadata": {
            "needs_background": "light"
          },
          "output_type": "display_data"
        }
      ],
      "source": [
        "data.boxplot(column=['odometer'])\n",
        "plt.show()"
      ]
    },
    {
      "cell_type": "code",
      "execution_count": null,
      "metadata": {
        "id": "MyTVqQjvhxHb",
        "outputId": "d50ea61f-1aef-430f-b642-5b0c9b031e01"
      },
      "outputs": [
        {
          "data": {
            "image/png": "[encoded data removed]",
            "text/plain": [
              "<Figure size 432x288 with 1 Axes>"
            ]
          },
          "metadata": {
            "needs_background": "light"
          },
          "output_type": "display_data"
        }
      ],
      "source": [
        "data.boxplot(column=['model_year'])\n",
        "plt.show()"
      ]
    },
    {
      "cell_type": "markdown",
      "metadata": {
        "id": "fORuB-zBhxHb"
      },
      "source": [
        "- Podemos observar a presença de outliers nas colunas analisadas anteriormente. Esses outliers são valores que se destacam significativamente dos demais e se desviam da tendência geral dos dados."
      ]
    },
    {
      "cell_type": "code",
      "execution_count": null,
      "metadata": {
        "id": "R0RF2g6ThxHb",
        "outputId": "4790e0d1-c5a3-4c0d-f248-354e2cc8c552"
      },
      "outputs": [
        {
          "data": {
            "image/png": "[encoded data removed]",
            "text/plain": [
              "<Figure size 432x288 with 1 Axes>"
            ]
          },
          "metadata": {
            "needs_background": "light"
          },
          "output_type": "display_data"
        }
      ],
      "source": [
        "data.boxplot(column=['cylinders'])\n",
        "plt.show()"
      ]
    },
    {
      "cell_type": "code",
      "execution_count": null,
      "metadata": {
        "id": "ZPNCA74IhxHc",
        "outputId": "17dafcb1-1f00-4815-e5bf-0651892345ae"
      },
      "outputs": [
        {
          "data": {
            "image/png": "[encoded data removed]",
            "text/plain": [
              "<Figure size 432x288 with 1 Axes>"
            ]
          },
          "metadata": {
            "needs_background": "light"
          },
          "output_type": "display_data"
        }
      ],
      "source": [
        "cylinder_group = data.groupby('cylinders').agg({'price':'count'})\n",
        "cylinder_group.plot(kind='bar')\n",
        "plt.show()"
      ]
    },
    {
      "cell_type": "markdown",
      "metadata": {
        "id": "gmUBkVszhxHc"
      },
      "source": [
        "- Através desse gráfico de boxplot temos uma representação visual da distribuição dos dados. Ele fornece informações sobre a mediana, quartis, valores mínimos e máximos e possíveis valores atípicos. Ele é especialmente útil para comparar distribuições entre diferentes grupos ou variáveis.\n",
        "- Podemos identificar a presença de outliers nas colunas `price`, `odometer` e `model_year`, ou seja, valores que estão fora do intervalo considerado normal para essas variáveis. Esses valores destacados podem indicar pontos atípicos ou incomuns na distribuição dos dados."
      ]
    },
    {
      "cell_type": "markdown",
      "metadata": {
        "id": "ACP2prXrhxHc"
      },
      "source": [
        "###### Coluna `cylinders`\n",
        "\n",
        "- A coluna `cylinders` exibe uma média próxima à mediana (média de 6.12 e mediana 6), o que indica uma distribuição de dados aproximadamente simétrica em torno desses dois pontos, sem grandes desvios ou valores discrepantes. Isso sugere que a moda também estará próxima desses valores centrais, tornando-a uma opção viável para preencher os valores ausentes.\n",
        "- Vamos optar por substituir os valores ausentes dessa coluna pela moda. A moda é menos sensível a valores discrepantes do que a média. Além de representar a categoria mais comum. Ao substituir os valores ausentes pela moda, estamos mantendo a estrutura original dos dados, preservando a tendência predominante na distribuição dos cilindros dos veículos."
      ]
    },
    {
      "cell_type": "code",
      "execution_count": null,
      "metadata": {
        "id": "M8bDSDiGhxHc",
        "outputId": "e5e5ece9-0969-41c1-f98a-b1714abab0c0"
      },
      "outputs": [
        {
          "data": {
            "text/plain": [
              "array([ 6.,  4.,  8., nan,  5., 10.,  3., 12.])"
            ]
          },
          "execution_count": 355,
          "metadata": {},
          "output_type": "execute_result"
        }
      ],
      "source": [
        "#Verificando os valores únicos da coluna 'cylinders'\n",
        "data['cylinders'].unique()"
      ]
    },
    {
      "cell_type": "markdown",
      "metadata": {
        "id": "2c8q9CNdhxHd"
      },
      "source": [
        "- Vamos calcular a moda da coluna `cylinders` para cada modelo e substituir os valores ausentes (NA) na coluna `cylinders` pelos valores modais correspondentes. Isso é feito usando a tabela dinâmica mode_cylinders e a função apply() para aplicar a lógica a cada linha do DataFrame data."
      ]
    },
    {
      "cell_type": "code",
      "execution_count": null,
      "metadata": {
        "id": "KdnNiM3AhxHd"
      },
      "outputs": [],
      "source": [
        "#Calculando a moda da coluna 'cylinders'\n",
        "mode_cylinders = data.pivot_table(index='model', values='cylinders', aggfunc=lambda x: x.mode().get(0))\n"
      ]
    },
    {
      "cell_type": "code",
      "execution_count": null,
      "metadata": {
        "id": "SwwbuVUlhxHd"
      },
      "outputs": [],
      "source": [
        "#Substituindo os valores ausentes pela moda\n",
        "data['cylinders'] = data.apply(lambda row: mode_cylinders.loc[row['model']] if pd.isnull(row['cylinders']) else row['cylinders'], axis=1)\n"
      ]
    },
    {
      "cell_type": "code",
      "execution_count": null,
      "metadata": {
        "id": "QlDgxtKohxHd",
        "outputId": "32f44820-b7dc-4958-d0ac-beff3bbdc4d2"
      },
      "outputs": [
        {
          "data": {
            "text/plain": [
              "0"
            ]
          },
          "execution_count": 358,
          "metadata": {},
          "output_type": "execute_result"
        }
      ],
      "source": [
        "#Verificando a substituição\n",
        "data['cylinders'].isna().sum()"
      ]
    },
    {
      "cell_type": "markdown",
      "metadata": {
        "id": "cM3wYS_9hxHe"
      },
      "source": [
        "###### Coluna `model_year`\n",
        "\n",
        "- Essa coluna representa o ano do veículo e é uma variável numérica importante para nossa análise. Ao lidar com valores ausentes nessa coluna, uma abordagem adequada é substituí-los pela mediana. Isso nos permite preservar a coerência dos dados numéricos e manter a informação geral da distribuição dos anos dos veículos. A mediana é uma medida robusta que não é afetada por valores extremos, tornando-a uma escolha razoável nesse contexto."
      ]
    },
    {
      "cell_type": "markdown",
      "metadata": {
        "id": "zMu6eS9dhxHf"
      },
      "source": [
        "- Vamos preencher os valores ausentes na coluna `model_year` usando a mediana correspondente ao modelo. Isso significa que, se houver um valor ausente na coluna `model_year` para um determinado modelo, ele será preenchido com a mediana do `model_year` para aquele modelo específico. Por outro lado, se o valor não for nulo, o valor original da coluna `model_year` será mantido."
      ]
    },
    {
      "cell_type": "code",
      "execution_count": null,
      "metadata": {
        "id": "4pMLBis1hxHf"
      },
      "outputs": [],
      "source": [
        "#Calculando a mediana da coluna 'model_year' condicionada pelo 'model'\n",
        "median_model_year = data.pivot_table(index='model', values='model_year', aggfunc='median')\n"
      ]
    },
    {
      "cell_type": "code",
      "execution_count": null,
      "metadata": {
        "id": "t5AAoq3RhxHf"
      },
      "outputs": [],
      "source": [
        "#Substituindo os valores ausentes pela mediana da coluna\n",
        "data['model_year'] = data.apply(lambda row: median_model_year.loc[row['model']] if pd.isnull(row['model_year'])\n",
        "                                else row['model_year'], axis=1)\n"
      ]
    },
    {
      "cell_type": "code",
      "execution_count": null,
      "metadata": {
        "id": "3to8BNsphxHf",
        "outputId": "e581cc2c-7172-44d1-da4f-d67da1f87cb5"
      },
      "outputs": [
        {
          "data": {
            "text/plain": [
              "0"
            ]
          },
          "execution_count": 361,
          "metadata": {},
          "output_type": "execute_result"
        }
      ],
      "source": [
        "#Verificando a substituição\n",
        "data['model_year'].isna().sum()"
      ]
    },
    {
      "cell_type": "markdown",
      "metadata": {
        "id": "xvG5UsYvhxHg"
      },
      "source": [
        "###### Coluna `odometer`\n",
        "- Ao observar o gráfico de boxplot mais acima, fica evidente a presença de valores discrepantes (outliers) na coluna `odometer`. Portanto, para lidar com os valores ausentes nessa coluna, é mais adequado substituí-los pela mediana, uma vez que a mediana é menos sensível a valores extremos vai representar melhor a tendência central da distribuição."
      ]
    },
    {
      "cell_type": "code",
      "execution_count": null,
      "metadata": {
        "id": "InR8IJQPhxHh"
      },
      "outputs": [],
      "source": [
        "data['odometer'] = data['odometer'].astype(float)\n"
      ]
    },
    {
      "cell_type": "code",
      "execution_count": null,
      "metadata": {
        "id": "M1k6LoIuhxHh"
      },
      "outputs": [],
      "source": [
        "#Calculando a mediana da coluna 'odometer' levando em consideração modelos comparaveis\n",
        "median_odometer = data.groupby('model')['odometer'].median()\n"
      ]
    },
    {
      "cell_type": "markdown",
      "metadata": {
        "id": "2zDxckLjhxHh"
      },
      "source": [
        "- Estamos substituindo os valores ausentes (NA) na coluna `odometer` pelo valor mediano correspondente ao modelo. Se houver um valor nulo na coluna `odometer` para um determinado modelo, ele será preenchido com a mediana do `odometer` para esse modelo específico, usando o DataFrame median_odometer. Por outro lado, se o valor não for nulo, o valor original da coluna `odometer` será mantido."
      ]
    },
    {
      "cell_type": "code",
      "execution_count": null,
      "metadata": {
        "id": "eLP9fuIxhxHh"
      },
      "outputs": [],
      "source": [
        "#Substituindo pela mediana\n",
        "data['odometer'] = data.apply(lambda row: median_odometer.loc[row['model']] if pd.isnull(row['odometer'])\n",
        "                              else row['odometer'], axis=1)\n"
      ]
    },
    {
      "cell_type": "code",
      "execution_count": null,
      "metadata": {
        "id": "aaNtFz0UhxHi",
        "outputId": "1810891c-7023-4a00-897f-ab4b617a3e15"
      },
      "outputs": [
        {
          "data": {
            "text/plain": [
              "41"
            ]
          },
          "execution_count": 385,
          "metadata": {},
          "output_type": "execute_result"
        }
      ],
      "source": [
        "#Verificando se a substituição foi efetiva\n",
        "data['odometer'].isna().sum()"
      ]
    },
    {
      "cell_type": "markdown",
      "metadata": {
        "id": "cQGTRQdvhxHi"
      },
      "source": [
        "- Originalmente tinhamos 7892 valores ausentes na coluna `odometer` e após substituir pela mediana restaram apenas 41 valores ausentes, isso indica que a substituição pela mediana foi bastante efetiva na redução dos valores ausentes. Podemos remover essas linhas, por representar porcentagem pequena do conjunto de dados ou substituir esses valores por zero"
      ]
    },
    {
      "cell_type": "code",
      "execution_count": null,
      "metadata": {
        "id": "6FD4r8knhxHi",
        "outputId": "e90c76bd-29b3-44e7-e21c-caa6fd0e12d2"
      },
      "outputs": [
        {
          "data": {
            "text/plain": [
              "0"
            ]
          },
          "execution_count": 387,
          "metadata": {},
          "output_type": "execute_result"
        }
      ],
      "source": [
        "# Preenche os valores ausentes com zero\n",
        "data['odometer'].fillna(0, inplace=True)\n",
        "data['odometer'].isna().sum()"
      ]
    },
    {
      "cell_type": "markdown",
      "metadata": {
        "id": "4cGxwyMChxHj"
      },
      "source": [
        "###### Coluna `paint_color`\n",
        "\n",
        "- Na coluna `paint_color` temos alguns valores ausentes, pelo fato de se tratar de uma variável categórica optamos por substituir por Unknown.\n",
        "- A substituição dos valores ausentes por \"Unknown\" preserva a informação de que a cor do veículo não está disponível. Em vez de preencher com a moda ou qualquer outra medida estatística, essa abordagem fornece uma indicação clara de que não há informações sobre a cor do veículo. Ao preencher os valores ausentes com a moda ou qualquer outra medida estatística, existe o risco de distorcer a distribuição das cores dos veículos. Ao utilizar \"Unknown\" como substituto para valores ausentes, a justificativa é transparente e facilmente interpretável. Ao atribuir um valor específico, como \"Unknown\", aos valores ausentes, é possível filtrar e manipular esses registros de forma consistente.\n"
      ]
    },
    {
      "cell_type": "code",
      "execution_count": null,
      "metadata": {
        "id": "68jqJ3KqhxHk"
      },
      "outputs": [],
      "source": [
        "#Substituindo os valores ausentes por 'Unknown'\n",
        "data['paint_color'] = data['paint_color'].fillna('Unknown')"
      ]
    },
    {
      "cell_type": "code",
      "execution_count": null,
      "metadata": {
        "id": "Rv7G07XhhxHk",
        "outputId": "646c27fa-767e-4adf-9697-37da1e623334",
        "scrolled": true
      },
      "outputs": [
        {
          "data": {
            "text/plain": [
              "price           0\n",
              "model_year      0\n",
              "model           0\n",
              "condition       0\n",
              "cylinders       0\n",
              "fuel            0\n",
              "odometer        0\n",
              "transmission    0\n",
              "type            0\n",
              "paint_color     0\n",
              "is_4wd          0\n",
              "date_posted     0\n",
              "days_listed     0\n",
              "dtype: int64"
            ]
          },
          "execution_count": 389,
          "metadata": {},
          "output_type": "execute_result"
        }
      ],
      "source": [
        "#Verificando os valores ausentes em todas as colunas\n",
        "data.isna().sum()"
      ]
    },
    {
      "cell_type": "markdown",
      "metadata": {
        "id": "sGoXuqP0hxHk"
      },
      "source": [
        "## Corrija os tipos de dados"
      ]
    },
    {
      "cell_type": "markdown",
      "metadata": {
        "id": "vVTKZOTEhxHl"
      },
      "source": [
        "- Agora que os dados estão mais completos, vamos corrigir os tipos de dados conforme necessário."
      ]
    },
    {
      "cell_type": "code",
      "execution_count": null,
      "metadata": {
        "id": "syLzhMgohxHl",
        "outputId": "daa92941-2916-4fac-bf65-6281eb4297b2"
      },
      "outputs": [
        {
          "name": "stdout",
          "output_type": "stream",
          "text": [
            "<class 'pandas.core.frame.DataFrame'>\n",
            "RangeIndex: 51525 entries, 0 to 51524\n",
            "Data columns (total 13 columns):\n",
            " #   Column        Non-Null Count  Dtype  \n",
            "---  ------        --------------  -----  \n",
            " 0   price         51525 non-null  int64  \n",
            " 1   model_year    51525 non-null  object \n",
            " 2   model         51525 non-null  object \n",
            " 3   condition     51525 non-null  object \n",
            " 4   cylinders     51525 non-null  object \n",
            " 5   fuel          51525 non-null  object \n",
            " 6   odometer      51525 non-null  float64\n",
            " 7   transmission  51525 non-null  object \n",
            " 8   type          51525 non-null  object \n",
            " 9   paint_color   51525 non-null  object \n",
            " 10  is_4wd        51525 non-null  float64\n",
            " 11  date_posted   51525 non-null  object \n",
            " 12  days_listed   51525 non-null  int64  \n",
            "dtypes: float64(2), int64(2), object(9)\n",
            "memory usage: 5.1+ MB\n",
            "None\n"
          ]
        }
      ],
      "source": [
        "#Analisando como ficaram as informações dos dados após as correções\n",
        "print(data.info())"
      ]
    },
    {
      "cell_type": "markdown",
      "metadata": {
        "id": "YbM7w_V5hxHl"
      },
      "source": [
        "- A coluna `model_year` está sendo armazenada como um tipo de dado float, o que não é adequado, já que se refere ao ano do modelo do veículo. Para permitir operações adequadas e coerentes com essa coluna, é recomendado convertê-la para o tipo de dado inteiro (int)."
      ]
    },
    {
      "cell_type": "code",
      "execution_count": null,
      "metadata": {
        "id": "7tb3sltChxHm"
      },
      "outputs": [],
      "source": [
        "#Convertendo a coluna 'model_year' para tipo inteiro\n",
        "data['model_year'] = data['model_year'].astype(int)"
      ]
    },
    {
      "cell_type": "code",
      "execution_count": null,
      "metadata": {
        "id": "vixNQMERhxHm",
        "outputId": "97efc0cf-2911-469b-bd96-714b6d0c1667"
      },
      "outputs": [
        {
          "name": "stdout",
          "output_type": "stream",
          "text": [
            "int64\n"
          ]
        }
      ],
      "source": [
        "#Verificando o tipo de dado após substituição\n",
        "print(data['model_year'].dtype)"
      ]
    },
    {
      "cell_type": "markdown",
      "metadata": {
        "id": "nQEpg-PAhxHm"
      },
      "source": [
        "- A coluna `date_posted` está sendo armazenada como um tipo de dado object, o que indica que o Python a reconhece como uma string. No entanto, isso pode dificultar certas operações e manipulações no dataframe. Para resolver esse problema, é necessário converter essa coluna para o tipo de dado datetime, que permitirá realizar operações e manipulações de forma adequada."
      ]
    },
    {
      "cell_type": "code",
      "execution_count": null,
      "metadata": {
        "id": "ET_K18R7hxHm"
      },
      "outputs": [],
      "source": [
        "#Convertendo a coluna 'date_posted' para formato data\n",
        "data['date_posted'] = pd.to_datetime(data['date_posted'], format='%Y-%m-%d %H:%M')\n"
      ]
    },
    {
      "cell_type": "code",
      "execution_count": null,
      "metadata": {
        "id": "dU4uczaAhxHn",
        "outputId": "57121f65-e341-41eb-9949-b6e961765a21"
      },
      "outputs": [
        {
          "name": "stdout",
          "output_type": "stream",
          "text": [
            "datetime64[ns]\n"
          ]
        }
      ],
      "source": [
        "# Verificando a conversão\n",
        "print(data['date_posted'].dtype)"
      ]
    },
    {
      "cell_type": "code",
      "execution_count": null,
      "metadata": {
        "id": "SGIMRUvJhxHn",
        "outputId": "582fe9d7-9611-4e92-84a7-4459835aca80"
      },
      "outputs": [
        {
          "name": "stdout",
          "output_type": "stream",
          "text": [
            "float64\n"
          ]
        }
      ],
      "source": [
        "#Convertendo coluna 'cylinders'\n",
        "data['cylinders'] = data['cylinders'].astype(float)\n",
        "print(data['cylinders'].dtype)"
      ]
    },
    {
      "cell_type": "markdown",
      "metadata": {
        "id": "-HwgDKJbhxHn"
      },
      "source": [
        "<div class=\"alert alert-success\">\n",
        "<strong>Comentário do revisor v1</strong>\n",
        "\n",
        "Perfeito!\n",
        "</div>"
      ]
    },
    {
      "cell_type": "markdown",
      "metadata": {
        "id": "OwqQ1XkKhxHn"
      },
      "source": [
        "## Enriquecendo os dados"
      ]
    },
    {
      "cell_type": "markdown",
      "metadata": {
        "id": "9xKREiNvhxHo"
      },
      "source": [
        "- Vamos adicionar fatores adicionais aos dados para tornar a análise mais fácil."
      ]
    },
    {
      "cell_type": "code",
      "execution_count": null,
      "metadata": {
        "id": "_cKRUStshxHo",
        "outputId": "da20d89e-47c0-4da2-8144-cc003f586bf4",
        "scrolled": true
      },
      "outputs": [
        {
          "data": {
            "text/html": [
              "<div>\n",
              "<style scoped>\n",
              "    .dataframe tbody tr th:only-of-type {\n",
              "        vertical-align: middle;\n",
              "    }\n",
              "\n",
              "    .dataframe tbody tr th {\n",
              "        vertical-align: top;\n",
              "    }\n",
              "\n",
              "    .dataframe thead th {\n",
              "        text-align: right;\n",
              "    }\n",
              "</style>\n",
              "<table border=\"1\" class=\"dataframe\">\n",
              "  <thead>\n",
              "    <tr style=\"text-align: right;\">\n",
              "      <th></th>\n",
              "      <th>price</th>\n",
              "      <th>model_year</th>\n",
              "      <th>model</th>\n",
              "      <th>condition</th>\n",
              "      <th>cylinders</th>\n",
              "      <th>fuel</th>\n",
              "      <th>odometer</th>\n",
              "      <th>transmission</th>\n",
              "      <th>type</th>\n",
              "      <th>paint_color</th>\n",
              "      <th>is_4wd</th>\n",
              "      <th>date_posted</th>\n",
              "      <th>days_listed</th>\n",
              "    </tr>\n",
              "  </thead>\n",
              "  <tbody>\n",
              "    <tr>\n",
              "      <th>0</th>\n",
              "      <td>9400</td>\n",
              "      <td>2011</td>\n",
              "      <td>bmw x5</td>\n",
              "      <td>good</td>\n",
              "      <td>6.0</td>\n",
              "      <td>gas</td>\n",
              "      <td>145000.0</td>\n",
              "      <td>automatic</td>\n",
              "      <td>SUV</td>\n",
              "      <td>Unknown</td>\n",
              "      <td>1.0</td>\n",
              "      <td>2018-06-23</td>\n",
              "      <td>19</td>\n",
              "    </tr>\n",
              "    <tr>\n",
              "      <th>1</th>\n",
              "      <td>25500</td>\n",
              "      <td>2011</td>\n",
              "      <td>ford f-150</td>\n",
              "      <td>good</td>\n",
              "      <td>6.0</td>\n",
              "      <td>gas</td>\n",
              "      <td>88705.0</td>\n",
              "      <td>automatic</td>\n",
              "      <td>pickup</td>\n",
              "      <td>white</td>\n",
              "      <td>1.0</td>\n",
              "      <td>2018-10-19</td>\n",
              "      <td>50</td>\n",
              "    </tr>\n",
              "    <tr>\n",
              "      <th>2</th>\n",
              "      <td>5500</td>\n",
              "      <td>2013</td>\n",
              "      <td>hyundai sonata</td>\n",
              "      <td>like new</td>\n",
              "      <td>4.0</td>\n",
              "      <td>gas</td>\n",
              "      <td>110000.0</td>\n",
              "      <td>automatic</td>\n",
              "      <td>sedan</td>\n",
              "      <td>red</td>\n",
              "      <td>0.0</td>\n",
              "      <td>2019-02-07</td>\n",
              "      <td>79</td>\n",
              "    </tr>\n",
              "    <tr>\n",
              "      <th>3</th>\n",
              "      <td>1500</td>\n",
              "      <td>2003</td>\n",
              "      <td>ford f-150</td>\n",
              "      <td>fair</td>\n",
              "      <td>8.0</td>\n",
              "      <td>gas</td>\n",
              "      <td>121928.0</td>\n",
              "      <td>automatic</td>\n",
              "      <td>pickup</td>\n",
              "      <td>Unknown</td>\n",
              "      <td>0.0</td>\n",
              "      <td>2019-03-22</td>\n",
              "      <td>9</td>\n",
              "    </tr>\n",
              "    <tr>\n",
              "      <th>4</th>\n",
              "      <td>14900</td>\n",
              "      <td>2017</td>\n",
              "      <td>chrysler 200</td>\n",
              "      <td>excellent</td>\n",
              "      <td>4.0</td>\n",
              "      <td>gas</td>\n",
              "      <td>80903.0</td>\n",
              "      <td>automatic</td>\n",
              "      <td>sedan</td>\n",
              "      <td>black</td>\n",
              "      <td>0.0</td>\n",
              "      <td>2019-04-02</td>\n",
              "      <td>28</td>\n",
              "    </tr>\n",
              "  </tbody>\n",
              "</table>\n",
              "</div>"
            ],
            "text/plain": [
              "   price  model_year           model  condition cylinders fuel  odometer  \\\n",
              "0   9400        2011          bmw x5       good       6.0  gas  145000.0   \n",
              "1  25500        2011      ford f-150       good       6.0  gas   88705.0   \n",
              "2   5500        2013  hyundai sonata   like new       4.0  gas  110000.0   \n",
              "3   1500        2003      ford f-150       fair       8.0  gas  121928.0   \n",
              "4  14900        2017    chrysler 200  excellent       4.0  gas   80903.0   \n",
              "\n",
              "  transmission    type paint_color  is_4wd date_posted  days_listed  \n",
              "0    automatic     SUV     Unknown     1.0  2018-06-23           19  \n",
              "1    automatic  pickup       white     1.0  2018-10-19           50  \n",
              "2    automatic   sedan         red     0.0  2019-02-07           79  \n",
              "3    automatic  pickup     Unknown     0.0  2019-03-22            9  \n",
              "4    automatic   sedan       black     0.0  2019-04-02           28  "
            ]
          },
          "execution_count": 395,
          "metadata": {},
          "output_type": "execute_result"
        }
      ],
      "source": [
        "#Verificando amostra dos dados após as conversões\n",
        "data.head()"
      ]
    },
    {
      "cell_type": "markdown",
      "metadata": {
        "id": "MAMtkEMzhxHo"
      },
      "source": [
        "- Para adicionar valores de data/hora para quando a propaganda estiver colocada, usamos a função `pd.to_datetime()` do pandas para converter a coluna correspondente em formato de data/hora. Esse processo foi feito no tópico acima \"Corrija os tipos de dados\""
      ]
    },
    {
      "cell_type": "code",
      "execution_count": null,
      "metadata": {
        "id": "IuwQPe4ChxHo"
      },
      "outputs": [],
      "source": [
        "# Adicione valores data/hora para quando a propaganda estiver colocada"
      ]
    },
    {
      "cell_type": "code",
      "execution_count": null,
      "metadata": {
        "id": "p41Ad6e2hxHo"
      },
      "outputs": [],
      "source": [
        "# Adicione a idade do veículo quando a propaganda for colocada\n",
        "data['idade_veiculo'] = [(date_posted - date(year,1,1)).days/365 for date_posted, year\n",
        "                         in zip (data['date_posted'].dt.date, data['model_year'])]\n"
      ]
    },
    {
      "cell_type": "code",
      "execution_count": null,
      "metadata": {
        "id": "80OTD0KnhxHp"
      },
      "outputs": [],
      "source": [
        "#Transformando o tipo de dado da coluna idade_veiculo para inteiro\n",
        "data['idade_veiculo'] = data['idade_veiculo'].astype(int)"
      ]
    },
    {
      "cell_type": "code",
      "execution_count": null,
      "metadata": {
        "id": "hWVRBPDLhxHp"
      },
      "outputs": [],
      "source": [
        "# Adicione a quilometragem média por ano\n",
        "idade_maior_zero = data['idade_veiculo'] > 0\n",
        "data.loc[idade_maior_zero, 'km_mean'] = data['odometer'] / data['idade_veiculo']"
      ]
    },
    {
      "cell_type": "code",
      "execution_count": null,
      "metadata": {
        "id": "behtLm3ThxHp",
        "outputId": "e9b6a101-9e68-4450-9c13-ee5ced9f7ef9"
      },
      "outputs": [
        {
          "data": {
            "text/html": [
              "<div>\n",
              "<style scoped>\n",
              "    .dataframe tbody tr th:only-of-type {\n",
              "        vertical-align: middle;\n",
              "    }\n",
              "\n",
              "    .dataframe tbody tr th {\n",
              "        vertical-align: top;\n",
              "    }\n",
              "\n",
              "    .dataframe thead th {\n",
              "        text-align: right;\n",
              "    }\n",
              "</style>\n",
              "<table border=\"1\" class=\"dataframe\">\n",
              "  <thead>\n",
              "    <tr style=\"text-align: right;\">\n",
              "      <th></th>\n",
              "      <th>price</th>\n",
              "      <th>model_year</th>\n",
              "      <th>model</th>\n",
              "      <th>condition</th>\n",
              "      <th>cylinders</th>\n",
              "      <th>fuel</th>\n",
              "      <th>odometer</th>\n",
              "      <th>transmission</th>\n",
              "      <th>type</th>\n",
              "      <th>paint_color</th>\n",
              "      <th>is_4wd</th>\n",
              "      <th>date_posted</th>\n",
              "      <th>days_listed</th>\n",
              "      <th>idade_veiculo</th>\n",
              "      <th>km_mean</th>\n",
              "    </tr>\n",
              "  </thead>\n",
              "  <tbody>\n",
              "    <tr>\n",
              "      <th>0</th>\n",
              "      <td>9400</td>\n",
              "      <td>2011</td>\n",
              "      <td>bmw x5</td>\n",
              "      <td>good</td>\n",
              "      <td>6.0</td>\n",
              "      <td>gas</td>\n",
              "      <td>145000.0</td>\n",
              "      <td>automatic</td>\n",
              "      <td>SUV</td>\n",
              "      <td>Unknown</td>\n",
              "      <td>1.0</td>\n",
              "      <td>2018-06-23</td>\n",
              "      <td>19</td>\n",
              "      <td>7</td>\n",
              "      <td>20714.285714</td>\n",
              "    </tr>\n",
              "    <tr>\n",
              "      <th>1</th>\n",
              "      <td>25500</td>\n",
              "      <td>2011</td>\n",
              "      <td>ford f-150</td>\n",
              "      <td>good</td>\n",
              "      <td>6.0</td>\n",
              "      <td>gas</td>\n",
              "      <td>88705.0</td>\n",
              "      <td>automatic</td>\n",
              "      <td>pickup</td>\n",
              "      <td>white</td>\n",
              "      <td>1.0</td>\n",
              "      <td>2018-10-19</td>\n",
              "      <td>50</td>\n",
              "      <td>7</td>\n",
              "      <td>12672.142857</td>\n",
              "    </tr>\n",
              "    <tr>\n",
              "      <th>2</th>\n",
              "      <td>5500</td>\n",
              "      <td>2013</td>\n",
              "      <td>hyundai sonata</td>\n",
              "      <td>like new</td>\n",
              "      <td>4.0</td>\n",
              "      <td>gas</td>\n",
              "      <td>110000.0</td>\n",
              "      <td>automatic</td>\n",
              "      <td>sedan</td>\n",
              "      <td>red</td>\n",
              "      <td>0.0</td>\n",
              "      <td>2019-02-07</td>\n",
              "      <td>79</td>\n",
              "      <td>6</td>\n",
              "      <td>18333.333333</td>\n",
              "    </tr>\n",
              "    <tr>\n",
              "      <th>3</th>\n",
              "      <td>1500</td>\n",
              "      <td>2003</td>\n",
              "      <td>ford f-150</td>\n",
              "      <td>fair</td>\n",
              "      <td>8.0</td>\n",
              "      <td>gas</td>\n",
              "      <td>121928.0</td>\n",
              "      <td>automatic</td>\n",
              "      <td>pickup</td>\n",
              "      <td>Unknown</td>\n",
              "      <td>0.0</td>\n",
              "      <td>2019-03-22</td>\n",
              "      <td>9</td>\n",
              "      <td>16</td>\n",
              "      <td>7620.500000</td>\n",
              "    </tr>\n",
              "    <tr>\n",
              "      <th>4</th>\n",
              "      <td>14900</td>\n",
              "      <td>2017</td>\n",
              "      <td>chrysler 200</td>\n",
              "      <td>excellent</td>\n",
              "      <td>4.0</td>\n",
              "      <td>gas</td>\n",
              "      <td>80903.0</td>\n",
              "      <td>automatic</td>\n",
              "      <td>sedan</td>\n",
              "      <td>black</td>\n",
              "      <td>0.0</td>\n",
              "      <td>2019-04-02</td>\n",
              "      <td>28</td>\n",
              "      <td>2</td>\n",
              "      <td>40451.500000</td>\n",
              "    </tr>\n",
              "  </tbody>\n",
              "</table>\n",
              "</div>"
            ],
            "text/plain": [
              "   price  model_year           model  condition cylinders fuel  odometer  \\\n",
              "0   9400        2011          bmw x5       good       6.0  gas  145000.0   \n",
              "1  25500        2011      ford f-150       good       6.0  gas   88705.0   \n",
              "2   5500        2013  hyundai sonata   like new       4.0  gas  110000.0   \n",
              "3   1500        2003      ford f-150       fair       8.0  gas  121928.0   \n",
              "4  14900        2017    chrysler 200  excellent       4.0  gas   80903.0   \n",
              "\n",
              "  transmission    type paint_color  is_4wd date_posted  days_listed  \\\n",
              "0    automatic     SUV     Unknown     1.0  2018-06-23           19   \n",
              "1    automatic  pickup       white     1.0  2018-10-19           50   \n",
              "2    automatic   sedan         red     0.0  2019-02-07           79   \n",
              "3    automatic  pickup     Unknown     0.0  2019-03-22            9   \n",
              "4    automatic   sedan       black     0.0  2019-04-02           28   \n",
              "\n",
              "   idade_veiculo       km_mean  \n",
              "0              7  20714.285714  \n",
              "1              7  12672.142857  \n",
              "2              6  18333.333333  \n",
              "3             16   7620.500000  \n",
              "4              2  40451.500000  "
            ]
          },
          "execution_count": 400,
          "metadata": {},
          "output_type": "execute_result"
        }
      ],
      "source": [
        "data.head()"
      ]
    },
    {
      "cell_type": "markdown",
      "metadata": {
        "id": "NAxvHxJAhxHp"
      },
      "source": [
        "- Inicialmente os mesmos três veículos que tinham idade igual a zero na coluna `idade_veiculo` também estão apresentando valores 'inf' na coluna `km_mean`, é possível que essa seja a causa do problema. Como a divisão por zero resulta em um valor indefinido ('inf' para infinito), tratamos esse cenário antes de calcular a coluna `km_mean`.  Ajustando para excluir os registros com idade igual a zero antes de realizar o cálculo."
      ]
    },
    {
      "cell_type": "code",
      "execution_count": null,
      "metadata": {
        "id": "_JP-8h2lhxHq",
        "outputId": "b33f98b9-2cc0-4bdb-b40e-5a8939d3f95a",
        "scrolled": true
      },
      "outputs": [
        {
          "data": {
            "text/html": [
              "<div>\n",
              "<style scoped>\n",
              "    .dataframe tbody tr th:only-of-type {\n",
              "        vertical-align: middle;\n",
              "    }\n",
              "\n",
              "    .dataframe tbody tr th {\n",
              "        vertical-align: top;\n",
              "    }\n",
              "\n",
              "    .dataframe thead th {\n",
              "        text-align: right;\n",
              "    }\n",
              "</style>\n",
              "<table border=\"1\" class=\"dataframe\">\n",
              "  <thead>\n",
              "    <tr style=\"text-align: right;\">\n",
              "      <th></th>\n",
              "      <th>price</th>\n",
              "      <th>model_year</th>\n",
              "      <th>model</th>\n",
              "      <th>condition</th>\n",
              "      <th>cylinders</th>\n",
              "      <th>fuel</th>\n",
              "      <th>odometer</th>\n",
              "      <th>transmission</th>\n",
              "      <th>type</th>\n",
              "      <th>paint_color</th>\n",
              "      <th>is_4wd</th>\n",
              "      <th>date_posted</th>\n",
              "      <th>days_listed</th>\n",
              "      <th>idade_veiculo</th>\n",
              "      <th>km_mean</th>\n",
              "    </tr>\n",
              "  </thead>\n",
              "  <tbody>\n",
              "    <tr>\n",
              "      <th>19</th>\n",
              "      <td>13990</td>\n",
              "      <td>2018</td>\n",
              "      <td>hyundai elantra</td>\n",
              "      <td>excellent</td>\n",
              "      <td>4.0</td>\n",
              "      <td>gas</td>\n",
              "      <td>31932.0</td>\n",
              "      <td>automatic</td>\n",
              "      <td>sedan</td>\n",
              "      <td>red</td>\n",
              "      <td>0.0</td>\n",
              "      <td>2018-08-25</td>\n",
              "      <td>27</td>\n",
              "      <td>0</td>\n",
              "      <td>NaN</td>\n",
              "    </tr>\n",
              "    <tr>\n",
              "      <th>71</th>\n",
              "      <td>23300</td>\n",
              "      <td>2018</td>\n",
              "      <td>nissan frontier crew cab sv</td>\n",
              "      <td>good</td>\n",
              "      <td>6.0</td>\n",
              "      <td>gas</td>\n",
              "      <td>27493.0</td>\n",
              "      <td>other</td>\n",
              "      <td>pickup</td>\n",
              "      <td>Unknown</td>\n",
              "      <td>1.0</td>\n",
              "      <td>2018-10-13</td>\n",
              "      <td>36</td>\n",
              "      <td>0</td>\n",
              "      <td>NaN</td>\n",
              "    </tr>\n",
              "    <tr>\n",
              "      <th>78</th>\n",
              "      <td>23800</td>\n",
              "      <td>2019</td>\n",
              "      <td>nissan frontier crew cab sv</td>\n",
              "      <td>good</td>\n",
              "      <td>6.0</td>\n",
              "      <td>gas</td>\n",
              "      <td>10899.0</td>\n",
              "      <td>other</td>\n",
              "      <td>pickup</td>\n",
              "      <td>silver</td>\n",
              "      <td>1.0</td>\n",
              "      <td>2019-02-28</td>\n",
              "      <td>30</td>\n",
              "      <td>0</td>\n",
              "      <td>NaN</td>\n",
              "    </tr>\n",
              "    <tr>\n",
              "      <th>99</th>\n",
              "      <td>39950</td>\n",
              "      <td>2018</td>\n",
              "      <td>chevrolet silverado</td>\n",
              "      <td>excellent</td>\n",
              "      <td>8.0</td>\n",
              "      <td>gas</td>\n",
              "      <td>18500.0</td>\n",
              "      <td>automatic</td>\n",
              "      <td>truck</td>\n",
              "      <td>Unknown</td>\n",
              "      <td>1.0</td>\n",
              "      <td>2018-08-05</td>\n",
              "      <td>16</td>\n",
              "      <td>0</td>\n",
              "      <td>NaN</td>\n",
              "    </tr>\n",
              "    <tr>\n",
              "      <th>106</th>\n",
              "      <td>21500</td>\n",
              "      <td>2019</td>\n",
              "      <td>nissan frontier crew cab sv</td>\n",
              "      <td>good</td>\n",
              "      <td>6.0</td>\n",
              "      <td>gas</td>\n",
              "      <td>16168.0</td>\n",
              "      <td>other</td>\n",
              "      <td>pickup</td>\n",
              "      <td>white</td>\n",
              "      <td>0.0</td>\n",
              "      <td>2019-03-29</td>\n",
              "      <td>70</td>\n",
              "      <td>0</td>\n",
              "      <td>NaN</td>\n",
              "    </tr>\n",
              "    <tr>\n",
              "      <th>...</th>\n",
              "      <td>...</td>\n",
              "      <td>...</td>\n",
              "      <td>...</td>\n",
              "      <td>...</td>\n",
              "      <td>...</td>\n",
              "      <td>...</td>\n",
              "      <td>...</td>\n",
              "      <td>...</td>\n",
              "      <td>...</td>\n",
              "      <td>...</td>\n",
              "      <td>...</td>\n",
              "      <td>...</td>\n",
              "      <td>...</td>\n",
              "      <td>...</td>\n",
              "      <td>...</td>\n",
              "    </tr>\n",
              "    <tr>\n",
              "      <th>51376</th>\n",
              "      <td>27890</td>\n",
              "      <td>2018</td>\n",
              "      <td>ram 1500</td>\n",
              "      <td>excellent</td>\n",
              "      <td>8.0</td>\n",
              "      <td>gas</td>\n",
              "      <td>9446.0</td>\n",
              "      <td>automatic</td>\n",
              "      <td>truck</td>\n",
              "      <td>Unknown</td>\n",
              "      <td>1.0</td>\n",
              "      <td>2018-05-06</td>\n",
              "      <td>39</td>\n",
              "      <td>0</td>\n",
              "      <td>NaN</td>\n",
              "    </tr>\n",
              "    <tr>\n",
              "      <th>51442</th>\n",
              "      <td>28990</td>\n",
              "      <td>2018</td>\n",
              "      <td>ford f150</td>\n",
              "      <td>excellent</td>\n",
              "      <td>cylinders    8.0\n",
              "Name: ford f150, dtype: float64</td>\n",
              "      <td>gas</td>\n",
              "      <td>10152.0</td>\n",
              "      <td>automatic</td>\n",
              "      <td>truck</td>\n",
              "      <td>white</td>\n",
              "      <td>1.0</td>\n",
              "      <td>2018-06-13</td>\n",
              "      <td>47</td>\n",
              "      <td>0</td>\n",
              "      <td>NaN</td>\n",
              "    </tr>\n",
              "    <tr>\n",
              "      <th>51446</th>\n",
              "      <td>15999</td>\n",
              "      <td>2018</td>\n",
              "      <td>chevrolet malibu</td>\n",
              "      <td>excellent</td>\n",
              "      <td>4.0</td>\n",
              "      <td>gas</td>\n",
              "      <td>50502.0</td>\n",
              "      <td>automatic</td>\n",
              "      <td>sedan</td>\n",
              "      <td>black</td>\n",
              "      <td>0.0</td>\n",
              "      <td>2018-07-28</td>\n",
              "      <td>8</td>\n",
              "      <td>0</td>\n",
              "      <td>NaN</td>\n",
              "    </tr>\n",
              "    <tr>\n",
              "      <th>51447</th>\n",
              "      <td>33990</td>\n",
              "      <td>2019</td>\n",
              "      <td>ram 1500</td>\n",
              "      <td>excellent</td>\n",
              "      <td>8.0</td>\n",
              "      <td>gas</td>\n",
              "      <td>9000.0</td>\n",
              "      <td>automatic</td>\n",
              "      <td>truck</td>\n",
              "      <td>white</td>\n",
              "      <td>1.0</td>\n",
              "      <td>2019-01-25</td>\n",
              "      <td>36</td>\n",
              "      <td>0</td>\n",
              "      <td>NaN</td>\n",
              "    </tr>\n",
              "    <tr>\n",
              "      <th>51504</th>\n",
              "      <td>20481</td>\n",
              "      <td>2018</td>\n",
              "      <td>toyota camry</td>\n",
              "      <td>like new</td>\n",
              "      <td>4.0</td>\n",
              "      <td>gas</td>\n",
              "      <td>38590.0</td>\n",
              "      <td>automatic</td>\n",
              "      <td>sedan</td>\n",
              "      <td>silver</td>\n",
              "      <td>0.0</td>\n",
              "      <td>2018-12-06</td>\n",
              "      <td>4</td>\n",
              "      <td>0</td>\n",
              "      <td>NaN</td>\n",
              "    </tr>\n",
              "  </tbody>\n",
              "</table>\n",
              "<p>2152 rows × 15 columns</p>\n",
              "</div>"
            ],
            "text/plain": [
              "       price  model_year                        model  condition  \\\n",
              "19     13990        2018              hyundai elantra  excellent   \n",
              "71     23300        2018  nissan frontier crew cab sv       good   \n",
              "78     23800        2019  nissan frontier crew cab sv       good   \n",
              "99     39950        2018          chevrolet silverado  excellent   \n",
              "106    21500        2019  nissan frontier crew cab sv       good   \n",
              "...      ...         ...                          ...        ...   \n",
              "51376  27890        2018                     ram 1500  excellent   \n",
              "51442  28990        2018                    ford f150  excellent   \n",
              "51446  15999        2018             chevrolet malibu  excellent   \n",
              "51447  33990        2019                     ram 1500  excellent   \n",
              "51504  20481        2018                 toyota camry   like new   \n",
              "\n",
              "                                              cylinders fuel  odometer  \\\n",
              "19                                                  4.0  gas   31932.0   \n",
              "71                                                  6.0  gas   27493.0   \n",
              "78                                                  6.0  gas   10899.0   \n",
              "99                                                  8.0  gas   18500.0   \n",
              "106                                                 6.0  gas   16168.0   \n",
              "...                                                 ...  ...       ...   \n",
              "51376                                               8.0  gas    9446.0   \n",
              "51442  cylinders    8.0\n",
              "Name: ford f150, dtype: float64  gas   10152.0   \n",
              "51446                                               4.0  gas   50502.0   \n",
              "51447                                               8.0  gas    9000.0   \n",
              "51504                                               4.0  gas   38590.0   \n",
              "\n",
              "      transmission    type paint_color  is_4wd date_posted  days_listed  \\\n",
              "19       automatic   sedan         red     0.0  2018-08-25           27   \n",
              "71           other  pickup     Unknown     1.0  2018-10-13           36   \n",
              "78           other  pickup      silver     1.0  2019-02-28           30   \n",
              "99       automatic   truck     Unknown     1.0  2018-08-05           16   \n",
              "106          other  pickup       white     0.0  2019-03-29           70   \n",
              "...            ...     ...         ...     ...         ...          ...   \n",
              "51376    automatic   truck     Unknown     1.0  2018-05-06           39   \n",
              "51442    automatic   truck       white     1.0  2018-06-13           47   \n",
              "51446    automatic   sedan       black     0.0  2018-07-28            8   \n",
              "51447    automatic   truck       white     1.0  2019-01-25           36   \n",
              "51504    automatic   sedan      silver     0.0  2018-12-06            4   \n",
              "\n",
              "       idade_veiculo  km_mean  \n",
              "19                 0      NaN  \n",
              "71                 0      NaN  \n",
              "78                 0      NaN  \n",
              "99                 0      NaN  \n",
              "106                0      NaN  \n",
              "...              ...      ...  \n",
              "51376              0      NaN  \n",
              "51442              0      NaN  \n",
              "51446              0      NaN  \n",
              "51447              0      NaN  \n",
              "51504              0      NaN  \n",
              "\n",
              "[2152 rows x 15 columns]"
            ]
          },
          "execution_count": 401,
          "metadata": {},
          "output_type": "execute_result"
        }
      ],
      "source": [
        "#Verificando a existencia de NaN e inf\n",
        "data['km_mean'].isna().sum()\n",
        "data[data['km_mean'].isna()]\n"
      ]
    },
    {
      "cell_type": "markdown",
      "metadata": {
        "id": "8sBg-JdShxHr"
      },
      "source": [
        "- Os valores ausentes na coluna `km_mean` são os mesmos três valores com idade do veículo igual a zero, isso indica que a divisão `odometer` / `idade_veiculo` resultou em um valor indeterminado (NaN) nessas linhas. Isso ocorre porque a divisão por zero não é definida. Uma abordagem para lidar com esses valores ausentes é preenchê-los com um valor específico que represente essa situação. Por exemplo, substituir esses valores NaN por zero para indicar que a quilometragem média não pode ser calculada para veículos com idade igual a zero."
      ]
    },
    {
      "cell_type": "code",
      "execution_count": null,
      "metadata": {
        "id": "kc-vQ9LihxHr"
      },
      "outputs": [],
      "source": [
        "#Substituindo\n",
        "data['km_mean'].fillna(0, inplace=True)"
      ]
    },
    {
      "cell_type": "code",
      "execution_count": null,
      "metadata": {
        "id": "BuXiOmLqhxHr",
        "outputId": "186395d9-ea6c-438a-8a87-94fadb44199a"
      },
      "outputs": [
        {
          "data": {
            "text/plain": [
              "0"
            ]
          },
          "execution_count": 403,
          "metadata": {},
          "output_type": "execute_result"
        }
      ],
      "source": [
        "#Verificando substitução\n",
        "data['km_mean'].isna().sum()"
      ]
    },
    {
      "cell_type": "code",
      "execution_count": null,
      "metadata": {
        "id": "bMYh6WHLhxHs"
      },
      "outputs": [],
      "source": [
        "#Convertendo coluna km_mean para float\n",
        "data['km_mean'] = data['km_mean'].astype(float)"
      ]
    },
    {
      "cell_type": "code",
      "execution_count": null,
      "metadata": {
        "id": "tzBl2sIDhxHs",
        "outputId": "84f5a815-b529-4fe3-e61a-83a78578d74f"
      },
      "outputs": [
        {
          "data": {
            "text/plain": [
              "0"
            ]
          },
          "execution_count": 405,
          "metadata": {},
          "output_type": "execute_result"
        }
      ],
      "source": [
        "np.isinf(data['km_mean']).sum()"
      ]
    },
    {
      "cell_type": "code",
      "execution_count": null,
      "metadata": {
        "id": "73cS8WI0hxHs",
        "outputId": "565fc251-8a70-4461-b21d-5ba3b5de4ebe"
      },
      "outputs": [
        {
          "name": "stdout",
          "output_type": "stream",
          "text": [
            "Empty DataFrame\n",
            "Columns: [price, model_year, model, condition, cylinders, fuel, odometer, transmission, type, paint_color, is_4wd, date_posted, days_listed, idade_veiculo, km_mean]\n",
            "Index: []\n"
          ]
        }
      ],
      "source": [
        "print(data[np.isinf(data['km_mean'])])"
      ]
    },
    {
      "cell_type": "markdown",
      "metadata": {
        "id": "HrqyJHEYhxHs"
      },
      "source": [
        "- Para cada par de valores correspondentes nessas colunas, está sendo feita uma comparação para verificar se a data de postagem é anterior ao primeiro dia do ano correspondente ao modelo."
      ]
    },
    {
      "cell_type": "code",
      "execution_count": null,
      "metadata": {
        "id": "Hl212c5GhxHt",
        "outputId": "b082af1d-45e1-4e8b-eaba-19c8177e2ae7"
      },
      "outputs": [
        {
          "name": "stdout",
          "output_type": "stream",
          "text": [
            "Não existem valores True\n"
          ]
        }
      ],
      "source": [
        "# Verificando se a data de postagem é anterior ao primeiro dia do ano correspondente ao modelo.\n",
        "postagem_modelo = [(date_posted < date(year, 1, 1)) for date_posted, year in zip(data['date_posted'].dt.date, data['model_year'])]\n",
        "\n",
        "if any(postagem_modelo):\n",
        "    print('Existem valores True')\n",
        "else:\n",
        "    print('Não existem valores True')"
      ]
    },
    {
      "cell_type": "code",
      "execution_count": null,
      "metadata": {
        "id": "y7kXxHevhxHt",
        "outputId": "d21e5f70-20a1-4874-ab6b-004f574ee2b9"
      },
      "outputs": [
        {
          "data": {
            "text/plain": [
              "['excellent', 'fair', 'good', 'like new', 'new', 'salvage']"
            ]
          },
          "execution_count": 408,
          "metadata": {},
          "output_type": "execute_result"
        }
      ],
      "source": [
        "#Analisando os valores únicos da coluna 'condition'\n",
        "sorted(data['condition'].unique())"
      ]
    },
    {
      "cell_type": "markdown",
      "metadata": {
        "id": "-5599GkChxHt"
      },
      "source": [
        "- Vamos mapear os valores da coluna `condition` para uma escala numérica. Criando um dicionário chamado `scale` que associa cada valor de condição a um valor numérico correspondente. Em seguida, usando o método 'replace' para substituir os valores da coluna 'condition' pelos valores da escala numérica. Isso nos permite representar a condição dos veículos em uma escala de 0 a 5, onde 0 corresponde a \"sucata\" e 5 corresponde a \"novo\"."
      ]
    },
    {
      "cell_type": "code",
      "execution_count": null,
      "metadata": {
        "id": "h0PcS9b8hxHu"
      },
      "outputs": [],
      "source": [
        "# Isso deve ajudar a substituir os valores condicionais por alguma coisa que pode ser manipulada mais facilmente\n",
        "scale = {'new': 5,\n",
        "        'like new': 4,\n",
        "        'excellent': 3,\n",
        "        'good': 2,\n",
        "        'fair': 1,\n",
        "        'salvage':0,\n",
        "        }\n",
        "\n",
        "data['condition'] = data['condition'].replace(scale)"
      ]
    },
    {
      "cell_type": "code",
      "execution_count": null,
      "metadata": {
        "id": "2f4c_Se9hxHu",
        "outputId": "a36e0b92-ed68-4885-db5c-e44d2c2a6875"
      },
      "outputs": [
        {
          "data": {
            "text/plain": [
              "[0, 1, 2, 3, 4, 5]"
            ]
          },
          "execution_count": 410,
          "metadata": {},
          "output_type": "execute_result"
        }
      ],
      "source": [
        "#Verificando a substituição\n",
        "sorted(data['condition'].unique())"
      ]
    },
    {
      "cell_type": "markdown",
      "metadata": {
        "id": "wZGD2jFdhxHv"
      },
      "source": [
        "## Verificando os dados limpos"
      ]
    },
    {
      "cell_type": "markdown",
      "metadata": {
        "id": "jso6NNu0hxHv"
      },
      "source": [
        "- Agora que os dados estão preparados para análise, é importante dar uma olhada rápida neles para identificar quais variáveis serão utilizadas. Isso permite ter uma visão geral dos dados que serão usados na análise e facilita o planejamento das etapas subsequentes."
      ]
    },
    {
      "cell_type": "code",
      "execution_count": null,
      "metadata": {
        "id": "thUx3iIAhxHv",
        "outputId": "cde4d047-d611-4b33-c255-54d19e8a8e4f"
      },
      "outputs": [
        {
          "name": "stdout",
          "output_type": "stream",
          "text": [
            "<class 'pandas.core.frame.DataFrame'>\n",
            "RangeIndex: 51525 entries, 0 to 51524\n",
            "Data columns (total 15 columns):\n",
            " #   Column         Non-Null Count  Dtype         \n",
            "---  ------         --------------  -----         \n",
            " 0   price          51525 non-null  int64         \n",
            " 1   model_year     51525 non-null  int64         \n",
            " 2   model          51525 non-null  object        \n",
            " 3   condition      51525 non-null  int64         \n",
            " 4   cylinders      51525 non-null  object        \n",
            " 5   fuel           51525 non-null  object        \n",
            " 6   odometer       51525 non-null  float64       \n",
            " 7   transmission   51525 non-null  object        \n",
            " 8   type           51525 non-null  object        \n",
            " 9   paint_color    51525 non-null  object        \n",
            " 10  is_4wd         51525 non-null  float64       \n",
            " 11  date_posted    51525 non-null  datetime64[ns]\n",
            " 12  days_listed    51525 non-null  int64         \n",
            " 13  idade_veiculo  51525 non-null  int64         \n",
            " 14  km_mean        51525 non-null  float64       \n",
            "dtypes: datetime64[ns](1), float64(3), int64(5), object(6)\n",
            "memory usage: 5.9+ MB\n",
            "None\n"
          ]
        }
      ],
      "source": [
        "# imprima as informações gerais/resumidas sobre o DataFrame\n",
        "print(data.info())\n"
      ]
    },
    {
      "cell_type": "code",
      "execution_count": null,
      "metadata": {
        "id": "yQ37DAnwhxHv",
        "outputId": "342eb963-7fd0-4784-a017-fa27b18aadfc"
      },
      "outputs": [
        {
          "data": {
            "text/html": [
              "<div>\n",
              "<style scoped>\n",
              "    .dataframe tbody tr th:only-of-type {\n",
              "        vertical-align: middle;\n",
              "    }\n",
              "\n",
              "    .dataframe tbody tr th {\n",
              "        vertical-align: top;\n",
              "    }\n",
              "\n",
              "    .dataframe thead th {\n",
              "        text-align: right;\n",
              "    }\n",
              "</style>\n",
              "<table border=\"1\" class=\"dataframe\">\n",
              "  <thead>\n",
              "    <tr style=\"text-align: right;\">\n",
              "      <th></th>\n",
              "      <th>price</th>\n",
              "      <th>model_year</th>\n",
              "      <th>condition</th>\n",
              "      <th>odometer</th>\n",
              "      <th>is_4wd</th>\n",
              "      <th>days_listed</th>\n",
              "      <th>idade_veiculo</th>\n",
              "      <th>km_mean</th>\n",
              "    </tr>\n",
              "  </thead>\n",
              "  <tbody>\n",
              "    <tr>\n",
              "      <th>count</th>\n",
              "      <td>51525.000000</td>\n",
              "      <td>51525.000000</td>\n",
              "      <td>51525.000000</td>\n",
              "      <td>51525.000000</td>\n",
              "      <td>51525.000000</td>\n",
              "      <td>51525.00000</td>\n",
              "      <td>51525.000000</td>\n",
              "      <td>51525.000000</td>\n",
              "    </tr>\n",
              "    <tr>\n",
              "      <th>mean</th>\n",
              "      <td>12132.464920</td>\n",
              "      <td>2009.793557</td>\n",
              "      <td>2.637535</td>\n",
              "      <td>115246.283988</td>\n",
              "      <td>0.496303</td>\n",
              "      <td>39.55476</td>\n",
              "      <td>8.520136</td>\n",
              "      <td>17473.890731</td>\n",
              "    </tr>\n",
              "    <tr>\n",
              "      <th>std</th>\n",
              "      <td>10040.803015</td>\n",
              "      <td>6.099381</td>\n",
              "      <td>0.712447</td>\n",
              "      <td>60701.688093</td>\n",
              "      <td>0.499991</td>\n",
              "      <td>28.20427</td>\n",
              "      <td>6.116980</td>\n",
              "      <td>14829.816744</td>\n",
              "    </tr>\n",
              "    <tr>\n",
              "      <th>min</th>\n",
              "      <td>1.000000</td>\n",
              "      <td>1908.000000</td>\n",
              "      <td>0.000000</td>\n",
              "      <td>0.000000</td>\n",
              "      <td>0.000000</td>\n",
              "      <td>0.00000</td>\n",
              "      <td>0.000000</td>\n",
              "      <td>0.000000</td>\n",
              "    </tr>\n",
              "    <tr>\n",
              "      <th>25%</th>\n",
              "      <td>5000.000000</td>\n",
              "      <td>2007.000000</td>\n",
              "      <td>2.000000</td>\n",
              "      <td>77000.000000</td>\n",
              "      <td>0.000000</td>\n",
              "      <td>19.00000</td>\n",
              "      <td>4.000000</td>\n",
              "      <td>9800.000000</td>\n",
              "    </tr>\n",
              "    <tr>\n",
              "      <th>50%</th>\n",
              "      <td>9000.000000</td>\n",
              "      <td>2011.000000</td>\n",
              "      <td>3.000000</td>\n",
              "      <td>115256.000000</td>\n",
              "      <td>0.000000</td>\n",
              "      <td>33.00000</td>\n",
              "      <td>8.000000</td>\n",
              "      <td>14500.000000</td>\n",
              "    </tr>\n",
              "    <tr>\n",
              "      <th>75%</th>\n",
              "      <td>16839.000000</td>\n",
              "      <td>2014.000000</td>\n",
              "      <td>3.000000</td>\n",
              "      <td>148177.000000</td>\n",
              "      <td>1.000000</td>\n",
              "      <td>53.00000</td>\n",
              "      <td>12.000000</td>\n",
              "      <td>20960.000000</td>\n",
              "    </tr>\n",
              "    <tr>\n",
              "      <th>max</th>\n",
              "      <td>375000.000000</td>\n",
              "      <td>2019.000000</td>\n",
              "      <td>5.000000</td>\n",
              "      <td>990000.000000</td>\n",
              "      <td>1.000000</td>\n",
              "      <td>271.00000</td>\n",
              "      <td>110.000000</td>\n",
              "      <td>279365.000000</td>\n",
              "    </tr>\n",
              "  </tbody>\n",
              "</table>\n",
              "</div>"
            ],
            "text/plain": [
              "               price    model_year     condition       odometer        is_4wd  \\\n",
              "count   51525.000000  51525.000000  51525.000000   51525.000000  51525.000000   \n",
              "mean    12132.464920   2009.793557      2.637535  115246.283988      0.496303   \n",
              "std     10040.803015      6.099381      0.712447   60701.688093      0.499991   \n",
              "min         1.000000   1908.000000      0.000000       0.000000      0.000000   \n",
              "25%      5000.000000   2007.000000      2.000000   77000.000000      0.000000   \n",
              "50%      9000.000000   2011.000000      3.000000  115256.000000      0.000000   \n",
              "75%     16839.000000   2014.000000      3.000000  148177.000000      1.000000   \n",
              "max    375000.000000   2019.000000      5.000000  990000.000000      1.000000   \n",
              "\n",
              "       days_listed  idade_veiculo        km_mean  \n",
              "count  51525.00000   51525.000000   51525.000000  \n",
              "mean      39.55476       8.520136   17473.890731  \n",
              "std       28.20427       6.116980   14829.816744  \n",
              "min        0.00000       0.000000       0.000000  \n",
              "25%       19.00000       4.000000    9800.000000  \n",
              "50%       33.00000       8.000000   14500.000000  \n",
              "75%       53.00000      12.000000   20960.000000  \n",
              "max      271.00000     110.000000  279365.000000  "
            ]
          },
          "execution_count": 412,
          "metadata": {},
          "output_type": "execute_result"
        }
      ],
      "source": [
        "# imprima uma amostragem dos dados\n",
        "data.describe()\n"
      ]
    },
    {
      "cell_type": "markdown",
      "metadata": {
        "id": "CScUTPt_hxHw"
      },
      "source": [
        "## Estude os parâmetros fundamentais\n",
        "\n",
        "Os parâmetros são\n",
        "- Preço\n",
        "- A idade do veículo quando a propaganda foi colocada\n",
        "- Quilometragem\n",
        "- Número de cilindros\n",
        "- Condição"
      ]
    },
    {
      "cell_type": "markdown",
      "metadata": {
        "id": "PvwF6yqxhxHw"
      },
      "source": [
        "- Para estudar os parâmetros listados, vamos utilizar histogramas. Criaremos uma função para analisar cada um dos parametros acima, calcular estatísticas como média, mediana e quartis. Alem de identificar os valores atípicos e exibir um histograma. Essa função é útil para entender a distribuição dos dados em uma determinada coluna, identificar possíveis valores atípicos e obter estatísticas resumidas. Ela permite uma análise inicial dos dados e pode ajudar a identificar padrões e tendências.\n",
        "- Um valor é considerado atípico se não pertencer a este intervalo **[Q1 - 1.5 * IQR, Q3 + 1.5 * IQR]**"
      ]
    },
    {
      "cell_type": "code",
      "execution_count": null,
      "metadata": {
        "id": "au6RlGcXhxHw"
      },
      "outputs": [],
      "source": [
        "#Criando uma função para este trabaho\n",
        "def analyzing_data(data,column):\n",
        "    Q1 = data[column].quantile(0.25)\n",
        "    Q3 = data[column].quantile(0.75)\n",
        "    IQR = Q3 - Q1\n",
        "    lower_limit = Q1 - 1.5 * IQR\n",
        "    upper_limit = Q3 + 1.5 * IQR\n",
        "    print(f'Summary statistics for: {column}')\n",
        "    print()\n",
        "    print(data[column].describe())\n",
        "    print()\n",
        "    data.hist(column=column,bins=50, grid=True)\n",
        "    plt.show()"
      ]
    },
    {
      "cell_type": "markdown",
      "metadata": {
        "id": "qGiLZWxVhxHx"
      },
      "source": [
        "##### Estudando os parametros"
      ]
    },
    {
      "cell_type": "code",
      "execution_count": null,
      "metadata": {
        "id": "V2Ve9aTjhxHx",
        "outputId": "d41fada2-458f-4919-d8c7-b79fac5d5b25"
      },
      "outputs": [
        {
          "name": "stdout",
          "output_type": "stream",
          "text": [
            "Summary statistics for: price\n",
            "\n",
            "count     51525.000000\n",
            "mean      12132.464920\n",
            "std       10040.803015\n",
            "min           1.000000\n",
            "25%        5000.000000\n",
            "50%        9000.000000\n",
            "75%       16839.000000\n",
            "max      375000.000000\n",
            "Name: price, dtype: float64\n",
            "\n"
          ]
        },
        {
          "data": {
            "image/png": "[encoded data removed]",
            "text/plain": [
              "<Figure size 432x288 with 1 Axes>"
            ]
          },
          "metadata": {
            "needs_background": "light"
          },
          "output_type": "display_data"
        }
      ],
      "source": [
        "#Analisando a coluna 'price'\n",
        "analyzing_data(data,'price')"
      ]
    },
    {
      "cell_type": "code",
      "execution_count": null,
      "metadata": {
        "id": "AiWDq8kxhxHx",
        "outputId": "c692b10a-1a19-4752-9763-5a9f64cc9905"
      },
      "outputs": [
        {
          "name": "stdout",
          "output_type": "stream",
          "text": [
            "Summary statistics for: idade_veiculo\n",
            "\n",
            "count    51525.000000\n",
            "mean         8.520136\n",
            "std          6.116980\n",
            "min          0.000000\n",
            "25%          4.000000\n",
            "50%          8.000000\n",
            "75%         12.000000\n",
            "max        110.000000\n",
            "Name: idade_veiculo, dtype: float64\n",
            "\n"
          ]
        },
        {
          "data": {
            "image/png": "[encoded data removed]",
            "text/plain": [
              "<Figure size 432x288 with 1 Axes>"
            ]
          },
          "metadata": {
            "needs_background": "light"
          },
          "output_type": "display_data"
        }
      ],
      "source": [
        "#Analisando idade do veículo\n",
        "analyzing_data(data,'idade_veiculo')\n"
      ]
    },
    {
      "cell_type": "code",
      "execution_count": null,
      "metadata": {
        "id": "uzVmv7EAhxHy",
        "outputId": "40cb2993-d175-4be7-ea46-022e875e4bae"
      },
      "outputs": [
        {
          "name": "stdout",
          "output_type": "stream",
          "text": [
            "Summary statistics for: cylinders\n",
            "\n",
            "count    51525.000000\n",
            "mean         6.121494\n",
            "std          1.657296\n",
            "min          3.000000\n",
            "25%          4.000000\n",
            "50%          6.000000\n",
            "75%          8.000000\n",
            "max         12.000000\n",
            "Name: cylinders, dtype: float64\n",
            "\n"
          ]
        },
        {
          "data": {
            "image/png": "[encoded data removed]",
            "text/plain": [
              "<Figure size 432x288 with 1 Axes>"
            ]
          },
          "metadata": {
            "needs_background": "light"
          },
          "output_type": "display_data"
        }
      ],
      "source": [
        "analyzing_data(data,'cylinders')"
      ]
    },
    {
      "cell_type": "code",
      "execution_count": null,
      "metadata": {
        "id": "VawKvyFxhxHy",
        "outputId": "ec2e98b9-dbe8-4681-fd2b-9040f04e76e9"
      },
      "outputs": [
        {
          "name": "stdout",
          "output_type": "stream",
          "text": [
            "Summary statistics for: odometer\n",
            "\n",
            "count     51525.000000\n",
            "mean     115246.283988\n",
            "std       60701.688093\n",
            "min           0.000000\n",
            "25%       77000.000000\n",
            "50%      115256.000000\n",
            "75%      148177.000000\n",
            "max      990000.000000\n",
            "Name: odometer, dtype: float64\n",
            "\n"
          ]
        },
        {
          "data": {
            "image/png": "[encoded data removed]",
            "text/plain": [
              "<Figure size 432x288 with 1 Axes>"
            ]
          },
          "metadata": {
            "needs_background": "light"
          },
          "output_type": "display_data"
        }
      ],
      "source": [
        "#Analisando kilometragem do veículo\n",
        "analyzing_data(data,'odometer')\n"
      ]
    },
    {
      "cell_type": "code",
      "execution_count": null,
      "metadata": {
        "id": "8vlLYrT1hxHy",
        "outputId": "f3754aed-3bf7-457e-d893-f080959ad55d"
      },
      "outputs": [
        {
          "name": "stdout",
          "output_type": "stream",
          "text": [
            "Summary statistics for: cylinders\n",
            "\n",
            "count    51525.000000\n",
            "mean         6.121494\n",
            "std          1.657296\n",
            "min          3.000000\n",
            "25%          4.000000\n",
            "50%          6.000000\n",
            "75%          8.000000\n",
            "max         12.000000\n",
            "Name: cylinders, dtype: float64\n",
            "\n"
          ]
        },
        {
          "data": {
            "image/png": "[encoded data removed]",
            "text/plain": [
              "<Figure size 432x288 with 1 Axes>"
            ]
          },
          "metadata": {
            "needs_background": "light"
          },
          "output_type": "display_data"
        }
      ],
      "source": [
        "#Analisando cylinders\n",
        "analyzing_data(data,'cylinders')"
      ]
    },
    {
      "cell_type": "code",
      "execution_count": null,
      "metadata": {
        "id": "97D1RHSihxHy",
        "outputId": "26ea5e56-ed6f-417f-b6e9-d814583a1ab2"
      },
      "outputs": [
        {
          "name": "stdout",
          "output_type": "stream",
          "text": [
            "Summary statistics for: condition\n",
            "\n",
            "count    51525.000000\n",
            "mean         2.637535\n",
            "std          0.712447\n",
            "min          0.000000\n",
            "25%          2.000000\n",
            "50%          3.000000\n",
            "75%          3.000000\n",
            "max          5.000000\n",
            "Name: condition, dtype: float64\n",
            "\n"
          ]
        },
        {
          "data": {
            "image/png": "[encoded data removed]",
            "text/plain": [
              "<Figure size 432x288 with 1 Axes>"
            ]
          },
          "metadata": {
            "needs_background": "light"
          },
          "output_type": "display_data"
        }
      ],
      "source": [
        "#Analisando coluna condition\n",
        "analyzing_data(data, 'condition')\n"
      ]
    },
    {
      "cell_type": "markdown",
      "metadata": {
        "id": "LWKut8ykhxHz"
      },
      "source": [
        "###### Estudando os parametros sem os outliers\n",
        "\n",
        "- Criaremos uma função para remover os valores atípicos seguindo o mesmo critério do intervalo interquartil (IQR) para identificar os valores atípicos, calculando os limites superior e inferior. Em seguida, filtraremos o DataFrame original mantendo apenas os valores dentro desse intervalo, criando o DataFrame data_filtered. Por fim vamos exibir histograma dos valores filtrados para representar a distribuição dos valores sem os outliers. Essa representação visual permite comparar a distribuição antes e depois da remoção dos valores atípicos."
      ]
    },
    {
      "cell_type": "code",
      "execution_count": null,
      "metadata": {
        "id": "TPi17OSNhxHz"
      },
      "outputs": [],
      "source": [
        "#Criando função para remover os outliers\n",
        "def remove_outliers(data,column):\n",
        "    Q1 = data[column].quantile(0.25)\n",
        "    Q3 = data[column].quantile(0.75)\n",
        "    IQR = Q3 - Q1\n",
        "    lower_limit = Q1 - 1.5 * IQR\n",
        "    upper_limit = Q3 + 1.5 * IQR\n",
        "    outliers = data[(data[column] < lower_limit) | (data[column] > upper_limit)]\n",
        "    data_filtered = data[(data[column] >= lower_limit) & (data[column] <= upper_limit)]\n",
        "    print(f'Histograma Filtrado: {column}')\n",
        "    data_filtered.hist(column,bins=50, label='Filtrado', color='green')\n",
        "    plt.show()\n"
      ]
    },
    {
      "cell_type": "code",
      "execution_count": null,
      "metadata": {
        "id": "VYwlfADehxHz",
        "outputId": "e3b8aa24-6ee9-42e6-eaeb-7c7a9b0184a6"
      },
      "outputs": [
        {
          "name": "stdout",
          "output_type": "stream",
          "text": [
            "Histograma Filtrado: price\n"
          ]
        },
        {
          "data": {
            "image/png": "[encoded data removed]",
            "text/plain": [
              "<Figure size 432x288 with 1 Axes>"
            ]
          },
          "metadata": {
            "needs_background": "light"
          },
          "output_type": "display_data"
        }
      ],
      "source": [
        "#Histogramas das colunas usando dados sem outliers\n",
        "#Coluna price\n",
        "remove_outliers(data,'price')"
      ]
    },
    {
      "cell_type": "markdown",
      "metadata": {
        "id": "H6G8PTNThxH0"
      },
      "source": [
        "- No histograma filtrado, após remover os valores atípicos, a distribuição dos preços parece mais concentrada e simétrica."
      ]
    },
    {
      "cell_type": "code",
      "execution_count": null,
      "metadata": {
        "id": "1YsZm-eUhxH0",
        "outputId": "89305ba5-e8df-4a57-bddf-7fdb290b9f3f"
      },
      "outputs": [
        {
          "name": "stdout",
          "output_type": "stream",
          "text": [
            "Histograma Filtrado: idade_veiculo\n"
          ]
        },
        {
          "data": {
            "image/png": "[encoded data removed]",
            "text/plain": [
              "<Figure size 432x288 with 1 Axes>"
            ]
          },
          "metadata": {
            "needs_background": "light"
          },
          "output_type": "display_data"
        }
      ],
      "source": [
        "# Coluna 'idade_veiculo'\n",
        "remove_outliers(data,'idade_veiculo')"
      ]
    },
    {
      "cell_type": "markdown",
      "metadata": {
        "id": "hIqogA08hxH0"
      },
      "source": [
        "- No histograma original pode observar que houve uma concentração de valores em uma determinada faixa de idade do veículo. Enquanto no histograma filtrado, essa concentração se torna mais evidente, sem a presença de valores atípicos que poderiam distorcer a distribuição."
      ]
    },
    {
      "cell_type": "code",
      "execution_count": null,
      "metadata": {
        "id": "YEeFRHoVhxH0",
        "outputId": "f01ca5b6-5a1b-47d4-a5f2-572f5a4396e4"
      },
      "outputs": [
        {
          "name": "stdout",
          "output_type": "stream",
          "text": [
            "Histograma Filtrado: odometer\n"
          ]
        },
        {
          "data": {
            "image/png": "[encoded data removed]",
            "text/plain": [
              "<Figure size 432x288 with 1 Axes>"
            ]
          },
          "metadata": {
            "needs_background": "light"
          },
          "output_type": "display_data"
        }
      ],
      "source": [
        "#Coluna 'odometer'\n",
        "remove_outliers(data,'odometer')"
      ]
    },
    {
      "cell_type": "markdown",
      "metadata": {
        "id": "o5Z3cnHAhxH0"
      },
      "source": [
        "- No histograma original, os valores ficam concentrados uma determinada faixa de quilometragem, indicando valores atípicos com quilometragem muito alta. Enquanto que no histograma filtrado, a distribuição da quilometragem fica mais distribuida e centrada na faixa principal de valores."
      ]
    },
    {
      "cell_type": "code",
      "execution_count": null,
      "metadata": {
        "id": "Iyl02ggFhxH1",
        "outputId": "e61f8830-e39c-4e8f-ad29-a93f21570849"
      },
      "outputs": [
        {
          "name": "stdout",
          "output_type": "stream",
          "text": [
            "Histograma Filtrado: condition\n"
          ]
        },
        {
          "data": {
            "image/png": "[encoded data removed]",
            "text/plain": [
              "<Figure size 432x288 with 1 Axes>"
            ]
          },
          "metadata": {
            "needs_background": "light"
          },
          "output_type": "display_data"
        }
      ],
      "source": [
        "#Coluna 'condition'\n",
        "remove_outliers(data,'condition')"
      ]
    },
    {
      "cell_type": "markdown",
      "metadata": {
        "id": "RK6xvh9whxH1"
      },
      "source": [
        "- Não foi observado muita diferença nos histogramas das colunas `preço`, `cylinders` e `condition` após remover os valores atípicos, isso pode indicar que a presença dos valores atípicos não teve um impacto significativo na distribuição desses parâmetros. Nesses casos, é possível que a maioria dos dados esteja concentrada em uma faixa relativamente estreita, com poucos valores atípicos afetando a forma geral do histograma. Isso pode sugerir que os dados não possuem valores extremos ou que os valores atípicos não têm um impacto substancial na distribuição dos parâmetros estudados. E possível continuar a análise com os dados filtrados, sabendo que eles estão mais limpos de valores atípicos que poderiam distorcer as conclusões."
      ]
    },
    {
      "cell_type": "markdown",
      "metadata": {
        "id": "VNuEPlcmhxH1"
      },
      "source": [
        "- Não foi observado muita diferença nos histogramas das colunas `preço`, `cylinders` e `condition` após remover os valores atípicos, isso pode indicar que a presença dos valores atípicos não teve um impacto significativo na distribuição desses parâmetros. Nesses casos, é possível que a maioria dos dados esteja concentrada em uma faixa relativamente estreita, com poucos valores atípicos afetando a forma geral do histograma. Isso pode sugerir que os dados não possuem valores extremos ou que os valores atípicos não têm um impacto substancial na distribuição dos parâmetros estudados. E possível continuar a análise com os dados filtrados, sabendo que eles estão mais limpos de valores atípicos que poderiam distorcer as conclusões."
      ]
    },
    {
      "cell_type": "markdown",
      "metadata": {
        "id": "gnwpqvYohxH2"
      },
      "source": [
        "## Estudando e cuidando dos valores ausentes\n"
      ]
    },
    {
      "cell_type": "markdown",
      "metadata": {
        "id": "kWH5ayrxhxH2"
      },
      "source": [
        "- Dado os resultados acima, identificamos as colunas que contêm valores atípicos e criamos um novo dataframe excluindo esses valores. Para realizar essa tarefa, colocamos as colunas analisadas em uma lista e iteramos sobre elas para calcular os valores atípicos e determinar os limites superiores e inferiores para intervalos normais. Em seguida, armazenamos os dados sem os valores atípicos em um novo dataframe chamado data_filtered."
      ]
    },
    {
      "cell_type": "code",
      "execution_count": null,
      "metadata": {
        "id": "NWYS8gQthxH2"
      },
      "outputs": [],
      "source": [
        "colunas_analisadas = ['price','idade_veiculo','odometer','cylinders','condition']\n",
        "for column in colunas_analisadas:\n",
        "    Q1 = data[column].quantile(0.25)\n",
        "    Q3 = data[column].quantile(0.75)\n",
        "    IQR = Q3 - Q1\n",
        "    lower_limit = Q1 - 1.5 * IQR\n",
        "    upper_limit = Q3 + 1.5 * IQR\n",
        "    outliers = data[(data[column] < lower_limit) | (data[column] > upper_limit)]\n",
        "    data_filtered = data[(data[column] >= lower_limit) & (data[column] <= upper_limit)]\n"
      ]
    },
    {
      "cell_type": "code",
      "execution_count": null,
      "metadata": {
        "id": "oxi1y9rihxH2",
        "outputId": "238071cb-20e3-40de-8872-c7553e46e72d"
      },
      "outputs": [
        {
          "data": {
            "text/plain": [
              "0.5"
            ]
          },
          "execution_count": 495,
          "metadata": {},
          "output_type": "execute_result"
        }
      ],
      "source": [
        "# Determine o limite inferior para valores atípicos\n",
        "lower_limit"
      ]
    },
    {
      "cell_type": "code",
      "execution_count": null,
      "metadata": {
        "id": "9q6xivCPhxH3",
        "outputId": "6039df2d-d03e-43e6-bb73-19cf27f0eab7"
      },
      "outputs": [
        {
          "data": {
            "text/plain": [
              "4.5"
            ]
          },
          "execution_count": 496,
          "metadata": {},
          "output_type": "execute_result"
        }
      ],
      "source": [
        "# Determine o limite superior para valores atípicos\n",
        "upper_limit"
      ]
    },
    {
      "cell_type": "code",
      "execution_count": null,
      "metadata": {
        "id": "CSITtfINhxH3",
        "outputId": "c9748336-dab1-4609-a801-afc74d747c7c"
      },
      "outputs": [
        {
          "data": {
            "text/html": [
              "<div>\n",
              "<style scoped>\n",
              "    .dataframe tbody tr th:only-of-type {\n",
              "        vertical-align: middle;\n",
              "    }\n",
              "\n",
              "    .dataframe tbody tr th {\n",
              "        vertical-align: top;\n",
              "    }\n",
              "\n",
              "    .dataframe thead th {\n",
              "        text-align: right;\n",
              "    }\n",
              "</style>\n",
              "<table border=\"1\" class=\"dataframe\">\n",
              "  <thead>\n",
              "    <tr style=\"text-align: right;\">\n",
              "      <th></th>\n",
              "      <th>price</th>\n",
              "      <th>model_year</th>\n",
              "      <th>model</th>\n",
              "      <th>condition</th>\n",
              "      <th>cylinders</th>\n",
              "      <th>fuel</th>\n",
              "      <th>odometer</th>\n",
              "      <th>transmission</th>\n",
              "      <th>type</th>\n",
              "      <th>paint_color</th>\n",
              "      <th>is_4wd</th>\n",
              "      <th>date_posted</th>\n",
              "      <th>days_listed</th>\n",
              "      <th>idade_veiculo</th>\n",
              "      <th>km_mean</th>\n",
              "    </tr>\n",
              "  </thead>\n",
              "  <tbody>\n",
              "    <tr>\n",
              "      <th>0</th>\n",
              "      <td>9400</td>\n",
              "      <td>2011</td>\n",
              "      <td>bmw x5</td>\n",
              "      <td>2</td>\n",
              "      <td>6.0</td>\n",
              "      <td>gas</td>\n",
              "      <td>145000.0</td>\n",
              "      <td>automatic</td>\n",
              "      <td>SUV</td>\n",
              "      <td>Unknown</td>\n",
              "      <td>1.0</td>\n",
              "      <td>2018-06-23</td>\n",
              "      <td>19</td>\n",
              "      <td>7</td>\n",
              "      <td>20714.285714</td>\n",
              "    </tr>\n",
              "    <tr>\n",
              "      <th>1</th>\n",
              "      <td>25500</td>\n",
              "      <td>2011</td>\n",
              "      <td>ford f-150</td>\n",
              "      <td>2</td>\n",
              "      <td>6.0</td>\n",
              "      <td>gas</td>\n",
              "      <td>88705.0</td>\n",
              "      <td>automatic</td>\n",
              "      <td>pickup</td>\n",
              "      <td>white</td>\n",
              "      <td>1.0</td>\n",
              "      <td>2018-10-19</td>\n",
              "      <td>50</td>\n",
              "      <td>7</td>\n",
              "      <td>12672.142857</td>\n",
              "    </tr>\n",
              "    <tr>\n",
              "      <th>2</th>\n",
              "      <td>5500</td>\n",
              "      <td>2013</td>\n",
              "      <td>hyundai sonata</td>\n",
              "      <td>4</td>\n",
              "      <td>4.0</td>\n",
              "      <td>gas</td>\n",
              "      <td>110000.0</td>\n",
              "      <td>automatic</td>\n",
              "      <td>sedan</td>\n",
              "      <td>red</td>\n",
              "      <td>0.0</td>\n",
              "      <td>2019-02-07</td>\n",
              "      <td>79</td>\n",
              "      <td>6</td>\n",
              "      <td>18333.333333</td>\n",
              "    </tr>\n",
              "    <tr>\n",
              "      <th>3</th>\n",
              "      <td>1500</td>\n",
              "      <td>2003</td>\n",
              "      <td>ford f-150</td>\n",
              "      <td>1</td>\n",
              "      <td>8.0</td>\n",
              "      <td>gas</td>\n",
              "      <td>121928.0</td>\n",
              "      <td>automatic</td>\n",
              "      <td>pickup</td>\n",
              "      <td>Unknown</td>\n",
              "      <td>0.0</td>\n",
              "      <td>2019-03-22</td>\n",
              "      <td>9</td>\n",
              "      <td>16</td>\n",
              "      <td>7620.500000</td>\n",
              "    </tr>\n",
              "    <tr>\n",
              "      <th>4</th>\n",
              "      <td>14900</td>\n",
              "      <td>2017</td>\n",
              "      <td>chrysler 200</td>\n",
              "      <td>3</td>\n",
              "      <td>4.0</td>\n",
              "      <td>gas</td>\n",
              "      <td>80903.0</td>\n",
              "      <td>automatic</td>\n",
              "      <td>sedan</td>\n",
              "      <td>black</td>\n",
              "      <td>0.0</td>\n",
              "      <td>2019-04-02</td>\n",
              "      <td>28</td>\n",
              "      <td>2</td>\n",
              "      <td>40451.500000</td>\n",
              "    </tr>\n",
              "    <tr>\n",
              "      <th>...</th>\n",
              "      <td>...</td>\n",
              "      <td>...</td>\n",
              "      <td>...</td>\n",
              "      <td>...</td>\n",
              "      <td>...</td>\n",
              "      <td>...</td>\n",
              "      <td>...</td>\n",
              "      <td>...</td>\n",
              "      <td>...</td>\n",
              "      <td>...</td>\n",
              "      <td>...</td>\n",
              "      <td>...</td>\n",
              "      <td>...</td>\n",
              "      <td>...</td>\n",
              "      <td>...</td>\n",
              "    </tr>\n",
              "    <tr>\n",
              "      <th>51519</th>\n",
              "      <td>11750</td>\n",
              "      <td>2015</td>\n",
              "      <td>honda accord</td>\n",
              "      <td>3</td>\n",
              "      <td>4.0</td>\n",
              "      <td>gas</td>\n",
              "      <td>131000.0</td>\n",
              "      <td>automatic</td>\n",
              "      <td>coupe</td>\n",
              "      <td>Unknown</td>\n",
              "      <td>0.0</td>\n",
              "      <td>2018-11-24</td>\n",
              "      <td>89</td>\n",
              "      <td>3</td>\n",
              "      <td>43666.666667</td>\n",
              "    </tr>\n",
              "    <tr>\n",
              "      <th>51520</th>\n",
              "      <td>9249</td>\n",
              "      <td>2013</td>\n",
              "      <td>nissan maxima</td>\n",
              "      <td>4</td>\n",
              "      <td>6.0</td>\n",
              "      <td>gas</td>\n",
              "      <td>88136.0</td>\n",
              "      <td>automatic</td>\n",
              "      <td>sedan</td>\n",
              "      <td>black</td>\n",
              "      <td>0.0</td>\n",
              "      <td>2018-10-03</td>\n",
              "      <td>37</td>\n",
              "      <td>5</td>\n",
              "      <td>17627.200000</td>\n",
              "    </tr>\n",
              "    <tr>\n",
              "      <th>51522</th>\n",
              "      <td>3950</td>\n",
              "      <td>2009</td>\n",
              "      <td>hyundai sonata</td>\n",
              "      <td>3</td>\n",
              "      <td>4.0</td>\n",
              "      <td>gas</td>\n",
              "      <td>128000.0</td>\n",
              "      <td>automatic</td>\n",
              "      <td>sedan</td>\n",
              "      <td>blue</td>\n",
              "      <td>0.0</td>\n",
              "      <td>2018-11-15</td>\n",
              "      <td>32</td>\n",
              "      <td>9</td>\n",
              "      <td>14222.222222</td>\n",
              "    </tr>\n",
              "    <tr>\n",
              "      <th>51523</th>\n",
              "      <td>7455</td>\n",
              "      <td>2013</td>\n",
              "      <td>toyota corolla</td>\n",
              "      <td>2</td>\n",
              "      <td>4.0</td>\n",
              "      <td>gas</td>\n",
              "      <td>139573.0</td>\n",
              "      <td>automatic</td>\n",
              "      <td>sedan</td>\n",
              "      <td>black</td>\n",
              "      <td>0.0</td>\n",
              "      <td>2018-07-02</td>\n",
              "      <td>71</td>\n",
              "      <td>5</td>\n",
              "      <td>27914.600000</td>\n",
              "    </tr>\n",
              "    <tr>\n",
              "      <th>51524</th>\n",
              "      <td>6300</td>\n",
              "      <td>2014</td>\n",
              "      <td>nissan altima</td>\n",
              "      <td>2</td>\n",
              "      <td>4.0</td>\n",
              "      <td>gas</td>\n",
              "      <td>100319.5</td>\n",
              "      <td>automatic</td>\n",
              "      <td>sedan</td>\n",
              "      <td>Unknown</td>\n",
              "      <td>0.0</td>\n",
              "      <td>2018-06-05</td>\n",
              "      <td>10</td>\n",
              "      <td>4</td>\n",
              "      <td>25079.875000</td>\n",
              "    </tr>\n",
              "  </tbody>\n",
              "</table>\n",
              "<p>51267 rows × 15 columns</p>\n",
              "</div>"
            ],
            "text/plain": [
              "       price  model_year           model  condition  cylinders fuel  odometer  \\\n",
              "0       9400        2011          bmw x5          2        6.0  gas  145000.0   \n",
              "1      25500        2011      ford f-150          2        6.0  gas   88705.0   \n",
              "2       5500        2013  hyundai sonata          4        4.0  gas  110000.0   \n",
              "3       1500        2003      ford f-150          1        8.0  gas  121928.0   \n",
              "4      14900        2017    chrysler 200          3        4.0  gas   80903.0   \n",
              "...      ...         ...             ...        ...        ...  ...       ...   \n",
              "51519  11750        2015    honda accord          3        4.0  gas  131000.0   \n",
              "51520   9249        2013   nissan maxima          4        6.0  gas   88136.0   \n",
              "51522   3950        2009  hyundai sonata          3        4.0  gas  128000.0   \n",
              "51523   7455        2013  toyota corolla          2        4.0  gas  139573.0   \n",
              "51524   6300        2014   nissan altima          2        4.0  gas  100319.5   \n",
              "\n",
              "      transmission    type paint_color  is_4wd date_posted  days_listed  \\\n",
              "0        automatic     SUV     Unknown     1.0  2018-06-23           19   \n",
              "1        automatic  pickup       white     1.0  2018-10-19           50   \n",
              "2        automatic   sedan         red     0.0  2019-02-07           79   \n",
              "3        automatic  pickup     Unknown     0.0  2019-03-22            9   \n",
              "4        automatic   sedan       black     0.0  2019-04-02           28   \n",
              "...            ...     ...         ...     ...         ...          ...   \n",
              "51519    automatic   coupe     Unknown     0.0  2018-11-24           89   \n",
              "51520    automatic   sedan       black     0.0  2018-10-03           37   \n",
              "51522    automatic   sedan        blue     0.0  2018-11-15           32   \n",
              "51523    automatic   sedan       black     0.0  2018-07-02           71   \n",
              "51524    automatic   sedan     Unknown     0.0  2018-06-05           10   \n",
              "\n",
              "       idade_veiculo       km_mean  \n",
              "0                  7  20714.285714  \n",
              "1                  7  12672.142857  \n",
              "2                  6  18333.333333  \n",
              "3                 16   7620.500000  \n",
              "4                  2  40451.500000  \n",
              "...              ...           ...  \n",
              "51519              3  43666.666667  \n",
              "51520              5  17627.200000  \n",
              "51522              9  14222.222222  \n",
              "51523              5  27914.600000  \n",
              "51524              4  25079.875000  \n",
              "\n",
              "[51267 rows x 15 columns]"
            ]
          },
          "execution_count": 497,
          "metadata": {},
          "output_type": "execute_result"
        }
      ],
      "source": [
        "# Armazene os dados sem os valores atípicos em um DataFrame separado\n",
        "data_filtered\n"
      ]
    },
    {
      "cell_type": "markdown",
      "metadata": {
        "id": "8o84cKUNhxH3"
      },
      "source": [
        "## Estudando os parâmetros fundamentais sem valores atípicos"
      ]
    },
    {
      "cell_type": "markdown",
      "metadata": {
        "id": "YyJyod0rhxH4"
      },
      "source": [
        "- Vamos usar os dados filtrados sem outliers considerando apenas os valores que estão dentro do intervalo determinado pelos limites inferior e superior. Isso permite uma análise mais precisa da distribuição dos preços, excluindo os valores atípicos que podem distorcer a visualização."
      ]
    },
    {
      "cell_type": "code",
      "execution_count": null,
      "metadata": {
        "id": "F9R55Dd0hxH4",
        "outputId": "ee61a6a0-520e-454e-cdab-de190e5fd1e3"
      },
      "outputs": [
        {
          "data": {
            "image/png": "[encoded data removed]",
            "text/plain": [
              "<Figure size 432x288 with 1 Axes>"
            ]
          },
          "metadata": {
            "needs_background": "light"
          },
          "output_type": "display_data"
        }
      ],
      "source": [
        "#Histograma dos dados filtrados\n",
        "data_filtered.hist('price',bins=30,label='Histograma filtrado do Preço', grid=True)\n",
        "plt.title('Histograma filtrado do Preço')\n",
        "plt.xlabel('Preço')\n",
        "plt.ylabel('Frequencia')\n",
        "plt.show()"
      ]
    },
    {
      "cell_type": "markdown",
      "metadata": {
        "id": "DW9vIGQ8hxH4"
      },
      "source": [
        "- No histograma com outliers, os dados estão concentrados em valores mais baixos até cerca de 50.000 de preço, e depois disso, não conseguimos visualizar os valores mais altos devido à presença dos outliers. No histograma filtrado sem outliers, os valores de preço estão mais distribuídos ao longo do gráfico, abrangendo uma faixa maior de preços e permitindo uma visualização mais clara da distribuição."
      ]
    },
    {
      "cell_type": "code",
      "execution_count": null,
      "metadata": {
        "id": "9rzZorVdhxH4",
        "outputId": "f49937f1-a610-4425-b051-e9047ab713d3"
      },
      "outputs": [
        {
          "data": {
            "image/png": "[encoded data removed]",
            "text/plain": [
              "<Figure size 432x288 with 1 Axes>"
            ]
          },
          "metadata": {
            "needs_background": "light"
          },
          "output_type": "display_data"
        }
      ],
      "source": [
        "#Gráfico da coluna idade_veiculo\n",
        "data_filtered.hist('idade_veiculo', bins=30,label='Histograma filtrado da idade do veículo',grid=True)\n",
        "plt.title('Histograma filtrado da idade do veículo')\n",
        "plt.xlabel('Idade do Veículo')\n",
        "plt.ylabel('Frequência')\n",
        "plt.show()"
      ]
    },
    {
      "cell_type": "markdown",
      "metadata": {
        "id": "VQKTRe8GhxH5"
      },
      "source": [
        "- O mesmo padrão da coluna `price` ocorre na coluna `idade_veiculo`. O histograma com outliers apresenta uma concentração de veículos mais antigos, com a maioria dos dados agrupados nas faixas de idade mais baixas. No histograma filtrado sem outliers, os dados estão distribuídos de forma mais uniforme ao longo do eixo X, abrangendo uma variedade maior de idades dos veículos."
      ]
    },
    {
      "cell_type": "code",
      "execution_count": null,
      "metadata": {
        "id": "9-US83aShxH5",
        "outputId": "afe2f62b-8ed3-4ff3-a0ac-65a09dec64a1"
      },
      "outputs": [
        {
          "data": {
            "image/png": "[encoded data removed]",
            "text/plain": [
              "<Figure size 432x288 with 1 Axes>"
            ]
          },
          "metadata": {
            "needs_background": "light"
          },
          "output_type": "display_data"
        }
      ],
      "source": [
        "#Gráfico da kilometragem do veículo\n",
        "data_filtered.hist('odometer', bins=30,label='Histograma filtrado da kilometragem',grid=True)\n",
        "plt.title('Histograma filtrado da kilometragem')\n",
        "plt.xlabel('Kilometragem')\n",
        "plt.ylabel('Frequência')\n",
        "plt.show()"
      ]
    },
    {
      "cell_type": "markdown",
      "metadata": {
        "id": "1z9HoSE3hxH5"
      },
      "source": [
        "- Similarmente, o histograma com outliers na coluna `odometer` mostra uma concentração de valores menores de quilometragem, com a maioria dos dados agrupados nas faixas inferiores. No histograma filtrado sem outliers, observamos uma distribuição mais ampla dos valores de quilometragem, permitindo uma visualização mais clara da distribuição completa dos dados."
      ]
    },
    {
      "cell_type": "code",
      "execution_count": null,
      "metadata": {
        "id": "n_zyBBpGhxH5",
        "outputId": "f43b5d6a-e662-4048-de7a-c2221c9d9b98"
      },
      "outputs": [
        {
          "data": {
            "image/png": "[encoded data removed]",
            "text/plain": [
              "<Figure size 432x288 with 1 Axes>"
            ]
          },
          "metadata": {
            "needs_background": "light"
          },
          "output_type": "display_data"
        }
      ],
      "source": [
        "#Gráfico do número de cilindros do veículo\n",
        "data_filtered.hist('cylinders', bins=30,label='Histograma filtrado dos Cilindros',grid=True)\n",
        "plt.title('Histograma filtrado dos Cilindros')\n",
        "plt.xlabel('Cilindros')\n",
        "plt.ylabel('Frequência')\n",
        "plt.show()"
      ]
    },
    {
      "cell_type": "markdown",
      "metadata": {
        "id": "3Sb5wqi9hxH6"
      },
      "source": [
        "- A coluna `cylinder` não apresentou diferença significativa nos histogramas com e sem outliers, indicando que os outliers não influenciaram significativamente a distribuição dos dados nessa variável."
      ]
    },
    {
      "cell_type": "code",
      "execution_count": null,
      "metadata": {
        "id": "iLapSo7bhxH6",
        "outputId": "9b9a638a-5603-4eeb-a959-7c4b04891625"
      },
      "outputs": [
        {
          "data": {
            "image/png": "[encoded data removed]",
            "text/plain": [
              "<Figure size 432x288 with 1 Axes>"
            ]
          },
          "metadata": {
            "needs_background": "light"
          },
          "output_type": "display_data"
        }
      ],
      "source": [
        "#Gráfico da condição do veículo\n",
        "data_filtered.hist('condition', bins=30,label='Histograma filtrado da Condição',grid=True)\n",
        "plt.title('Histograma filtrado da Condição')\n",
        "plt.xlabel('Condição')\n",
        "plt.ylabel('Frequência')\n",
        "plt.show()"
      ]
    },
    {
      "cell_type": "markdown",
      "metadata": {
        "id": "2TONFK8UhxH6"
      },
      "source": [
        "- No caso da coluna `condition`, observamos uma diferença nos histogramas para veículos com 5 cilindros. No histograma com outliers, podemos visualizar um número residual de veículos com 5 cilindros, enquanto no histograma filtrado sem outliers, essa visualização não é possível, indicando que os outliers afetaram a distribuição dos dados para essa categoria específica de cilindros."
      ]
    },
    {
      "cell_type": "markdown",
      "metadata": {
        "id": "VQvmBCzYhxH6"
      },
      "source": [
        "- Em resumo, a remoção dos outliers nos dados influenciou principalmente a distribuição e a visualização dos histogramas para as colunas `price`, `idade_veiculo` e `odometer`. Essa remoção permitiu uma análise mais precisa e detalhada dos dados, eliminando valores extremos que poderiam distorcer as conclusões. Para as colunas `cylinder` e `condition`, os outliers tiveram menos impacto na distribuição dos dados."
      ]
    },
    {
      "cell_type": "markdown",
      "metadata": {
        "id": "-7-SgbdmhxH6"
      },
      "source": [
        "## Tempo de vida das propagandas\n"
      ]
    },
    {
      "cell_type": "markdown",
      "metadata": {
        "id": "HBprqV0_hxH7"
      },
      "source": [
        "- Vamos estudar o tempo de vida das propagandas através quantos dias as propagandas foram exibidas (`days_listed`). Usaremos a média e mediana da coluna para avaliar o tempo de vida útil. Em seguida vamos determinar quando as propagandas froam removidas rapidamente, e quando foram listadas por um tempo anormalmente longo. Faremos isso através de cáculo de quantiles, intervalos e limite superior e inferior."
      ]
    },
    {
      "cell_type": "code",
      "execution_count": null,
      "metadata": {
        "id": "T4rBww5shxH7",
        "outputId": "17551ade-8d9c-4907-dfde-ba522f9720eb"
      },
      "outputs": [
        {
          "data": {
            "text/plain": [
              "40.0"
            ]
          },
          "execution_count": 503,
          "metadata": {},
          "output_type": "execute_result"
        }
      ],
      "source": [
        "#Média dos dias de propagandas foram eibidas\n",
        "mean_days_listed = data_filtered['days_listed'].mean().round()\n",
        "mean_days_listed"
      ]
    },
    {
      "cell_type": "code",
      "execution_count": null,
      "metadata": {
        "id": "5ltKbeMThxH8",
        "outputId": "844132a4-8a53-4bb8-fa4e-2b4398fb6e8a"
      },
      "outputs": [
        {
          "data": {
            "text/plain": [
              "33.0"
            ]
          },
          "execution_count": 504,
          "metadata": {},
          "output_type": "execute_result"
        }
      ],
      "source": [
        "#Mediana dos dias de propagandas foram exibidas\n",
        "median_days_listed = data['days_listed'].median()\n",
        "median_days_listed"
      ]
    },
    {
      "cell_type": "code",
      "execution_count": null,
      "metadata": {
        "id": "ujNGMQq9hxH8",
        "outputId": "2d1939b9-5b16-4aed-a399-bed866778e74"
      },
      "outputs": [
        {
          "data": {
            "image/png": "[encoded data removed]",
            "text/plain": [
              "<Figure size 432x288 with 1 Axes>"
            ]
          },
          "metadata": {
            "needs_background": "light"
          },
          "output_type": "display_data"
        }
      ],
      "source": [
        "#Histograma do tempo de listagem\n",
        "data_filtered['days_listed'].hist(bins=50)\n",
        "plt.xlabel('Dias Listados')\n",
        "plt.ylabel('Frequencia')\n",
        "plt.show()"
      ]
    },
    {
      "cell_type": "code",
      "execution_count": null,
      "metadata": {
        "id": "VeySgwW8hxH8",
        "outputId": "4dcd9f68-4d69-40b0-8c25-19a5ddec19a2"
      },
      "outputs": [
        {
          "name": "stdout",
          "output_type": "stream",
          "text": [
            "Tempo de vida útil comum da propaganda: \n",
            "Média: 40.0 dias\n",
            "Mediana: 33.0 dias\n"
          ]
        }
      ],
      "source": [
        "#Descrevendo o tempo de vida útil\n",
        "print('Tempo de vida útil comum da propaganda: ')\n",
        "print('Média:', mean_days_listed, 'dias')\n",
        "print('Mediana:', median_days_listed, 'dias')"
      ]
    },
    {
      "cell_type": "code",
      "execution_count": null,
      "metadata": {
        "id": "yPqTt_c_hxH9"
      },
      "outputs": [],
      "source": [
        "#Determinar propagandas removidas rapidamente ou listadas por tempo anormalmente longo\n",
        "Q1_propaganda = data_filtered['days_listed'].quantile(0.25)\n",
        "Q3_propaganda = data_filtered['days_listed'].quantile(0.75)\n",
        "IQR = Q3 - Q1\n",
        "quick_ads = Q1 - 1.5 * IQR\n",
        "long_ads = Q3 + 1.5 * IQR\n"
      ]
    },
    {
      "cell_type": "code",
      "execution_count": null,
      "metadata": {
        "id": "O_63yGaahxH9"
      },
      "outputs": [],
      "source": [
        "quick_removed_ads = data[data['days_listed'] < quick_ads]\n",
        "long_removed_ads = data[data['days_listed'] > long_ads]"
      ]
    },
    {
      "cell_type": "code",
      "execution_count": null,
      "metadata": {
        "id": "8zuYXxn6hxH9",
        "outputId": "e3602fdf-515d-47e8-c5a7-8b972b418880"
      },
      "outputs": [
        {
          "name": "stdout",
          "output_type": "stream",
          "text": [
            "Propagandas removidas rapidamente:        price  model_year                          model  condition  cylinders  \\\n",
            "1247   14995        2008       chevrolet silverado 1500          3        8.0   \n",
            "1711   59589        2019     chevrolet silverado 2500hd          3        8.0   \n",
            "1983   14000        1999                      ford f250          3        8.0   \n",
            "2883    4000        2004                       ram 1500          3        8.0   \n",
            "3965   16750        1985             chevrolet corvette          4        8.0   \n",
            "4567    5000        2007                 toyota corolla          2        4.0   \n",
            "4901   12500        2001                       ram 1500          2        8.0   \n",
            "6114     500        2003                   dodge dakota          1        6.0   \n",
            "6548    4800        2007                  honda odyssey          2        6.0   \n",
            "7036    5900        2007     jeep grand cherokee laredo          3        6.0   \n",
            "9607    4999        2012                  nissan sentra          3        4.0   \n",
            "9732   15000        2003                     ford f-150          2        8.0   \n",
            "10722   3100        2000            chevrolet silverado          2        8.0   \n",
            "12869  21997        2014                    honda pilot          3        6.0   \n",
            "14088  10500        2005                gmc sierra 1500          3        8.0   \n",
            "14446  17995        2011                      ford f250          2        8.0   \n",
            "16046   8200        2014                   honda accord          3        4.0   \n",
            "16138   3650        2013                       kia soul          2        4.0   \n",
            "16210  13995        2008                 toyota 4runner          3        6.0   \n",
            "16612  11900        2008           ford f250 super duty          2        8.0   \n",
            "17339   7800        2009                     gmc sierra          3        6.0   \n",
            "17944  14995        2006           ford f350 super duty          3        8.0   \n",
            "19070  29999        2011                 ford econoline          4       10.0   \n",
            "20817  11886        2017                 ford fusion se          3        4.0   \n",
            "21253  16995        2012            dodge grand caravan          3        6.0   \n",
            "21840   2950        2012               chevrolet malibu          2        4.0   \n",
            "23195   7995        2013                 toyota corolla          3        4.0   \n",
            "24144  39900        2018              toyota highlander          3        6.0   \n",
            "25292   9950        2008                  toyota tundra          2        6.0   \n",
            "26814   9995        2006                       ram 1500          3        8.0   \n",
            "26876   8950        2005       chevrolet silverado 1500          2        8.0   \n",
            "27137  10995        2010       chevrolet silverado 1500          2        8.0   \n",
            "27833   2900        2009                    honda civic          3        4.0   \n",
            "29377   9450        2014                    kia sorento          3        4.0   \n",
            "30207   9995        2006       chevrolet silverado 1500          3        8.0   \n",
            "30668  14995        2010        jeep wrangler unlimited          2        6.0   \n",
            "31268  26900        2014  chevrolet silverado 1500 crew          2        8.0   \n",
            "31370   6200        2014               volkswagen jetta          4        4.0   \n",
            "32377  12500        2013        chrysler town & country          4        6.0   \n",
            "33873   6995        2009                     gmc acadia          2        6.0   \n",
            "35605   1500        1992                   honda accord          2        4.0   \n",
            "36265  24500        2018            chevrolet silverado          3        8.0   \n",
            "38822  17495        2018               chevrolet malibu          4        4.0   \n",
            "39040   1900        2005                   toyota prius          1        4.0   \n",
            "39304  21100        2017   chevrolet camaro lt coupe 2d          2        6.0   \n",
            "40101   5995        2003     jeep grand cherokee laredo          2        6.0   \n",
            "41369   2200        2000                  toyota sienna          4        6.0   \n",
            "41940   1800        2002                    honda civic          2        4.0   \n",
            "43581  12900        1987               chevrolet camaro          3        8.0   \n",
            "43590   2800        2003                   ford mustang          1        6.0   \n",
            "44083  28699        2013        jeep wrangler unlimited          4        6.0   \n",
            "44942   7600        2017                hyundai elantra          3        4.0   \n",
            "48843  12000        2015                    toyota rav4          3        4.0   \n",
            "51359   2999        2004                    ford taurus          2        6.0   \n",
            "\n",
            "         fuel  odometer transmission         type paint_color  is_4wd  \\\n",
            "1247      gas   93300.0    automatic        truck        grey     1.0   \n",
            "1711   diesel  139147.5    automatic        truck       white     1.0   \n",
            "1983   diesel  137500.0    automatic        truck         red     1.0   \n",
            "2883      gas  250000.0    automatic        truck       brown     1.0   \n",
            "3965      gas   24540.0    automatic    hatchback       white     0.0   \n",
            "4567      gas  223000.0       manual        sedan      silver     0.0   \n",
            "4901      gas   99892.0    automatic        truck       black     1.0   \n",
            "6114      gas  215457.0    automatic       pickup     Unknown     0.0   \n",
            "6548      gas  152400.0    automatic     mini-van       brown     0.0   \n",
            "7036      gas  137126.0    automatic          SUV        grey     1.0   \n",
            "9607      gas  125000.0    automatic        sedan      silver     0.0   \n",
            "9732      gas   90048.0    automatic        truck       black     0.0   \n",
            "10722     gas  211000.0    automatic        truck       white     0.0   \n",
            "12869     gas   37093.0    automatic          SUV      silver     1.0   \n",
            "14088     gas  117000.0    automatic       pickup       black     1.0   \n",
            "14446     gas   75465.0    automatic        truck       white     1.0   \n",
            "16046     gas  121000.0    automatic        sedan      silver     0.0   \n",
            "16138     gas   93324.5       manual    hatchback        grey     0.0   \n",
            "16210     gas  156000.0    automatic          SUV     Unknown     1.0   \n",
            "16612     gas  120971.0    automatic       pickup       white     0.0   \n",
            "17339     gas  142000.0    automatic        truck         red     0.0   \n",
            "17944     gas  126650.0    automatic        truck       white     0.0   \n",
            "19070     gas  117000.0    automatic          van       white     0.0   \n",
            "20817     gas   72000.0    automatic        sedan     Unknown     0.0   \n",
            "21253     gas   45677.0    automatic          van        grey     0.0   \n",
            "21840     gas  140000.0    automatic        sedan     Unknown     0.0   \n",
            "23195     gas  102466.0    automatic        sedan      silver     0.0   \n",
            "24144     gas    7985.0    automatic          SUV     Unknown     1.0   \n",
            "25292     gas  229000.0    automatic        truck         red     0.0   \n",
            "26814     gas  101750.0    automatic        truck       black     1.0   \n",
            "26876     gas  175788.0    automatic        truck      custom     1.0   \n",
            "27137     gas  165178.0    automatic        truck        grey     1.0   \n",
            "27833     gas  190222.0    automatic        sedan      silver     0.0   \n",
            "29377     gas   91776.0    automatic          SUV      silver     1.0   \n",
            "30207     gas  115000.0    automatic       pickup        grey     1.0   \n",
            "30668     gas     162.0    automatic  convertible      silver     1.0   \n",
            "31268     gas   68607.0    automatic       pickup       black     1.0   \n",
            "31370     gas   54000.0       manual        sedan     Unknown     0.0   \n",
            "32377     gas   63778.0    automatic     mini-van     Unknown     0.0   \n",
            "33873     gas  177676.0    automatic          SUV      custom     0.0   \n",
            "35605     gas  239199.0    automatic        sedan         red     0.0   \n",
            "36265     gas   30000.0    automatic       pickup      silver     1.0   \n",
            "38822     gas   16505.0    automatic        sedan       white     0.0   \n",
            "39040     gas  128000.0    automatic    hatchback        grey     0.0   \n",
            "39304     gas   24510.0        other        coupe         red     0.0   \n",
            "40101     gas  137252.0    automatic          SUV        blue     1.0   \n",
            "41369     gas  152600.0    automatic          van      custom     0.0   \n",
            "41940     gas  238155.0    automatic        sedan      silver     0.0   \n",
            "43581     gas  107000.0       manual        coupe       black     0.0   \n",
            "43590     gas  181000.0    automatic        coupe      silver     0.0   \n",
            "44083     gas   34000.0    automatic          SUV       white     1.0   \n",
            "44942     gas   92000.0    automatic        sedan        blue     0.0   \n",
            "48843     gas  116000.0    automatic    hatchback        blue     1.0   \n",
            "51359     gas  136000.0    automatic        sedan     Unknown     0.0   \n",
            "\n",
            "      date_posted  days_listed  idade_veiculo       km_mean  \n",
            "1247   2018-05-15            0             10   9330.000000  \n",
            "1711   2019-01-13            0              0      0.000000  \n",
            "1983   2018-09-27            0             19   7236.842105  \n",
            "2883   2018-08-13            0             14  17857.142857  \n",
            "3965   2018-10-14            0             33    743.636364  \n",
            "4567   2018-07-11            0             11  20272.727273  \n",
            "4901   2018-05-11            0             17   5876.000000  \n",
            "6114   2018-10-31            0             15  14363.800000  \n",
            "6548   2018-09-25            0             11  13854.545455  \n",
            "7036   2018-07-21            0             11  12466.000000  \n",
            "9607   2019-03-26            0              7  17857.142857  \n",
            "9732   2018-09-21            0             15   6003.200000  \n",
            "10722  2018-07-06            0             18  11722.222222  \n",
            "12869  2019-03-04            0              5   7418.600000  \n",
            "14088  2019-02-06            0             14   8357.142857  \n",
            "14446  2018-09-09            0              7  10780.714286  \n",
            "16046  2018-05-31            0              4  30250.000000  \n",
            "16138  2019-01-27            0              6  15554.083333  \n",
            "16210  2018-07-17            0             10  15600.000000  \n",
            "16612  2018-06-18            0             10  12097.100000  \n",
            "17339  2018-07-05            0              9  15777.777778  \n",
            "17944  2019-03-15            0             13   9742.307692  \n",
            "19070  2018-08-07            0              7  16714.285714  \n",
            "20817  2018-10-16            0              1  72000.000000  \n",
            "21253  2018-09-02            0              6   7612.833333  \n",
            "21840  2018-08-27            0              6  23333.333333  \n",
            "23195  2019-03-09            0              6  17077.666667  \n",
            "24144  2018-05-20            0              0      0.000000  \n",
            "25292  2019-04-16            0             11  20818.181818  \n",
            "26814  2018-08-11            0             12   8479.166667  \n",
            "26876  2019-02-09            0             14  12556.285714  \n",
            "27137  2019-03-18            0              9  18353.111111  \n",
            "27833  2018-12-17            0              9  21135.777778  \n",
            "29377  2018-08-27            0              4  22944.000000  \n",
            "30207  2019-04-11            0             13   8846.153846  \n",
            "30668  2018-07-13            0              8     20.250000  \n",
            "31268  2018-12-31            0              5  13721.400000  \n",
            "31370  2018-09-03            0              4  13500.000000  \n",
            "32377  2018-09-23            0              5  12755.600000  \n",
            "33873  2018-09-16            0              9  19741.777778  \n",
            "35605  2018-08-02            0             26   9199.961538  \n",
            "36265  2019-01-21            0              1  30000.000000  \n",
            "38822  2018-06-12            0              0      0.000000  \n",
            "39040  2018-05-29            0             13   9846.153846  \n",
            "39304  2019-03-23            0              2  12255.000000  \n",
            "40101  2018-07-31            0             15   9150.133333  \n",
            "41369  2018-11-30            0             18   8477.777778  \n",
            "41940  2018-09-28            0             16  14884.687500  \n",
            "43581  2018-07-30            0             31   3451.612903  \n",
            "43590  2018-10-23            0             15  12066.666667  \n",
            "44083  2018-08-12            0              5   6800.000000  \n",
            "44942  2018-10-30            0              1  92000.000000  \n",
            "48843  2018-08-19            0              3  38666.666667  \n",
            "51359  2018-10-22            0             14   9714.285714  \n"
          ]
        }
      ],
      "source": [
        "print(f'Propagandas removidas rapidamente: {quick_removed_ads}')"
      ]
    },
    {
      "cell_type": "code",
      "execution_count": null,
      "metadata": {
        "id": "dHRkgoxzhxH9",
        "outputId": "008b3336-5bd4-4aea-a507-8e10673da5de"
      },
      "outputs": [
        {
          "name": "stdout",
          "output_type": "stream",
          "text": [
            "Propagandas removidas rapidamente:        price  model_year           model  condition  cylinders fuel  odometer  \\\n",
            "0       9400        2011          bmw x5          2        6.0  gas  145000.0   \n",
            "1      25500        2011      ford f-150          2        6.0  gas   88705.0   \n",
            "2       5500        2013  hyundai sonata          4        4.0  gas  110000.0   \n",
            "3       1500        2003      ford f-150          1        8.0  gas  121928.0   \n",
            "4      14900        2017    chrysler 200          3        4.0  gas   80903.0   \n",
            "...      ...         ...             ...        ...        ...  ...       ...   \n",
            "51520   9249        2013   nissan maxima          4        6.0  gas   88136.0   \n",
            "51521   2700        2002     honda civic          0        4.0  gas  181500.0   \n",
            "51522   3950        2009  hyundai sonata          3        4.0  gas  128000.0   \n",
            "51523   7455        2013  toyota corolla          2        4.0  gas  139573.0   \n",
            "51524   6300        2014   nissan altima          2        4.0  gas  100319.5   \n",
            "\n",
            "      transmission    type paint_color  is_4wd date_posted  days_listed  \\\n",
            "0        automatic     SUV     Unknown     1.0  2018-06-23           19   \n",
            "1        automatic  pickup       white     1.0  2018-10-19           50   \n",
            "2        automatic   sedan         red     0.0  2019-02-07           79   \n",
            "3        automatic  pickup     Unknown     0.0  2019-03-22            9   \n",
            "4        automatic   sedan       black     0.0  2019-04-02           28   \n",
            "...            ...     ...         ...     ...         ...          ...   \n",
            "51520    automatic   sedan       black     0.0  2018-10-03           37   \n",
            "51521    automatic   sedan       white     0.0  2018-11-14           22   \n",
            "51522    automatic   sedan        blue     0.0  2018-11-15           32   \n",
            "51523    automatic   sedan       black     0.0  2018-07-02           71   \n",
            "51524    automatic   sedan     Unknown     0.0  2018-06-05           10   \n",
            "\n",
            "       idade_veiculo       km_mean  \n",
            "0                  7  20714.285714  \n",
            "1                  7  12672.142857  \n",
            "2                  6  18333.333333  \n",
            "3                 16   7620.500000  \n",
            "4                  2  40451.500000  \n",
            "...              ...           ...  \n",
            "51520              5  17627.200000  \n",
            "51521             16  11343.750000  \n",
            "51522              9  14222.222222  \n",
            "51523              5  27914.600000  \n",
            "51524              4  25079.875000  \n",
            "\n",
            "[50217 rows x 15 columns]\n"
          ]
        }
      ],
      "source": [
        "print(f'Propagandas removidas rapidamente: {long_removed_ads}')\n"
      ]
    },
    {
      "cell_type": "markdown",
      "metadata": {
        "id": "r5tE0if9hxH-"
      },
      "source": [
        "## Média de preços por cada tipo de veículo"
      ]
    },
    {
      "cell_type": "markdown",
      "metadata": {
        "id": "XTyZ1tLKhxH-"
      },
      "source": [
        "- Vamos analisar o número de propaganas e o preço médio para cada tipo de veículo. Primeiro vamos agrupar esses dados para melhor avaliação e em seguida contruiremos um gráfico mostrando a dependencia do número de propagandas em relação ao tipo de veículo. Vamos selecionar os dois tipos com o maior número de propagandas para plotar o gráfico."
      ]
    },
    {
      "cell_type": "code",
      "execution_count": null,
      "metadata": {
        "id": "d2rPg1hPhxH-",
        "outputId": "a1a83298-7538-48d3-a2fb-5cd812a46878"
      },
      "outputs": [
        {
          "data": {
            "text/html": [
              "<div>\n",
              "<style scoped>\n",
              "    .dataframe tbody tr th:only-of-type {\n",
              "        vertical-align: middle;\n",
              "    }\n",
              "\n",
              "    .dataframe tbody tr th {\n",
              "        vertical-align: top;\n",
              "    }\n",
              "\n",
              "    .dataframe thead th {\n",
              "        text-align: right;\n",
              "    }\n",
              "</style>\n",
              "<table border=\"1\" class=\"dataframe\">\n",
              "  <thead>\n",
              "    <tr style=\"text-align: right;\">\n",
              "      <th></th>\n",
              "      <th>price</th>\n",
              "      <th>days_listed</th>\n",
              "    </tr>\n",
              "    <tr>\n",
              "      <th>model</th>\n",
              "      <th></th>\n",
              "      <th></th>\n",
              "    </tr>\n",
              "  </thead>\n",
              "  <tbody>\n",
              "    <tr>\n",
              "      <th>acura tl</th>\n",
              "      <td>6474.500000</td>\n",
              "      <td>236</td>\n",
              "    </tr>\n",
              "    <tr>\n",
              "      <th>bmw x5</th>\n",
              "      <td>10695.891386</td>\n",
              "      <td>267</td>\n",
              "    </tr>\n",
              "    <tr>\n",
              "      <th>buick enclave</th>\n",
              "      <td>11439.612546</td>\n",
              "      <td>271</td>\n",
              "    </tr>\n",
              "    <tr>\n",
              "      <th>cadillac escalade</th>\n",
              "      <td>17038.389408</td>\n",
              "      <td>321</td>\n",
              "    </tr>\n",
              "    <tr>\n",
              "      <th>chevrolet camaro</th>\n",
              "      <td>12964.097800</td>\n",
              "      <td>409</td>\n",
              "    </tr>\n",
              "    <tr>\n",
              "      <th>...</th>\n",
              "      <td>...</td>\n",
              "      <td>...</td>\n",
              "    </tr>\n",
              "    <tr>\n",
              "      <th>toyota sienna</th>\n",
              "      <td>8955.823171</td>\n",
              "      <td>328</td>\n",
              "    </tr>\n",
              "    <tr>\n",
              "      <th>toyota tacoma</th>\n",
              "      <td>15475.209501</td>\n",
              "      <td>821</td>\n",
              "    </tr>\n",
              "    <tr>\n",
              "      <th>toyota tundra</th>\n",
              "      <td>14703.717863</td>\n",
              "      <td>599</td>\n",
              "    </tr>\n",
              "    <tr>\n",
              "      <th>volkswagen jetta</th>\n",
              "      <td>6425.133205</td>\n",
              "      <td>518</td>\n",
              "    </tr>\n",
              "    <tr>\n",
              "      <th>volkswagen passat</th>\n",
              "      <td>8504.948127</td>\n",
              "      <td>347</td>\n",
              "    </tr>\n",
              "  </tbody>\n",
              "</table>\n",
              "<p>100 rows × 2 columns</p>\n",
              "</div>"
            ],
            "text/plain": [
              "                          price  days_listed\n",
              "model                                       \n",
              "acura tl            6474.500000          236\n",
              "bmw x5             10695.891386          267\n",
              "buick enclave      11439.612546          271\n",
              "cadillac escalade  17038.389408          321\n",
              "chevrolet camaro   12964.097800          409\n",
              "...                         ...          ...\n",
              "toyota sienna       8955.823171          328\n",
              "toyota tacoma      15475.209501          821\n",
              "toyota tundra      14703.717863          599\n",
              "volkswagen jetta    6425.133205          518\n",
              "volkswagen passat   8504.948127          347\n",
              "\n",
              "[100 rows x 2 columns]"
            ]
          },
          "execution_count": 511,
          "metadata": {},
          "output_type": "execute_result"
        }
      ],
      "source": [
        "#Agrupando os modelos e calculando preço médio e número de propagandas\n",
        "ads_veicle = data_filtered.groupby('model').agg({'price':'mean', 'days_listed':'count'})\n",
        "ads_veicle"
      ]
    },
    {
      "cell_type": "code",
      "execution_count": null,
      "metadata": {
        "id": "253viLXthxH-"
      },
      "outputs": [],
      "source": [
        "#Ordenando e selecionando os dois tipos com maior frequencia\n",
        "top_types = ads_veicle.sort_values('days_listed',ascending=False).head(2)"
      ]
    },
    {
      "cell_type": "code",
      "execution_count": null,
      "metadata": {
        "id": "_LVs0aTWhxH_",
        "outputId": "f184eb9e-a007-43be-de13-2e0f8383eaa5"
      },
      "outputs": [
        {
          "data": {
            "image/png": "[encoded data removed]",
            "text/plain": [
              "<Figure size 864x432 with 1 Axes>"
            ]
          },
          "metadata": {
            "needs_background": "light"
          },
          "output_type": "display_data"
        }
      ],
      "source": [
        "#Criando gráfico com os dois tipos mais frequentes\n",
        "top_types.plot(y=['days_listed'],kind='bar',grid=True,figsize=(12,6))\n",
        "plt.xlabel('Modelo do veiculo')\n",
        "plt.ylabel('Número de Propagandas')\n",
        "plt.title('Dependencia do numero de propaganda por modelo de veiculo')\n",
        "plt.show()\n"
      ]
    },
    {
      "cell_type": "markdown",
      "metadata": {
        "id": "FlZMe8CXhxH_"
      },
      "source": [
        "## Fatores de preço"
      ]
    },
    {
      "cell_type": "markdown",
      "metadata": {
        "id": "MniyheGVhxH_"
      },
      "source": [
        "- Vamos analisar quais fatores mais impactam o preço do veículo. Cada um dos tipos populares que detectados e vamos analisar se o preço depende da idade, quilometragem, condição, tipo de transmissão e/ou cor do veículo.\n",
        "- Nesse caso temos dois tipos de variáveis que precisam ser analisadas de forma diferente. Para variáveis categóricas (tipo de transmissão e cor), vamos usar gráficos de extremos e quartis. Para as outras variáveis vamos criar gráficos de dispersão."
      ]
    },
    {
      "cell_type": "code",
      "execution_count": null,
      "metadata": {
        "id": "pGmN1Nv2hxIA",
        "outputId": "83017db4-980a-4181-cb82-e0d43f2fb241",
        "scrolled": true
      },
      "outputs": [
        {
          "data": {
            "text/html": [
              "<div>\n",
              "<style scoped>\n",
              "    .dataframe tbody tr th:only-of-type {\n",
              "        vertical-align: middle;\n",
              "    }\n",
              "\n",
              "    .dataframe tbody tr th {\n",
              "        vertical-align: top;\n",
              "    }\n",
              "\n",
              "    .dataframe thead th {\n",
              "        text-align: right;\n",
              "    }\n",
              "</style>\n",
              "<table border=\"1\" class=\"dataframe\">\n",
              "  <thead>\n",
              "    <tr style=\"text-align: right;\">\n",
              "      <th></th>\n",
              "      <th>price</th>\n",
              "      <th>idade_veiculo</th>\n",
              "      <th>odometer</th>\n",
              "      <th>condition</th>\n",
              "    </tr>\n",
              "  </thead>\n",
              "  <tbody>\n",
              "    <tr>\n",
              "      <th>price</th>\n",
              "      <td>1.000000</td>\n",
              "      <td>-0.412239</td>\n",
              "      <td>-0.386062</td>\n",
              "      <td>0.210787</td>\n",
              "    </tr>\n",
              "    <tr>\n",
              "      <th>idade_veiculo</th>\n",
              "      <td>-0.412239</td>\n",
              "      <td>1.000000</td>\n",
              "      <td>0.431458</td>\n",
              "      <td>-0.267135</td>\n",
              "    </tr>\n",
              "    <tr>\n",
              "      <th>odometer</th>\n",
              "      <td>-0.386062</td>\n",
              "      <td>0.431458</td>\n",
              "      <td>1.000000</td>\n",
              "      <td>-0.265628</td>\n",
              "    </tr>\n",
              "    <tr>\n",
              "      <th>condition</th>\n",
              "      <td>0.210787</td>\n",
              "      <td>-0.267135</td>\n",
              "      <td>-0.265628</td>\n",
              "      <td>1.000000</td>\n",
              "    </tr>\n",
              "  </tbody>\n",
              "</table>\n",
              "</div>"
            ],
            "text/plain": [
              "                  price  idade_veiculo  odometer  condition\n",
              "price          1.000000      -0.412239 -0.386062   0.210787\n",
              "idade_veiculo -0.412239       1.000000  0.431458  -0.267135\n",
              "odometer      -0.386062       0.431458  1.000000  -0.265628\n",
              "condition      0.210787      -0.267135 -0.265628   1.000000"
            ]
          },
          "execution_count": 514,
          "metadata": {},
          "output_type": "execute_result"
        }
      ],
      "source": [
        "#Matriz de correlação\n",
        "correlation_matrix = data_filtered[['price','idade_veiculo','odometer','condition']].corr()\n",
        "correlation_matrix\n"
      ]
    },
    {
      "cell_type": "markdown",
      "metadata": {
        "id": "xZLELsmHhxIA"
      },
      "source": [
        "###### Analisando a matriz de correlação\n",
        "- Analisando os valores da matriz de correlação apresentada, podemos observar o seguinte:\n",
        "    - A coluna `price` possui uma correlação negativa com a coluna `idade_veiculo` (-0.412860), o que significa que, em geral, veículos mais antigos tendem a ter preços mais baixos.\n",
        "    - A coluna `price` também possui uma correlação negativa com a coluna `odometer` (-0.382454), indicando que veículos com maior quilometragem tendem a ter preços mais baixos.\n",
        "    - A coluna `price` possui uma correlação positiva fraca com a coluna `condition` (0.210787), sugerindo que veículos em melhor estado de conservação podem ter preços ligeiramente mais altos."
      ]
    },
    {
      "cell_type": "markdown",
      "metadata": {
        "id": "XW9xEaAbhxIA"
      },
      "source": [
        "###### Relação entre preço e variáveis analisadas\n",
        "\n",
        "- Considerando apenas os dados filtrados vamos analisar a relação entre o preço e diferentes variáveis. Colocamos as variáveis analisadas dentro de uma lista e percorremos essa lista com o loop for para criar gráficos de extremos para variáveis categóricas e gráficos de dispersáo para variáveis numéricas."
      ]
    },
    {
      "cell_type": "code",
      "execution_count": null,
      "metadata": {
        "id": "Faw6uhuvhxIA",
        "outputId": "7f7772a1-18cf-448f-f5d7-2170e25d2e4d"
      },
      "outputs": [
        {
          "data": {
            "image/png": "[encoded data removed]",
            "text/plain": [
              "<Figure size 432x288 with 1 Axes>"
            ]
          },
          "metadata": {
            "needs_background": "light"
          },
          "output_type": "display_data"
        },
        {
          "data": {
            "image/png": "[encoded data removed]",
            "text/plain": [
              "<Figure size 432x288 with 1 Axes>"
            ]
          },
          "metadata": {
            "needs_background": "light"
          },
          "output_type": "display_data"
        },
        {
          "data": {
            "image/png": "[encoded data removed]",
            "text/plain": [
              "<Figure size 432x288 with 1 Axes>"
            ]
          },
          "metadata": {
            "needs_background": "light"
          },
          "output_type": "display_data"
        },
        {
          "data": {
            "image/png": "[encoded data removed]",
            "text/plain": [
              "<Figure size 432x288 with 1 Axes>"
            ]
          },
          "metadata": {
            "needs_background": "light"
          },
          "output_type": "display_data"
        },
        {
          "data": {
            "image/png": "[encoded data removed]",
            "text/plain": [
              "<Figure size 432x288 with 1 Axes>"
            ]
          },
          "metadata": {
            "needs_background": "light"
          },
          "output_type": "display_data"
        }
      ],
      "source": [
        "variables = ['idade_veiculo','odometer','condition','transmission','paint_color']\n",
        "\n",
        "for variable in variables:\n",
        "    if variable in ['transmission','paint_color']:\n",
        "        #Gráfico de extrem os e quartis para variáveis categóricas\n",
        "        data_filtered.boxplot(column='price',by=variable)\n",
        "        plt.xlabel(variable)\n",
        "        plt.ylabel('Preço')\n",
        "        plt.title(f'Relação entre {variable} e Preço')\n",
        "        plt.xticks(rotation=45)\n",
        "        plt.show()\n",
        "    else:\n",
        "        #Gráficos de dispersão para variáveis numéricas\n",
        "        data_filtered.plot(x=variable,y='price',kind='scatter',color='green')\n",
        "        plt.xlabel(variable.capitalize())\n",
        "        plt.ylabel('Preço')\n",
        "        plt.title(f'Relação entre {variable} e Preço')\n",
        "        plt.show()"
      ]
    },
    {
      "cell_type": "markdown",
      "metadata": {
        "id": "N61z3AFNhxIC"
      },
      "source": [
        "## Conclusão geral\n",
        "\n",
        "A seguir listaremos as conclusões importantes"
      ]
    },
    {
      "cell_type": "markdown",
      "metadata": {
        "id": "4D3Pk6yPhxIC"
      },
      "source": [
        "- Após a análise e processamento dos dados, as seguintes conclusões podem ser destacadas:\n",
        "    1. **Valores ausentes:** Identificamos a presença de valores ausentes em algumas colunas, como \"model_year\", \"cylinders\", \"odometer\", \"is_4wd\" e \"days_listed\". Optamos por lidar com esses valores ausentes de acordo com a natureza das variáveis e os objetivos da análise. Para colunas numéricas, substituímos os valores ausentes pela mediana, enquanto para variáveis categóricas, substituímos por \"Unknown\".\n",
        "    2. **Duplicatas:** Verificamos a existência de duplicatas no conjunto de dados e as removemos para garantir a integridade dos resultados da análise.\n",
        "    3. **Valores atípicos:** Identificamos a presença de valores atípicos em algumas colunas, como \"price\", \"idade_veiculo\", \"odometer\", \"condition\" e outras. Para lidar com os valores atípicos, utilizamos a análise do boxplot e o cálculo do limite superior e inferior com base no intervalo interquartil (IQR). Em seguida, filtramos os dados, removendo os valores que estavam além desses limites.\n",
        "    4. **Análise de correlação:** Realizamos uma análise de correlação entre as variáveis \"price\", \"idade_veiculo\", \"odometer\" e \"condition\". Observamos que o preço possui uma correlação negativa moderada com a idade do veículo e a quilometragem, indicando que veículos mais antigos e com maior quilometragem tendem a ter preços mais baixos. Além disso, a correlação entre o preço e a condição do veículo é positiva, sugerindo que veículos em melhor estado de conservação tendem a ter preços mais altos.\n",
        "    5. **Análise gráfica:** Utilizamos gráficos de histograma, boxplot e dispersão para visualizar a distribuição e as relações entre as variáveis. Essas visualizações nos ajudaram a identificar padrões, tendências e possíveis insights em relação ao preço e outros parâmetros, como idade do veículo, quilometragem, condição, tipo de transmissão e cor.\n",
        "\n",
        "\n",
        "- Em resumo, ao processar e analisar os dados, lidamos com valores ausentes, duplicatas e valores atípicos, buscando preservar a integridade e a qualidade dos resultados. Através das análises estatísticas e visualizações gráficas, pudemos obter insights sobre as relações entre as variáveis e identificar padrões importantes que influenciam o preço dos veículos. Essas conclusões fornecem uma base sólida para uma análise mais aprofundada e tomada de decisões em relação aos veículos anunciados."
      ]
    }
  ],
  "metadata": {
    "ExecuteTimeLog": [
      {
        "duration": 828,
        "start_time": "2021-11-16T09:21:11.304Z"
      },
      {
        "duration": 893,
        "start_time": "2021-11-16T09:21:17.728Z"
      },
      {
        "duration": 1150,
        "start_time": "2021-11-16T09:21:29.568Z"
      },
      {
        "duration": 3,
        "start_time": "2021-11-16T09:24:14.495Z"
      },
      {
        "duration": 120,
        "start_time": "2021-11-16T09:24:46.630Z"
      },
      {
        "duration": 3,
        "start_time": "2021-11-16T09:28:27.882Z"
      },
      {
        "duration": 4,
        "start_time": "2021-11-16T09:29:54.281Z"
      },
      {
        "duration": 3,
        "start_time": "2021-11-16T09:30:45.936Z"
      },
      {
        "duration": 4,
        "start_time": "2021-11-16T09:31:06.300Z"
      },
      {
        "duration": 113,
        "start_time": "2021-11-16T09:31:37.208Z"
      },
      {
        "duration": 143,
        "start_time": "2021-11-16T09:31:48.656Z"
      },
      {
        "duration": 98,
        "start_time": "2021-11-16T09:31:55.678Z"
      },
      {
        "duration": 3,
        "start_time": "2021-11-16T09:32:08.535Z"
      },
      {
        "duration": 111,
        "start_time": "2021-11-16T09:32:10.120Z"
      },
      {
        "duration": 3,
        "start_time": "2021-11-16T09:32:15.732Z"
      },
      {
        "duration": 4,
        "start_time": "2021-11-16T09:32:29.423Z"
      },
      {
        "duration": 3,
        "start_time": "2021-11-16T10:03:03.074Z"
      },
      {
        "duration": 3,
        "start_time": "2021-11-16T10:10:01.288Z"
      },
      {
        "duration": 3,
        "start_time": "2021-11-16T10:10:46.923Z"
      },
      {
        "duration": 121,
        "start_time": "2021-11-16T10:37:46.494Z"
      },
      {
        "duration": 125,
        "start_time": "2021-11-16T10:38:20.632Z"
      },
      {
        "duration": 112,
        "start_time": "2021-11-16T10:46:53.001Z"
      },
      {
        "duration": 110,
        "start_time": "2021-11-16T10:48:25.775Z"
      },
      {
        "duration": 3,
        "start_time": "2021-11-16T10:50:18.720Z"
      },
      {
        "duration": 4,
        "start_time": "2021-11-16T10:50:37.649Z"
      },
      {
        "duration": 2,
        "start_time": "2021-11-16T10:50:51.884Z"
      },
      {
        "duration": 3,
        "start_time": "2021-11-16T10:51:56.237Z"
      },
      {
        "duration": 101,
        "start_time": "2021-11-16T10:53:13.791Z"
      },
      {
        "duration": 3,
        "start_time": "2021-11-16T10:55:59.186Z"
      },
      {
        "duration": 3,
        "start_time": "2021-11-16T10:56:10.751Z"
      },
      {
        "duration": 3,
        "start_time": "2021-11-16T10:56:49.038Z"
      },
      {
        "duration": 3,
        "start_time": "2021-11-16T10:56:49.174Z"
      },
      {
        "duration": 4,
        "start_time": "2021-11-16T10:56:49.414Z"
      },
      {
        "duration": 3,
        "start_time": "2021-11-16T10:56:49.680Z"
      },
      {
        "duration": 3,
        "start_time": "2021-11-16T10:56:50.370Z"
      },
      {
        "duration": 114,
        "start_time": "2021-11-16T10:59:34.518Z"
      },
      {
        "duration": 3,
        "start_time": "2021-11-16T11:01:41.201Z"
      },
      {
        "duration": 116,
        "start_time": "2021-11-16T11:01:48.754Z"
      },
      {
        "duration": 3,
        "start_time": "2021-11-16T11:02:16.685Z"
      },
      {
        "duration": 3,
        "start_time": "2021-11-16T11:02:19.479Z"
      },
      {
        "duration": 3,
        "start_time": "2021-11-16T11:02:47.067Z"
      },
      {
        "duration": 3,
        "start_time": "2021-11-16T11:02:49.353Z"
      },
      {
        "duration": 3,
        "start_time": "2021-11-16T11:03:07.835Z"
      },
      {
        "duration": 3,
        "start_time": "2021-11-16T11:03:07.953Z"
      },
      {
        "duration": 112,
        "start_time": "2021-11-16T11:07:52.072Z"
      },
      {
        "duration": 187,
        "start_time": "2021-11-16T11:09:23.468Z"
      },
      {
        "duration": 4,
        "start_time": "2021-11-16T11:10:01.455Z"
      },
      {
        "duration": 3,
        "start_time": "2021-11-16T11:10:05.069Z"
      },
      {
        "duration": 4,
        "start_time": "2021-11-16T11:10:13.376Z"
      },
      {
        "duration": 3,
        "start_time": "2021-11-16T11:10:14.434Z"
      },
      {
        "duration": 3,
        "start_time": "2021-11-16T11:10:22.853Z"
      },
      {
        "duration": 4,
        "start_time": "2021-11-16T11:27:29.279Z"
      },
      {
        "duration": 4,
        "start_time": "2021-11-16T11:29:08.919Z"
      },
      {
        "duration": 118,
        "start_time": "2021-11-16T11:29:46.703Z"
      },
      {
        "duration": 437,
        "start_time": "2021-11-16T11:36:02.181Z"
      },
      {
        "duration": 157,
        "start_time": "2021-11-16T11:36:14.388Z"
      },
      {
        "duration": 207,
        "start_time": "2021-11-16T11:47:15.898Z"
      },
      {
        "duration": 3,
        "start_time": "2021-11-16T11:53:52.092Z"
      },
      {
        "duration": 3,
        "start_time": "2021-11-16T11:53:52.236Z"
      },
      {
        "duration": 3,
        "start_time": "2021-11-16T11:59:12.005Z"
      },
      {
        "duration": 112,
        "start_time": "2021-11-16T12:00:33.446Z"
      },
      {
        "duration": 3,
        "start_time": "2021-11-16T12:02:14.453Z"
      },
      {
        "duration": 3,
        "start_time": "2021-11-16T12:02:39.512Z"
      },
      {
        "duration": 106,
        "start_time": "2021-11-16T12:03:03.460Z"
      }
    ],
    "colab": {
      "provenance": []
    },
    "kernelspec": {
      "display_name": "Python 3 (ipykernel)",
      "language": "python",
      "name": "python3"
    },
    "language_info": {
      "codemirror_mode": {
        "name": "ipython",
        "version": 3
      },
      "file_extension": ".py",
      "mimetype": "text/x-python",
      "name": "python",
      "nbconvert_exporter": "python",
      "pygments_lexer": "ipython3",
      "version": "3.9.5"
    },
    "toc": {
      "base_numbering": 1,
      "nav_menu": {},
      "number_sections": true,
      "sideBar": true,
      "skip_h1_title": false,
      "title_cell": "Table of Contents",
      "title_sidebar": "Contents",
      "toc_cell": false,
      "toc_position": {
        "height": "calc(100% - 180px)",
        "left": "10px",
        "top": "150px",
        "width": "165px"
      },
      "toc_section_display": true,
      "toc_window_display": false
    }
  },
  "nbformat": 4,
  "nbformat_minor": 0
}
